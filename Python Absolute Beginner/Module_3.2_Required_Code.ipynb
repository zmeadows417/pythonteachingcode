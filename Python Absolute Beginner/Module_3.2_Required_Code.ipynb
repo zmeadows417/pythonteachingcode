{
  "cells": [
    {
      "cell_type": "markdown",
      "metadata": {
        "collapsed": true
      },
      "source": [
        "#  Module 3 Required Coding Activity  \n",
        "Introduction to Python Unit 1 \n",
        "\n",
        "This is an activity based on code similar to the Jupyter Notebook **`Practice_MOD03_1-4_IntroPy.ipynb`** and **`Practice_MOD03_1-5_IntroPy.ipynb`** which you may have completed as practice.\n",
        "\n",
        "> **NOTE:** This program requires the use of **`if, elif, else`**, and casting between strings and numbers. The program should use the various code syntax covered in module 3.  \n",
        ">  \n",
        ">The program must result in print output using numeric input similar to that shown in the sample below.\n",
        "\n",
        "## Program: Cheese Order Function   \n",
        "- define function with max, min, price, and order_amount parameters\n",
        "- set default values for maximum and minimum order parameters  \n",
        "- set default value for price parameter\n",
        "- cast order_amount and other arguments to numbers  \n",
        "- check order_amount and give message checking against  \n",
        "  - over maximum\n",
        "  - under minimum\n",
        "- else within maximum and minimum give message with calculated price \n",
        "- call your function using order weight input from user\n",
        "\n",
        "\n",
        "Sample input and output:\n",
        "```\n",
        "Enter cheese order weight (numeric value): 113\n",
        "113.0 is more than currently available stock\n",
        "```\n",
        "\n",
        "```\n",
        "Enter cheese order weight (numeric value): .15\n",
        "0.15 is below minimum order amount\n",
        "```  \n",
        "\n",
        "```\n",
        "Enter cheese order weight (numeric value): 2\n",
        "2.0 costs $15.98\n",
        "```  "
      ]
    },
    {
      "cell_type": "code",
      "execution_count": 3,
      "metadata": {
        "trusted": false
      },
      "outputs": [
        {
          "name": "stdout",
          "output_type": "stream",
          "text": [
            "19.0 costs 56.81\n"
          ]
        }
      ],
      "source": [
        "# [ ] create, call and test \n",
        "#create\n",
        "def cheese_order() :\n",
        "    x = input(\"Enter cheese order weight (numeric value in pounds):\")\n",
        "    x = float(x)\n",
        "    if 1<= x <= 20 :\n",
        "        price = x * 2.99\n",
        "        print(x, \"costs\", price)\n",
        "    elif x>20 :\n",
        "        print(x, \"is more than currently available stock\")\n",
        "    elif x<1 :\n",
        "        print(x, \"is below minimun order amount\")\n",
        "    else :\n",
        "        print(\"invalid input (enter numeric value)\")\n",
        "cheese_order()\n"
      ]
    },
    {
      "cell_type": "markdown",
      "metadata": {},
      "source": [
        "Submit this by creating a python file (.py) and submitting it in D2L. Be sure to test that it works."
      ]
    }
  ],
  "metadata": {
    "kernelspec": {
      "display_name": "Python 3.9.12 ('base')",
      "language": "python",
      "name": "python3"
    },
    "language_info": {
      "codemirror_mode": {
        "name": "ipython",
        "version": 3
      },
      "file_extension": ".py",
      "mimetype": "text/x-python",
      "name": "python",
      "nbconvert_exporter": "python",
      "pygments_lexer": "ipython3",
      "version": "3.9.12"
    },
    "vscode": {
      "interpreter": {
        "hash": "5c63ba0b8f8ad222cc0b06bdcd9f04f10ed843d7f084a2f46bb405b77fc04261"
      }
    }
  },
  "nbformat": 4,
  "nbformat_minor": 1
}
