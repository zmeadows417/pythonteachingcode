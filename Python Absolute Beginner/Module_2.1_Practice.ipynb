{
 "cells": [
  {
   "cell_type": "markdown",
   "metadata": {},
   "source": [
    "# Module 2 Practice\n",
    "## Functions Arguments & Parameters\n",
    "<font size=\"5\" color=\"#00A0B2\"  face=\"verdana\"> <B>Student will be able to</B></font>  \n",
    "- **create functions with a parameter**  \n",
    "- **create functions with a `return` value** \n",
    "- **create functions with multiple parameters**\n",
    "- **use knowledge of sequence in coding tasks**  \n",
    "- **use coding best practices** "
   ]
  },
  {
   "cell_type": "markdown",
   "metadata": {},
   "source": [
    "## &nbsp;\n",
    "<font size=\"6\" color=\"#B24C00\"  face=\"verdana\"> <B>Tasks</B></font>"
   ]
  },
  {
   "cell_type": "code",
   "execution_count": null,
   "metadata": {},
   "outputs": [],
   "source": [
    "# [ ] define and call a function short_rhyme() that prints a 2 line rhyme\n",
    "\n"
   ]
  },
  {
   "cell_type": "code",
   "execution_count": 3,
   "metadata": {},
   "outputs": [
    {
     "name": "stdout",
     "output_type": "stream",
     "text": [
      "Harry Potter And The Chamber Of Secrets\n"
     ]
    }
   ],
   "source": [
    "# [ ] define (def) a simple function: title_it() and call the function\n",
    "# - has a string parameter: msg\n",
    "# - prints msg in Title Case\n",
    "def title_it(msg):\n",
    "    print(msg.title())\n",
    "title_it(\"harry potter and the chamber of secrets\")"
   ]
  },
  {
   "cell_type": "code",
   "execution_count": 4,
   "metadata": {},
   "outputs": [
    {
     "name": "stdout",
     "output_type": "stream",
     "text": [
      "what is the title?\n",
      "Harry Potter And The Chamber Of Secrets\n"
     ]
    }
   ],
   "source": [
    "# [ ] get user input with prompt \"what is the title?\" \n",
    "# [ ] call title_it() using input for the string argument\n",
    "print(\"what is the title?\")\n",
    "title_it(input())\n"
   ]
  },
  {
   "cell_type": "code",
   "execution_count": 5,
   "metadata": {},
   "outputs": [
    {
     "data": {
      "text/plain": [
       "'Harry Potter And The Chamber Of Secrets'"
      ]
     },
     "execution_count": 5,
     "metadata": {},
     "output_type": "execute_result"
    }
   ],
   "source": [
    "# [ ] define title_it_rtn() which returns a titled string instead of printing\n",
    "# [ ] call title_it_rtn() using input for the string argumetnt and print the result\n",
    "def title_it_rtn(msg):\n",
    "    return msg.title()\n",
    "title_it_rtn(input())\n"
   ]
  },
  {
   "cell_type": "markdown",
   "metadata": {},
   "source": [
    "## Program: bookstore()\n",
    "create and test bookstore()\n",
    "- **bookstore() takes 2 string arguments: book & price**\n",
    "- **bookstore returns a string in sentence form** \n",
    "- **bookstore() should call title_it_rtn()** with book parameter  \n",
    "- **gather input for book_entry and price_entry to use in calling bookstore()**\n",
    "- **print the return value of bookstore()**\n",
    ">example of output: **`Title: The Adventures Of Sherlock Holmes, costs $12.99`**"
   ]
  },
  {
   "cell_type": "code",
   "execution_count": 16,
   "metadata": {},
   "outputs": [
    {
     "name": "stdout",
     "output_type": "stream",
     "text": [
      "Enter Book and Price information into Bookstore:\n",
      "Title: The Giver\n",
      "Price: $10.00\n"
     ]
    }
   ],
   "source": [
    "# [ ] create, call and test bookstore() function\n",
    "print(\"Enter Book and Price information into Bookstore:\")\n",
    "book_entry=input()\n",
    "price_entry=input()\n",
    "\n",
    "def title_it_rtn(msg):\n",
    "    return msg.title()\n",
    "\n",
    "def bookstore(book_entry,price_entry):\n",
    "    print(\"Title:\",title_it_rtn(book_entry))\n",
    "    print(\"Price: $\" + price_entry)\n",
    "\n",
    "bookstore(book_entry,price_entry)\n",
    "\n",
    "\n"
   ]
  },
  {
   "cell_type": "markdown",
   "metadata": {},
   "source": [
    "### Fix the error"
   ]
  },
  {
   "cell_type": "code",
   "execution_count": 17,
   "metadata": {},
   "outputs": [
    {
     "name": "stdout",
     "output_type": "stream",
     "text": [
      "hello zac!\n"
     ]
    }
   ],
   "source": [
    "def get_name():\n",
    "    name_entry = input(\"enter a name: \")\n",
    "    return name_entry\n",
    "\n",
    "def get_greeting():\n",
    "    greeting_entry = input(\"enter a greeting: \")\n",
    "    return greeting_entry\n",
    "def make_greeting(name, greeting = \"Hello\"):\n",
    "    return (greeting + \" \" + name + \"!\")\n",
    "\n",
    "# get name and greeting, send to make_greeting \n",
    "print(make_greeting(get_name(), get_greeting()))\n",
    "\n",
    "\n",
    "\n",
    "\n",
    "\n"
   ]
  },
  {
   "cell_type": "markdown",
   "metadata": {},
   "source": [
    "\n",
    "[Terms of use](http://go.microsoft.com/fwlink/?LinkID=206977) &nbsp; [Privacy & cookies](https://go.microsoft.com/fwlink/?LinkId=521839) &nbsp; © 2017 Microsoft"
   ]
  }
 ],
 "metadata": {
  "anaconda-cloud": {},
  "kernelspec": {
   "display_name": "Python 3.9.12 ('base')",
   "language": "python",
   "name": "python3"
  },
  "language_info": {
   "codemirror_mode": {
    "name": "ipython",
    "version": 3
   },
   "file_extension": ".py",
   "mimetype": "text/x-python",
   "name": "python",
   "nbconvert_exporter": "python",
   "pygments_lexer": "ipython3",
   "version": "3.9.12"
  },
  "vscode": {
   "interpreter": {
    "hash": "5c63ba0b8f8ad222cc0b06bdcd9f04f10ed843d7f084a2f46bb405b77fc04261"
   }
  }
 },
 "nbformat": 4,
 "nbformat_minor": 1
}
