{
 "cells": [
  {
   "cell_type": "markdown",
   "metadata": {
    "slideshow": {
     "slide_type": "slide"
    }
   },
   "source": [
    "# Python Absolute Beginner Module 1: Introduction (P1M1)\n",
    "##  Getting started with Python in Jupyter Notebooks\n",
    "- **Python 3 in Jupyter notebooks**\n",
    "- **`print()`**\n",
    "- **comments** \n",
    "- data types basics\n",
    "- variables\n",
    "- addition with Strings and Integers \n",
    "- Errors\n",
    "- character art  \n",
    "\n",
    "-----\n",
    "\n",
    "\n",
    "><font size=\"5\" color=\"#00A0B2\"  face=\"verdana\"> <B>Student will be able to</B></font>\n",
    "- **use Python 3 in Jupyter notebooks**  \n",
    "- **write working code using `print()` and `#` comments**  \n",
    "- combine Strings using string addition (`+`)\n",
    "- add numbers in code (`+`) \n",
    "- troubleshoot errors\n",
    "- create character art\n",
    "\n",
    "# &nbsp;\n",
    "<font size=\"6\" color=\"#00A0B2\"  face=\"verdana\"> <B>Concept</B></font>\n",
    "## Hello World! - python&nbsp; `print()` statement\n",
    "We can use code to send a \"Hello World!\" to the standard output of the computer or Jupyter notebook using Python. The <a href=\"https://en.wikipedia.org/wiki/Standard_streams\" alt=\"Wikipedia article on Standard Output\">standard output</a> refers to a standard location where code on your computer, which typically gets displayed on your screen. \n",
    "\n",
    "Python has a very simple implementation: \n",
    "```python\n",
    "print(\"Hello World!\")\n",
    "```  \n",
    "\n",
    "# Watch this video walkthrough as you work\n",
    "## The big green circle play icon below links to a video walkthrough of this tutorial\n",
    "When you see a video walkthrough in the tutorials, click on it and watch it as you work to have a guided lesson on how to complete the tasks and learn the materials. This walkthrough covers tasks 1-5.\n",
    "[![view video](https://openclipart.org/download/219326/1432343177.svg)](https://youtu.be/iPU4aJEylEA)"
   ]
  },
  {
   "cell_type": "markdown",
   "metadata": {
    "slideshow": {
     "slide_type": "subslide"
    }
   },
   "source": [
    "## Run the examples below and think about what they do. \n",
    "Run the code in the code cell below in the Example area. To run it, **Click in the cell below** and **press \"Ctrl+Enter\"** to run the code. See the message show up below the cell? That is the standard output area for that code cell. Also, see that a number showed up in the \"In [ ]\" brackets to the cell's left? That shows the order in which your cell ran in this Jupyter notebook and that it has completed running. Our \"Hello World!\" program worked because this notebook hosts a python interpreter that can run python code cells.   \n",
    "\n",
    "Try showing \n",
    "```python \n",
    "\"Hello programmer!\" \n",
    "``` \n",
    "Enter new text inside the quotations in the cell below. Click on the cell to edit the code. \n",
    "\n",
    "What happens if any part of &nbsp;`print`&nbsp; is capitalized or what happens there are no quotation marks around the greeting? Hint: python is case sensitive. That means that Print() means nothing by default. Only print() with a lowercase p will work. So, be careful about your letter capitalization while coding.\n",
    "## Methods for running the code in a cell\n",
    "1. **Click in the cell below** and **press \"Ctrl+Enter\"** to run the code  \n",
    "&nbsp; &nbsp; or\n",
    "2. **Click in the cell below** and **press \"Shift+Enter\"** to run the code and move to the next cell  \n",
    "&nbsp;\n",
    "3. **Menu: Cell**...  \n",
    "  a. **> Run Cells** runs the highlighted cell(s)  \n",
    "  b. **> Run All Above** runs the highlighted cell and above  \n",
    "  c. **> Run All Below** runs the highlighted cell and below "
   ]
  },
  {
   "cell_type": "markdown",
   "metadata": {},
   "source": [
    "<font size=\"4\" color=\"#00A0B2\"  face=\"verdana\"> <B>Example</B></font> \n",
    "Run every example you find in these notebooks."
   ]
  },
  {
   "cell_type": "code",
   "execution_count": 11,
   "metadata": {
    "slideshow": {
     "slide_type": "subslide"
    }
   },
   "outputs": [
    {
     "name": "stdout",
     "output_type": "stream",
     "text": [
      "Hello World!\n"
     ]
    }
   ],
   "source": [
    "#  Review the code, run the code\n",
    "print(\"Hello World!\")"
   ]
  },
  {
   "cell_type": "code",
   "execution_count": 12,
   "metadata": {},
   "outputs": [
    {
     "name": "stdout",
     "output_type": "stream",
     "text": [
      "Hello programmer!\n"
     ]
    }
   ],
   "source": [
    "print(\"Hello programmer!\")"
   ]
  },
  {
   "cell_type": "code",
   "execution_count": null,
   "metadata": {},
   "outputs": [],
   "source": []
  },
  {
   "cell_type": "code",
   "execution_count": null,
   "metadata": {},
   "outputs": [],
   "source": []
  },
  {
   "cell_type": "markdown",
   "metadata": {},
   "source": [
    "<font size=\"6\" color=\"#00A0B2\"  face=\"verdana\"> <B>Concept</B></font>\n",
    "## Comments\n",
    "When coding, programmers include comments for explanation of how code works for reminders and to help others who encounter the code\n",
    "\n",
    "### comments start with the  `#`  symbol"
   ]
  },
  {
   "cell_type": "markdown",
   "metadata": {},
   "source": [
    "<font size=\"4\" color=\"#00A0B2\"  face=\"verdana\"> <B>Example</B></font>"
   ]
  },
  {
   "cell_type": "code",
   "execution_count": 3,
   "metadata": {},
   "outputs": [],
   "source": [
    "# this is how a comment looks in python code\n",
    "# every comment line starts with the # symbol\n",
    "# print(\"hello world\")"
   ]
  },
  {
   "cell_type": "markdown",
   "metadata": {},
   "source": [
    "# &nbsp;\n",
    "<font size=\"6\" color=\"#B24C00\"  face=\"verdana\"> <B>Task 1</B></font>\n",
    "## Program: \"Hello World!\" with comment\n",
    "- add a comment describing the code purpose\n",
    "- create an original \"Hello World\" style message"
   ]
  },
  {
   "cell_type": "code",
   "execution_count": 14,
   "metadata": {},
   "outputs": [
    {
     "name": "stdout",
     "output_type": "stream",
     "text": [
      "Hello World!\n"
     ]
    }
   ],
   "source": [
    "# this code will create text\n",
    "print(\"Hello World!\")"
   ]
  },
  {
   "cell_type": "markdown",
   "metadata": {},
   "source": [
    "# &nbsp;\n",
    "<font size=\"6\" color=\"#00A0B2\"  face=\"verdana\"> <B>Concepts</B></font>\n",
    "## Notebooks and Libraries\n",
    "Jupyter Notebooks provide a balance of jotting down important summary information along with proving a live code development environment where we can write and run python code.  We will walk through the basics and some best practices for notebook use.  \n",
    "\n",
    "## add/open a notebook library\n",
    "- New: in the menu above choose File > New Notebook > Python 3 to create a new notebook\n",
    "- Open: you can also open existing notebooks using the File > Open... dialog\n",
    "\n",
    "## working in notebook cells  \n",
    "- **Markdown cells** display text in a web page format. Markdown is code that formats the way the cell displays (*this cell is Markdown*)  \n",
    "&nbsp;  \n",
    "- **Code cells** contain python code and can be interpreted and run from a cell. Code cells display code and output.  \n",
    "&nbsp;  \n",
    "- **in edit** or **previously run:** cells can display in editing mode or cells can display results of *code* having been run \n",
    " \n",
    "### edit mode  \n",
    "- **text** cells in editing mode show markdown code  \n",
    "- Markdown cells keep editing mode appearance until the cell is run  \n",
    "- **code** (python 3) cells in editing look the same after editing, but may show different run output  \n",
    "- clicking another cell moves the green highlight that indicates which cell has active editing focus  \n",
    "  \n",
    "### cells need to be saved\n",
    "- the notebook will frequently auto save\n",
    "- **best practice** is to manually save after editing a cell using **\"Ctrl + S\"** or alternatively, **Menu: File > Save and Checkpoint**\n"
   ]
  },
  {
   "cell_type": "markdown",
   "metadata": {},
   "source": [
    "# &nbsp;\n",
    "<font size=\"6\" color=\"#00A0B2\"  face=\"verdana\"> <B>Concepts</B></font>\n",
    "## Altering Notebook Structure\n",
    "### add a cell\n",
    "- Highlight any cell and then... add a new cell using **Menu: Insert > Insert Cell Below** or **Insert Cell Above**\n",
    "- Add with Keyboard Shortcut: **\"a\"** to insert above or **\"b\"** to insert below\n",
    "\n",
    "### choose cell type\n",
    "- Format cells as Markdown or Code via the toolbar dropdown or **Menu: Cell > Cell Type > Code** or **Markdown** \n",
    "- Cells default to Code when created but can be reformatted from code to Markdown and vice versa  \n",
    "\n",
    "### change notebook page language\n",
    "- The course uses Python 3 but Jupyter Notebooks can be in various programming languages\n",
    "- To change a notebook to Python 3 go to **\"Menu: Kernel > Change Kernel> Python 3\"**\n",
    "- You will only see other programming language options for the Kernel if they are installed on your machine\n"
   ]
  },
  {
   "cell_type": "markdown",
   "metadata": {},
   "source": [
    "# &nbsp;\n",
    "<font size=\"6\" color=\"#B24C00\"  face=\"verdana\"> <B>Task 2</B></font>\n",
    "## Insert a new cell\n",
    "-  Insert a new Code cell below with a comment describing the task to \"create a new cell\"\n",
    "-  edit cell: add print() with the message \"after edit, save!\"\n",
    "-  run the cell"
   ]
  },
  {
   "cell_type": "code",
   "execution_count": null,
   "metadata": {},
   "outputs": [],
   "source": []
  },
  {
   "cell_type": "code",
   "execution_count": 15,
   "metadata": {},
   "outputs": [
    {
     "name": "stdout",
     "output_type": "stream",
     "text": [
      "after edit, save!\n"
     ]
    }
   ],
   "source": [
    "# create a new cell\n",
    "print(\"after edit, save!\")"
   ]
  },
  {
   "cell_type": "code",
   "execution_count": null,
   "metadata": {},
   "outputs": [],
   "source": []
  },
  {
   "cell_type": "markdown",
   "metadata": {},
   "source": [
    "### Insert another new cell\n",
    "- Insert a new Code cell below \n",
    "- edit cell: add print() with the message showing the keyboard Shortcut to save **s**\n",
    "- run the cell"
   ]
  },
  {
   "cell_type": "code",
   "execution_count": 16,
   "metadata": {},
   "outputs": [
    {
     "name": "stdout",
     "output_type": "stream",
     "text": [
      "save by clicking ctrl s\n"
     ]
    }
   ],
   "source": [
    "print(\"save by clicking ctrl s\")\n"
   ]
  },
  {
   "cell_type": "code",
   "execution_count": null,
   "metadata": {},
   "outputs": [],
   "source": []
  },
  {
   "cell_type": "markdown",
   "metadata": {
    "collapsed": true
   },
   "source": [
    "#  Module 1 Part 2\n",
    "##  Getting started with Python in Jupyter Notebooks\n",
    "- Python 3 in Jupyter notebooks\n",
    "- `print()`\n",
    "- Comments  \n",
    "- **data types basics**\n",
    "- **variables  **\n",
    "- addition with Strings and Integers \n",
    "- Errors\n",
    "- character art  \n",
    "\n",
    "-----\n",
    "\n",
    "\n",
    "><font size=\"5\" color=\"#00A0B2\"  face=\"verdana\"> <B>Student will be able to</B></font>\n",
    "- use Python 3 in Jupyter notebooks\n",
    "- **write working code using `print()` and `#` comments**  \n",
    "- write working code using `type()` and variables\n",
    "- combine Strings using string addition (+)\n",
    "- add numbers in code (+) \n",
    "- troubleshoot errors\n",
    "- create character art"
   ]
  },
  {
   "cell_type": "markdown",
   "metadata": {},
   "source": [
    "# &nbsp;\n",
    "<font size=\"6\" color=\"#00A0B2\"  face=\"verdana\"> <B>Concepts</B></font>\n",
    "## What is a **String?**  \n",
    "Strings were used in \"Hello World!\" print function examples. Strings are sets of characters.  In Python strings are in double or single quotes like `\"Hello World!\"` or `'after edit, save!'`  \n",
    "  \n",
    "A String is a common **type** of data, used in programming, consisting of a sequence of 1 or more characters. They are known formally as a **primitive data type.** The other primitive types are integer, float, and boolean. We will see those later.\n",
    "* **A String is a sequence of characters** (aka: a *string* of characters)  \n",
    "    * Character examples: `A, B, C, a, b, c, 1, 2, 3, !, &`\n",
    "* A String in Python is contained in quotes, single(') or double(\")\n",
    "    * String examples:  \"ABC\", 'Joana Dias', 'I have 2 pet cats.', \"item #3 cost \\$3.29 USD\"  \n",
    "    > **Note:** the quotes containing a string must come in matched pairs   \n",
    "    > - `\"Hello\"` or `'Hello'` are correctly formatted strings  \n",
    "    > - `\"Hello'` is incorrectly formatted starting with double \" and ending with single ' Python needs a matching quote to know where the string ends"
   ]
  },
  {
   "cell_type": "markdown",
   "metadata": {},
   "source": [
    "# &nbsp;\n",
    "<font size=\"4\" color=\"#00A0B2\"  face=\"verdana\"> <B>Example</B></font>"
   ]
  },
  {
   "cell_type": "code",
   "execution_count": 4,
   "metadata": {},
   "outputs": [
    {
     "name": "stdout",
     "output_type": "stream",
     "text": [
      "strings go in single\n",
      "or double quotes\n"
     ]
    }
   ],
   "source": [
    "# examples of printing strings with single and double quotes\n",
    "print('strings go in single')\n",
    "print(\"or double quotes\")"
   ]
  },
  {
   "cell_type": "markdown",
   "metadata": {},
   "source": [
    "# &nbsp;\n",
    "<font size=\"6\" color=\"#B24C00\"  face=\"verdana\"> <B>Task 3</B></font>    \n",
    "## print messages with \"double quotes\" and 'single' quotes"
   ]
  },
  {
   "cell_type": "code",
   "execution_count": 17,
   "metadata": {},
   "outputs": [
    {
     "name": "stdout",
     "output_type": "stream",
     "text": [
      "hey\n",
      "hey\n"
     ]
    }
   ],
   "source": [
    "# [ ] enter a string in the print() function using single quotes\n",
    "print('hey')\n",
    "# [ ] enter a string in the print() function using double quotes\n",
    "print(\"hey\")\n"
   ]
  },
  {
   "cell_type": "markdown",
   "metadata": {
    "slideshow": {
     "slide_type": "subslide"
    }
   },
   "source": [
    "## Q?: What is the difference between `123` and  `'123'`?  \n",
    "  \n",
    "**A:** A String type **is not** a number, even if it  is all numeric digits\n",
    "* in Python code a number can be assigned to a variable: `x = 31`\n",
    "* a string of digits can be assigned to the variable **`id`**&nbsp; --> `id = \"001023\"`&nbsp; the quotations, mean the number symbols should be stored in the variable as **type** string, meaning the digits&nbsp;\"`001023`\"&nbsp; are treated as text\n",
    "    \n",
    "The **`print()`** function can print Integer or string values:\n",
    "```python\n",
    "print(123) #integer, with numeric value\n",
    "print(\"123\") #string, represents text characters\n",
    "```  \n",
    "\n",
    "- run the above code in the next cell:  "
   ]
  },
  {
   "cell_type": "code",
   "execution_count": 6,
   "metadata": {},
   "outputs": [
    {
     "name": "stdout",
     "output_type": "stream",
     "text": [
      "123\n",
      "123\n"
     ]
    }
   ],
   "source": [
    "print(123) #integer, with numeric value\n",
    "print(\"123\") #string, represents text characters"
   ]
  },
  {
   "cell_type": "markdown",
   "metadata": {
    "collapsed": true,
    "slideshow": {
     "slide_type": "slide"
    }
   },
   "source": [
    "# &nbsp;\n",
    "<font size=\"6\" color=\"#00A0B2\"  face=\"verdana\"> <B>Concepts</B></font>\n",
    "## Integers are another primitive data type\n",
    "- whole numbers such as `-2, -1, 0, 1, 2, 3` are Integers \n",
    "- Integers are **not placed in quotes**  \n",
    "  \n",
    "A String can contain any character, this includes letters, spaces, punctuation, number digits and formatting. In a string with digits (`\"123\"`) the digits are text images rather than representations of numeric values.  \n",
    "\n",
    ">**remember** a line of python code starting with the pound or hash symbol (**#**) indicates a **comment**  \n",
    "&nbsp;  \n",
    "comments are for humans to read and are not run by computers\n",
    "\n"
   ]
  },
  {
   "cell_type": "markdown",
   "metadata": {},
   "source": [
    "# &nbsp;\n",
    "<font size=\"6\" color=\"#00A0B2\"  face=\"verdana\"> <B>Examples</B></font>"
   ]
  },
  {
   "cell_type": "code",
   "execution_count": 7,
   "metadata": {},
   "outputs": [
    {
     "name": "stdout",
     "output_type": "stream",
     "text": [
      "299\n",
      "2017\n"
     ]
    }
   ],
   "source": [
    "# printing an Integer with python\n",
    "print(299)\n",
    "\n",
    "# printing a string made of Integer (number) characters with python\n",
    "print(\"2017\")"
   ]
  },
  {
   "cell_type": "markdown",
   "metadata": {},
   "source": [
    "<font size=\"6\" color=\"#B24C00\"  face=\"verdana\"> <B>Task 4</B></font> \n",
    "- **print Integers**\n",
    "- ** print strings made of Integer characters**"
   ]
  },
  {
   "cell_type": "code",
   "execution_count": 18,
   "metadata": {},
   "outputs": [
    {
     "name": "stdout",
     "output_type": "stream",
     "text": [
      "417\n",
      "417\n"
     ]
    }
   ],
   "source": [
    "# [ ] print an Integer\n",
    "print(417)\n",
    "\n",
    "# [ ] print a strings made of Integer characters\n",
    "\n",
    "print(\"417\")\n"
   ]
  },
  {
   "cell_type": "markdown",
   "metadata": {},
   "source": [
    ">**Student Tip:** look for **[ ]** , which indicates a task in the notebook needs to be completed.  \n",
    "Edit and Run to complete the task  "
   ]
  },
  {
   "cell_type": "markdown",
   "metadata": {},
   "source": [
    "# &nbsp;\n",
    "<font size=\"6\" color=\"#00A0B2\"  face=\"verdana\"> <B>Concepts</B></font>\n",
    "## Variables & Storing Data in **Variables**  \n",
    "### Variables are named containers\n",
    "Computer programs often create storage for things that are used in repeated processing like item_price, student_name, stock_symbol. In python a variable  is a type of **object** that can be addressed by name to access the assigned contents.\n",
    "\n",
    "#### Name a variable staring with a letter or underscore \"_\"; You cannot begin the name with a number or reserved word\n",
    "There are different styles for creating variables this course uses lowercase descriptive names connected by underscores:\n",
    "- item_price\n",
    "- student_name\n",
    "- stock_symbol  \n",
    "\n",
    "descriptive names reduce the need for comments in the code and make it easier to share code or read code written long ago\n",
    "\n",
    "### Variables can hold strings\n",
    "once a variable is **assigned**:\n",
    ">**`current_msg = \"I am a string\" `**  \n",
    "  \n",
    "a python program can refer to the variable, &nbsp; **`current_msg`**, &nbsp; in code  \n",
    "so that &nbsp;**` current_msg `**, can be used like the string value &nbsp;(**`\"I am a string\"`**) &nbsp; which it stores  \n",
    "  \n",
    "### Variable reassignment\n",
    "We can reassign a variable, changing the contents.   **`current_msg = \"new current message\" `**  \n",
    "\n",
    "### Variables can be used in place of literals \n",
    "If we initialize **`current_msg = \"new current message\" `** then  \n",
    "the literal string **` \"new current message\" `** and the variable **` current_msg `** are the same when used in code"
   ]
  },
  {
   "cell_type": "markdown",
   "metadata": {},
   "source": [
    "\n",
    "<font size=\"4\" color=\"#00A0B2\"  face=\"verdana\"> <B>Examples</B></font>\n",
    "- **Initializing variables**\n",
    "- **literals & variables** in printing\n",
    "- **Variable reassignment**"
   ]
  },
  {
   "cell_type": "code",
   "execution_count": 20,
   "metadata": {},
   "outputs": [
    {
     "name": "stdout",
     "output_type": "stream",
     "text": [
      "I am a string\n",
      "I am a string\n"
     ]
    }
   ],
   "source": [
    "# [ ] Review code and Run\n",
    "# initialize the variable\n",
    "current_msg = \"I am a string\"\n",
    "\n",
    "# print literal string\n",
    "print(\"I am a string\")\n",
    "\n",
    "# print variable string\n",
    "print(current_msg)"
   ]
  },
  {
   "cell_type": "code",
   "execution_count": 23,
   "metadata": {
    "scrolled": true
   },
   "outputs": [
    {
     "name": "stdout",
     "output_type": "stream",
     "text": [
      "Run this cell using Ctrl+Enter\n",
      "*Hacker voice* Im in.\n"
     ]
    }
   ],
   "source": [
    "# [ ] Review code and Run\n",
    "# assign a new string to the current_msg\n",
    "current_msg = \"Run this cell using Ctrl+Enter\"\n",
    "\n",
    "print(current_msg)\n",
    "\n",
    "current_msg = \"*Hacker voice* Im in.\"\n",
    "\n",
    "print(current_msg)"
   ]
  },
  {
   "cell_type": "markdown",
   "metadata": {},
   "source": [
    "\n",
    "<font size=\"6\" color=\"#B24C00\"  face=\"verdana\"> <B>Task 5</B></font> \n",
    "## Program: assigning values to a string\n",
    "- in the cell below\n",
    "  - print the variable current_msg  \n",
    "  - assign a new string to current_msg  \n",
    "  - print the variable  current_msg again\n",
    "- run the code cell above and then run the cell below"
   ]
  },
  {
   "cell_type": "code",
   "execution_count": 24,
   "metadata": {},
   "outputs": [
    {
     "name": "stdout",
     "output_type": "stream",
     "text": [
      "*Hacker voice* Im in.\n",
      "It is done\n"
     ]
    }
   ],
   "source": [
    "# { ] run cell above then run this cell after completing the code as directed\n",
    "\n",
    "print(current_msg)\n",
    "\n",
    "current_msg=\"It is done\"\n",
    "\n",
    "print(current_msg)"
   ]
  },
  {
   "cell_type": "markdown",
   "metadata": {},
   "source": [
    "**Q?:** In the cell above, why did the variable have a value to print before it was assigned?  \n",
    "  \n",
    "Jupyter notebooks run cells individually.  Any cell in the notebook can access a variable assigned from a cell that has been run in the current notebook session."
   ]
  },
  {
   "cell_type": "markdown",
   "metadata": {
    "slideshow": {
     "slide_type": "subslide"
    }
   },
   "source": [
    "# &nbsp;\n",
    "<font size=\"6\" color=\"#00A0B2\"  face=\"verdana\"> <B>Concepts</B></font>\n",
    "## Data types in variables\n",
    "variables can be initialized with different data types.  Below we see item_price is a **decimal** (aka - float) and student_name is **string** \n",
    "  \n",
    "```python\n",
    "item_price = 10.25 #item_price initialized as a numeric value (no quotes)\n",
    "student_name =\"Dias, Joana\" #student_name initialized as a string\n",
    "license_plate = \"123A\" #license_plate initialized as a string\n",
    "```\n",
    "# Walkthrough video for tasks 6-12\n",
    "[![view video](https://openclipart.org/download/219326/1432343177.svg)](https://youtu.be/y59XBWNTM_Y)\n",
    "\n",
    "### Variables can start initialized as an Integer number data type  \n",
    ">```python \n",
    "x = 22\n",
    "``` \n",
    "here the Integer `22`&nbsp; value was assigned to the variable &nbsp;**`x`**    \n",
    "\n",
    "### The type of data a variable holds can be changed,\n",
    "### Python variables can change the **type** of data a variable holds  \n",
    "\n",
    ">```python\n",
    "x = 22\n",
    "x = \"I am a string\"\n",
    "```  \n",
    "\n",
    "**` x `**&nbsp; changed type from Integer &nbsp;**`x = 22`**&nbsp; to string&nbsp; **`x = \"I am a string\"`**  \n",
    "   \n",
    ">>|Best Practice: Friendly Names |\n",
    "|------------------------------------------------------------------------------------------|\n",
    "| **Friendly name** examples, (`item_price, student_name,license_plate`), were used above. |  \n",
    "  \n",
    "  \n",
    "#### Variables help us to write code that can be used repeatedly\n",
    "A personalized letter can be sent to every student with individual names by using a name in a variable. Let's start with printing a name based on string variable.\n",
    "\n",
    "Create a variable, `name`, at the top of the next cell. Assign a string value to &nbsp; `name `. \n",
    "\n",
    "> Remember to use the quotes for string values\n",
    "\n",
    "example:\n",
    "\n",
    "```python\n",
    "name = \"Joana Dias\"\n",
    "print(name)\n",
    "```"
   ]
  },
  {
   "cell_type": "markdown",
   "metadata": {},
   "source": [
    "\n",
    "<font size=\"4\" color=\"#00A0B2\"  face=\"verdana\"> <B>Examples</B></font>"
   ]
  },
  {
   "cell_type": "code",
   "execution_count": null,
   "metadata": {},
   "outputs": [],
   "source": [
    "test_value = 22\n",
    "print(test_value)\n",
    "test_value = \"Joana\"\n",
    "print(test_value)"
   ]
  },
  {
   "cell_type": "markdown",
   "metadata": {},
   "source": [
    "<font size=\"6\" color=\"#B24C00\"  face=\"verdana\"> <B>Task 6</B></font> \n",
    "## Assign a variable and print the value\n",
    "- assign a string value to a variable **`student_name`**\n",
    "- print the value of variable **`student_name`**"
   ]
  },
  {
   "cell_type": "code",
   "execution_count": 25,
   "metadata": {
    "slideshow": {
     "slide_type": "subslide"
    }
   },
   "outputs": [
    {
     "name": "stdout",
     "output_type": "stream",
     "text": [
      "Zac Meadows\n"
     ]
    }
   ],
   "source": [
    "# [ ] assign a string value to a variable student_name\n",
    "student_name=\"Zac Meadows\"\n",
    "# [ ] print the value of variable student_name\n",
    "\n",
    "print(student_name)"
   ]
  },
  {
   "cell_type": "markdown",
   "metadata": {},
   "source": [
    "##  modify the value of a variable\n",
    "- assign the **`student_name`** variable  a different string value (a different name)\n",
    "- print the value of variable **`student_name`**\n",
    "- assign and print a 3rd value to **`student_name`**"
   ]
  },
  {
   "cell_type": "code",
   "execution_count": 26,
   "metadata": {},
   "outputs": [
    {
     "name": "stdout",
     "output_type": "stream",
     "text": [
      "Jas Taylor\n",
      "Sam Meadows\n"
     ]
    }
   ],
   "source": [
    "# [ ] assign the student_name variable  a different string value (a different name)\n",
    "student_name=\"Jas Taylor\"\n",
    "# [ ] print the value of variable student_name\n",
    "print(student_name)\n",
    "# [ ] assign a 3rd different string value, to the variable name \n",
    "student_name=\"Sam Meadows\"\n",
    "# [ ] print the value of variable name\n",
    "print(student_name)\n"
   ]
  },
  {
   "cell_type": "markdown",
   "metadata": {},
   "source": [
    "##  change variable type with reassignment\n",
    "- assigning a value to a variable called **`bucket`**\n",
    "- print the value of **`bucket`**\n",
    "- assign an Integer value (no quotes) to the variable **`bucket`**\n",
    "-  print the value of **`bucket`** "
   ]
  },
  {
   "cell_type": "code",
   "execution_count": 27,
   "metadata": {},
   "outputs": [
    {
     "name": "stdout",
     "output_type": "stream",
     "text": [
      "12\n",
      "12\n"
     ]
    }
   ],
   "source": [
    "# [ ] assigning a value to a variable called bucket\n",
    "bucket =\"12\"\n",
    "# [ ] print the value of bucket \n",
    "print(bucket)\n",
    "# [ ] assign an Integer value (no quotes) to the variable bucket\n",
    "bucket= 12\n",
    "# [ ] print the value of bucket \n",
    "print(bucket)\n",
    "\n"
   ]
  },
  {
   "cell_type": "markdown",
   "metadata": {
    "slideshow": {
     "slide_type": "slide"
    }
   },
   "source": [
    "# Module 1 Part 3\n",
    "##  Getting started with Python in Jupyter Notebooks\n",
    "- Python 3 in Jupyter notebooks\n",
    "- `print()`\n",
    "- comments  \n",
    "- **data types basics**\n",
    "- **variables**  \n",
    "- addition with Strings and Integers\n",
    "- Errors  \n",
    "- character art  \n",
    "\n",
    "-----\n",
    "\n",
    "\n",
    "><font size=\"5\" color=\"#00A0B2\"  face=\"verdana\"> <B>Student will be able to</B></font>\n",
    "- use Python 3 in Jupyter notebooks\n",
    "- write working code using `print()` and `#` comments  \n",
    "- **write working code using `type()` and variables**\n",
    "- combine Strings using string addition (+)\n",
    "- add numbers in code (+)\n",
    "- troubleshoot errors\n",
    "- create character art"
   ]
  },
  {
   "cell_type": "markdown",
   "metadata": {},
   "source": [
    "# &nbsp;\n",
    "<font size=\"6\" color=\"#00A0B2\"  face=\"verdana\"> <B>Concepts</B></font>\n",
    "## Using the Python `type()` function\n",
    "**`type()`** returns the data type of python objects\n",
    "\n",
    "### `str`, `int`, `float`  \n",
    "#### What does using `type()` reveal?\n",
    "- **`str`**: when **type()** returns **str** that means it has evaluated a **string** characters (numbers, letters, punctuation...) in quotes \n",
    "- **`int`**: when **type()** returns **int** that means it has evaluated an **Integer** (+/- whole numbers) \n",
    "- **`float`**: when **type()** returns **`float`** that means it has evaluated decimal numbers (e.g. 3.33, 0.01, 9.9999 and 3.0), ...more later in the course\n"
   ]
  },
  {
   "cell_type": "markdown",
   "metadata": {},
   "source": [
    "# &nbsp;\n",
    "<font size=\"6\" color=\"#00A0B2\"  face=\"verdana\"> <B>Examples</B></font>\n",
    "- Read and run the code for each sample"
   ]
  },
  {
   "cell_type": "code",
   "execution_count": 28,
   "metadata": {},
   "outputs": [
    {
     "data": {
      "text/plain": [
       "str"
      ]
     },
     "execution_count": 28,
     "metadata": {},
     "output_type": "execute_result"
    }
   ],
   "source": [
    "# [ ] Read and run the code\n",
    "type(\"Hello World!\")"
   ]
  },
  {
   "cell_type": "code",
   "execution_count": 29,
   "metadata": {},
   "outputs": [
    {
     "data": {
      "text/plain": [
       "int"
      ]
     },
     "execution_count": 29,
     "metadata": {},
     "output_type": "execute_result"
    }
   ],
   "source": [
    "type(501)"
   ]
  },
  {
   "cell_type": "code",
   "execution_count": 30,
   "metadata": {},
   "outputs": [
    {
     "data": {
      "text/plain": [
       "float"
      ]
     },
     "execution_count": 30,
     "metadata": {},
     "output_type": "execute_result"
    }
   ],
   "source": [
    "type(8.33333)"
   ]
  },
  {
   "cell_type": "code",
   "execution_count": 31,
   "metadata": {},
   "outputs": [
    {
     "data": {
      "text/plain": [
       "str"
      ]
     },
     "execution_count": 31,
     "metadata": {},
     "output_type": "execute_result"
    }
   ],
   "source": [
    "student_name = \"Colette Browning\"\n",
    "type(student_name)"
   ]
  },
  {
   "cell_type": "markdown",
   "metadata": {},
   "source": [
    "\n",
    "<font size=\"6\" color=\"#B24C00\"  face=\"verdana\"> <B>Task 7</B></font> \n",
    "## Using `type()`\n",
    "- Complete the \"identify data types\" tasks by assigning  values to the variable&nbsp; **`bucket`** and using **`type()`** "
   ]
  },
  {
   "cell_type": "code",
   "execution_count": 32,
   "metadata": {},
   "outputs": [
    {
     "data": {
      "text/plain": [
       "int"
      ]
     },
     "execution_count": 32,
     "metadata": {},
     "output_type": "execute_result"
    }
   ],
   "source": [
    "# [ ] show the type after assigning bucket = a whole number value such as 16 \n",
    "bucket = 16\n",
    "type(bucket)\n",
    "\n"
   ]
  },
  {
   "cell_type": "code",
   "execution_count": null,
   "metadata": {},
   "outputs": [],
   "source": [
    "# [ ] show  the type after assigning bucket = a word in \"double quotes\"\n",
    "bucket = \"12\"\n",
    "type(bucket)\n"
   ]
  },
  {
   "cell_type": "code",
   "execution_count": 33,
   "metadata": {},
   "outputs": [
    {
     "data": {
      "text/plain": [
       "str"
      ]
     },
     "execution_count": 33,
     "metadata": {},
     "output_type": "execute_result"
    }
   ],
   "source": [
    "# [ ] display the type of 'single quoting' (use single quotes) \n",
    "bucket = '12'\n",
    "type(bucket)\n",
    "\n",
    "\n"
   ]
  },
  {
   "cell_type": "code",
   "execution_count": 34,
   "metadata": {},
   "outputs": [
    {
     "data": {
      "text/plain": [
       "str"
      ]
     },
     "execution_count": 34,
     "metadata": {},
     "output_type": "execute_result"
    }
   ],
   "source": [
    "# [ ] display the type of \"double quoting\" (use double quotes)\n",
    "type(\"hello\")\n"
   ]
  },
  {
   "cell_type": "code",
   "execution_count": 35,
   "metadata": {},
   "outputs": [
    {
     "data": {
      "text/plain": [
       "str"
      ]
     },
     "execution_count": 35,
     "metadata": {},
     "output_type": "execute_result"
    }
   ],
   "source": [
    "# [ ] display the type of \"12\" (use quotes)\n",
    "\n",
    "type(\"12\")"
   ]
  },
  {
   "cell_type": "code",
   "execution_count": 36,
   "metadata": {},
   "outputs": [
    {
     "data": {
      "text/plain": [
       "int"
      ]
     },
     "execution_count": 36,
     "metadata": {},
     "output_type": "execute_result"
    }
   ],
   "source": [
    "# [ ] display the type of 12 (no quotes)\n",
    "type(12)\n"
   ]
  },
  {
   "cell_type": "code",
   "execution_count": 37,
   "metadata": {},
   "outputs": [
    {
     "data": {
      "text/plain": [
       "int"
      ]
     },
     "execution_count": 37,
     "metadata": {},
     "output_type": "execute_result"
    }
   ],
   "source": [
    "# [ ] display the type of -12 (no quotes)\n",
    "\n",
    "type(-12)"
   ]
  },
  {
   "cell_type": "code",
   "execution_count": 38,
   "metadata": {},
   "outputs": [
    {
     "data": {
      "text/plain": [
       "float"
      ]
     },
     "execution_count": 38,
     "metadata": {},
     "output_type": "execute_result"
    }
   ],
   "source": [
    "# [ ] display the type of 12.0 (no quotes)\n",
    "\n",
    "type(12.0)"
   ]
  },
  {
   "cell_type": "code",
   "execution_count": 39,
   "metadata": {},
   "outputs": [
    {
     "data": {
      "text/plain": [
       "float"
      ]
     },
     "execution_count": 39,
     "metadata": {},
     "output_type": "execute_result"
    }
   ],
   "source": [
    "# [ ] display the type of 1.55\n",
    "\n",
    "type(1.55)"
   ]
  },
  {
   "cell_type": "code",
   "execution_count": 41,
   "metadata": {},
   "outputs": [
    {
     "ename": "SyntaxError",
     "evalue": "invalid syntax. Perhaps you forgot a comma? (3033919004.py, line 2)",
     "output_type": "error",
     "traceback": [
      "\u001b[1;36m  Input \u001b[1;32mIn [41]\u001b[1;36m\u001b[0m\n\u001b[1;33m    type(no quotes)\u001b[0m\n\u001b[1;37m         ^\u001b[0m\n\u001b[1;31mSyntaxError\u001b[0m\u001b[1;31m:\u001b[0m invalid syntax. Perhaps you forgot a comma?\n"
     ]
    }
   ],
   "source": [
    "# [ ] find the type of the type(3) statement (no quotes) - just for fun\n",
    "type(no quotes)\n"
   ]
  },
  {
   "cell_type": "markdown",
   "metadata": {
    "slideshow": {
     "slide_type": "slide"
    }
   },
   "source": [
    "# Module 1 Part 4\n",
    "##  Getting started with Python in Jupyter Notebooks\n",
    "- Python 3 in Jupyter notebooks\n",
    "- `print()`\n",
    "- comments  \n",
    "- data types basics\n",
    "- variables  \n",
    "- **Addition with Strings and Integers**\n",
    "- **Errors**  \n",
    "- character art  \n",
    "\n",
    "-----\n",
    "\n",
    "\n",
    "><font size=\"5\" color=\"#00A0B2\"  face=\"verdana\"> <B>Student will be able to</B></font>\n",
    "- use Python 3 in Jupyter notebooks\n",
    "- write working code using `print()` and `#` comments  \n",
    "- write working code using `type()` and variables\n",
    "- combine Strings using string addition (+)\n",
    "- **add numbers in code (+)**  \n",
    "- **troubleshoot errors**  \n",
    "- create character art"
   ]
  },
  {
   "cell_type": "markdown",
   "metadata": {},
   "source": [
    "# &nbsp;\n",
    "<font size=\"6\" color=\"#00A0B2\"  face=\"verdana\"> <B>Concepts</B></font>\n",
    "## Addition: Numbers and Strings  \n",
    "\n",
    "### Numeric addition\n",
    "**Numeric addition** Single line *math equations*, run in a code cell, will output a sum \n",
    "```python\n",
    "# adding a pair of single digit Integers\n",
    "3 + 5  \n",
    "```  \n",
    "## String addition\n",
    "**string addition** single line *equations*, run in a code cell, will output a single concatenated string  \n",
    "> **Tip:** all strings must be in quotes  \n",
    "    \n",
    "```python\n",
    "# adding a pair of strings\n",
    "\"I wear \" + \"a hat\"  \n",
    "```  \n",
    "We can also **add variables** as long as we add strings to strings and numbers to numbers"
   ]
  },
  {
   "cell_type": "markdown",
   "metadata": {},
   "source": [
    "\n",
    "<font size=\"4\" color=\"#00A0B2\"  face=\"verdana\"> <B>Examples</B></font>\n",
    "## String and Number Addition"
   ]
  },
  {
   "cell_type": "code",
   "execution_count": 42,
   "metadata": {},
   "outputs": [
    {
     "data": {
      "text/plain": [
       "41"
      ]
     },
     "execution_count": 42,
     "metadata": {},
     "output_type": "execute_result"
    }
   ],
   "source": [
    "# [ ] Review and run code for adding a pair of 2 digit Integers\n",
    "23 + 18"
   ]
  },
  {
   "cell_type": "code",
   "execution_count": 43,
   "metadata": {},
   "outputs": [
    {
     "data": {
      "text/plain": [
       "'my name is Alyssa'"
      ]
     },
     "execution_count": 43,
     "metadata": {},
     "output_type": "execute_result"
    }
   ],
   "source": [
    "# [ ] Review and run code for adding 2 strings\n",
    "\"my name is \" + \"Alyssa\"  "
   ]
  },
  {
   "cell_type": "code",
   "execution_count": 44,
   "metadata": {},
   "outputs": [
    {
     "data": {
      "text/plain": [
       "'my shoe color is brown'"
      ]
     },
     "execution_count": 44,
     "metadata": {},
     "output_type": "execute_result"
    }
   ],
   "source": [
    "# [ ] Review and run code for adding a variable string and a literal string\n",
    "shoe_color = \"brown\"\n",
    "\"my shoe color is \" + shoe_color"
   ]
  },
  {
   "cell_type": "markdown",
   "metadata": {},
   "source": [
    "\n",
    "<font size=\"6\" color=\"#B24C00\"  face=\"verdana\"> <B>Task 8</B></font>\n",
    "## String and Number Addition"
   ]
  },
  {
   "cell_type": "code",
   "execution_count": 45,
   "metadata": {},
   "outputs": [
    {
     "data": {
      "text/plain": [
       "85"
      ]
     },
     "execution_count": 45,
     "metadata": {},
     "output_type": "execute_result"
    }
   ],
   "source": [
    "# [ ] add 3 integer numbers\n",
    "12 + 4 + 69\n"
   ]
  },
  {
   "cell_type": "code",
   "execution_count": 46,
   "metadata": {},
   "outputs": [
    {
     "data": {
      "text/plain": [
       "429.23"
      ]
     },
     "execution_count": 46,
     "metadata": {},
     "output_type": "execute_result"
    }
   ],
   "source": [
    "# [ ] add a float number and an integer number\n",
    "\n",
    "12.23 + 417"
   ]
  },
  {
   "cell_type": "code",
   "execution_count": 49,
   "metadata": {},
   "outputs": [
    {
     "data": {
      "text/plain": [
       "'this notebook belongs to Zac'"
      ]
     },
     "execution_count": 49,
     "metadata": {},
     "output_type": "execute_result"
    }
   ],
   "source": [
    "# [ ] Add the string \"This notebook belongs to \" and a string with your first name\n",
    "\"this notebook belongs to\" +  \" Zac\"\n"
   ]
  },
  {
   "cell_type": "code",
   "execution_count": 50,
   "metadata": {},
   "outputs": [
    {
     "data": {
      "text/plain": [
       "418"
      ]
     },
     "execution_count": 50,
     "metadata": {},
     "output_type": "execute_result"
    }
   ],
   "source": [
    "# [ ] Create variables sm_number and big_number and assign numbers then add the numbers\n",
    "sm_number= 1\n",
    "big_number= 417\n",
    "sm_number + big_number\n"
   ]
  },
  {
   "cell_type": "code",
   "execution_count": 51,
   "metadata": {},
   "outputs": [
    {
     "data": {
      "text/plain": [
       "'Zac, remember to save the notebook frequently'"
      ]
     },
     "execution_count": 51,
     "metadata": {},
     "output_type": "execute_result"
    }
   ],
   "source": [
    "# [ ] assign a string value to the variable first_name and add to the string \", remember to save the notebook frequently\"\n",
    "first_name =\"Zac\"\n",
    "first_name + \", remember to save the notebook frequently\""
   ]
  },
  {
   "cell_type": "markdown",
   "metadata": {},
   "source": [
    "# &nbsp;\n",
    "<font size=\"6\" color=\"#00A0B2\"  face=\"verdana\"> <B>Concepts</B></font>  \n",
    "## use addition in variable assignments  \n",
    "It is common to store the results of addition in a variable\n",
    "\n",
    "## use addition in `print ()`   \n",
    "Use **`print()`** to show the results of multiple lines of output  \n",
    " "
   ]
  },
  {
   "cell_type": "markdown",
   "metadata": {},
   "source": [
    "<font size=\"4\" color=\"#00A0B2\"  face=\"verdana\"> <B>Examples</B></font>\n",
    "## addition in variable assignments and in `print()`"
   ]
  },
  {
   "cell_type": "code",
   "execution_count": 52,
   "metadata": {},
   "outputs": [
    {
     "name": "stdout",
     "output_type": "stream",
     "text": [
      "50\n",
      "Happy Birthday Alton\n"
     ]
    }
   ],
   "source": [
    "# [ ] review & run code for assigning variables & using addition\n",
    "add_two = 34 + 16\n",
    "first_name = \"Alton\"\n",
    "greeting = \"Happy Birthday \" + first_name\n",
    "\n",
    "print(add_two)\n",
    "print(greeting)"
   ]
  },
  {
   "cell_type": "code",
   "execution_count": 53,
   "metadata": {},
   "outputs": [
    {
     "name": "stdout",
     "output_type": "stream",
     "text": [
      "13\n",
      "26\n",
      "\n"
     ]
    }
   ],
   "source": [
    "#  [ ] review & run code for Integer addition in variables and in a print function\n",
    "int_sum = 6 + 7\n",
    "print(int_sum)\n",
    "print(11 + 15)\n",
    "print()"
   ]
  },
  {
   "cell_type": "code",
   "execution_count": null,
   "metadata": {},
   "outputs": [],
   "source": [
    "# string addition in variables and in print()function\n",
    "hat_msg = \"I do not wear \" + \"a hat\"  \n",
    "print(hat_msg)\n",
    "print(\"at \" + \"dinner\")"
   ]
  },
  {
   "cell_type": "markdown",
   "metadata": {},
   "source": [
    "\n",
    "<font size=\"6\" color=\"#B24C00\"  face=\"verdana\"> <B>Task 9</B></font>\n",
    "## create Integer addition and  string addition output"
   ]
  },
  {
   "cell_type": "code",
   "execution_count": 55,
   "metadata": {},
   "outputs": [
    {
     "name": "stdout",
     "output_type": "stream",
     "text": [
      "My favorite food is pizza\n"
     ]
    }
   ],
   "source": [
    "# [ ] perform string addition in the variable named new_msg (add a string to \"my favorite food is \")\n",
    "new_msg = \"My favorite food is\"\n",
    "print(new_msg + \" pizza\")\n",
    "\n"
   ]
  },
  {
   "cell_type": "code",
   "execution_count": 56,
   "metadata": {},
   "outputs": [
    {
     "name": "stdout",
     "output_type": "stream",
     "text": [
      "15\n"
     ]
    }
   ],
   "source": [
    "# [ ] perform Integer addition in the variable named new_sum (add 2 or more Integers)\n",
    "new_sum =   6 + 9\n",
    "print(new_sum)\n",
    "\n",
    "\n"
   ]
  },
  {
   "cell_type": "code",
   "execution_count": 58,
   "metadata": {},
   "outputs": [
    {
     "name": "stdout",
     "output_type": "stream",
     "text": [
      "My favorite food is pizza\n"
     ]
    }
   ],
   "source": [
    "# [ ] create and print a new string variable, new_msg_2, that concatenates new_msg + a literal string\n",
    "new_msg_2 = new_msg + \" pizza\"\n",
    "print(new_msg_2)\n"
   ]
  },
  {
   "cell_type": "markdown",
   "metadata": {},
   "source": [
    "# &nbsp;\n",
    "<font size=\"6\" color=\"#00A0B2\"  face=\"verdana\"> <B>Concepts</B></font>  \n",
    "## Errors!\n",
    "Encountering **Errors** and troubleshooting errors are fundamental parts of computer programming"
   ]
  },
  {
   "cell_type": "markdown",
   "metadata": {},
   "source": [
    "<font size=\"4\" color=\"#00A0B2\"  face=\"verdana\"> <B>Examples</B></font>"
   ]
  },
  {
   "cell_type": "code",
   "execution_count": 60,
   "metadata": {},
   "outputs": [
    {
     "name": "stdout",
     "output_type": "stream",
     "text": [
      "my number is 123\n"
     ]
    }
   ],
   "source": [
    "# [ ] review & run code\n",
    "print(\"my number is \" + \"123\") #string, represents a text character\n",
    "#print(\"my number is \" + 123) #number, with numeric value "
   ]
  },
  {
   "cell_type": "markdown",
   "metadata": {},
   "source": [
    "#### TypeError\n",
    "The line&nbsp; **`print(\"my number is \" + 123)`** causes the **`TypeError`** message to appear  \n",
    ">`TypeError: Can't convert 'int' object to str implicitly`  \n",
    "\n",
    "When adding to the string&nbsp; `\"my number is \"`&nbsp; the compiler is experiencing another string, but finds a number ***`123`**  \n",
    "\n",
    "Python cannot convert the Integer &nbsp; `123`&nbsp; to a string without explicit instruction (in code) \n",
    "  \n",
    "in other words, python only allows combining *like types*\n",
    "- **`str`** + **`str`**\n",
    "- **`int`** + **`int`**\n"
   ]
  },
  {
   "cell_type": "markdown",
   "metadata": {},
   "source": [
    "\n",
    "<font size=\"6\" color=\"#B24C00\"  face=\"verdana\"> <B>Task 10</B></font>\n",
    "## Fix `TypeError` \n",
    "- Review the code in the cells below and then run the code\n",
    "- Fix any errors and run until the code no longer shows errors"
   ]
  },
  {
   "cell_type": "code",
   "execution_count": 62,
   "metadata": {},
   "outputs": [
    {
     "name": "stdout",
     "output_type": "stream",
     "text": [
      "48\n"
     ]
    }
   ],
   "source": [
    "# [ ] review and run the code - then fix any Errors\n",
    "total_cost = 3 + 45\n",
    "print(total_cost)\n",
    "\n"
   ]
  },
  {
   "cell_type": "code",
   "execution_count": 64,
   "metadata": {},
   "outputs": [
    {
     "name": "stdout",
     "output_type": "stream",
     "text": [
      "the street number of Central School is 123\n"
     ]
    }
   ],
   "source": [
    "# [ ] review and run the code - then fix any Errors\n",
    "school_num = '123'\n",
    "print(\"the street number of Central School is \" + school_num)\n",
    "\n"
   ]
  },
  {
   "cell_type": "code",
   "execution_count": 65,
   "metadata": {},
   "outputs": [
    {
     "name": "stdout",
     "output_type": "stream",
     "text": [
      "<class 'float'>\n",
      "<class 'int'>\n",
      "6.3\n"
     ]
    }
   ],
   "source": [
    "# [ ] Read and run the code - write a hypothesis for what you observe adding float + int\n",
    "#  [ ] HYPOTHESIS: It will run because they are both numerical values\n",
    "\n",
    "print(type(3.3))\n",
    "print(type(3))\n",
    "print(3.3 + 3)\n",
    "\n"
   ]
  },
  {
   "cell_type": "markdown",
   "metadata": {},
   "source": [
    "# &nbsp;\n",
    "<font size=\"6\" color=\"#00A0B2\"  face=\"verdana\"> <B>Concepts</B></font> \n",
    "## More Errors\n",
    "### SyntaxError & NameError\n",
    "- **SyntaxError** - breaks code formatting rules of python\n",
    "- **NameError** - object is not defined (can't be found)  \n",
    "\n",
    "Python has a specific grammar that it follows that is referred to as **syntax**.  \n",
    "The print function syntax rules for output of a single string include \n",
    "- parentheses **` ( ) `** containing a **string** follow **`print`** (SyntaxError)\n",
    "- strings have **matching quotation marks** (SyntaxError)\n",
    "- `print` is lowercase and correctly spelled (NameError)\n",
    "\n",
    "Failure to follow any of these rules results in a `SyntaxError` or `NameError` when the code is run  \n"
   ]
  },
  {
   "cell_type": "markdown",
   "metadata": {},
   "source": [
    "<font size=\"4\" color=\"#00A0B2\"  face=\"verdana\"> <B>Examples</B></font>\n",
    "## SyntaxError\n",
    "- Improperly formatted string (quotes don't match) that results in a SyntaxError"
   ]
  },
  {
   "cell_type": "code",
   "execution_count": 67,
   "metadata": {},
   "outputs": [
    {
     "name": "stdout",
     "output_type": "stream",
     "text": [
      "Hi!\n",
      "I like the morning\n"
     ]
    }
   ],
   "source": [
    "# [ ] review and run the code for properly and improperly formatted print statement\n",
    "print(\"Hi!\")\n",
    "## Improper format - non matching quotes\n",
    "print(\"I like the morning\") "
   ]
  },
  {
   "cell_type": "code",
   "execution_count": 68,
   "metadata": {},
   "outputs": [
    {
     "name": "stdout",
     "output_type": "stream",
     "text": [
      "Hi!\n"
     ]
    }
   ],
   "source": [
    "print(\"Hi!\")"
   ]
  },
  {
   "cell_type": "markdown",
   "metadata": {},
   "source": [
    "- note that the misspelling of \"`prin`\" below results in a NameError"
   ]
  },
  {
   "cell_type": "code",
   "execution_count": 69,
   "metadata": {},
   "outputs": [
    {
     "name": "stdout",
     "output_type": "stream",
     "text": [
      "hi\n"
     ]
    }
   ],
   "source": [
    "# [ ] review and run the code \n",
    "print('hi')"
   ]
  },
  {
   "cell_type": "markdown",
   "metadata": {},
   "source": [
    "- EOF = \"end of file\" found in code below\n",
    "- Python went to the end of the file looking for, but not finding, a closing parenthesis "
   ]
  },
  {
   "cell_type": "code",
   "execution_count": 71,
   "metadata": {},
   "outputs": [
    {
     "name": "stdout",
     "output_type": "stream",
     "text": [
      "where are my socks?\n"
     ]
    }
   ],
   "source": [
    "# [ ] review and run the code missing the closing parenthesis  \n",
    "print(\"where are my socks?\" )"
   ]
  },
  {
   "cell_type": "markdown",
   "metadata": {},
   "source": [
    "- In code below: a parenthesis inside quotations will be seen a part of a string and not as a parenthesis"
   ]
  },
  {
   "cell_type": "code",
   "execution_count": 72,
   "metadata": {},
   "outputs": [
    {
     "name": "stdout",
     "output_type": "stream",
     "text": [
      "my socks are in the wrong bin\n"
     ]
    }
   ],
   "source": [
    "# { ] review and run the code \n",
    "print(\"my socks are in the wrong bin\") "
   ]
  },
  {
   "cell_type": "markdown",
   "metadata": {},
   "source": [
    "\n",
    "<font size=\"6\" color=\"#B24C00\"  face=\"verdana\"> <B>Task 11</B></font>\n",
    "## Fix Errors"
   ]
  },
  {
   "cell_type": "markdown",
   "metadata": {},
   "source": [
    ">**Tip**: explaining errors to a partner often reveals a solution (works even if explaining error to a pencil) "
   ]
  },
  {
   "cell_type": "code",
   "execution_count": 73,
   "metadata": {},
   "outputs": [
    {
     "name": "stdout",
     "output_type": "stream",
     "text": [
      "my socks do not match\n"
     ]
    }
   ],
   "source": [
    "# [ ] repair the syntax error \n",
    "print(\"my socks do not match\") \n",
    "      \n"
   ]
  },
  {
   "cell_type": "code",
   "execution_count": 74,
   "metadata": {},
   "outputs": [
    {
     "name": "stdout",
     "output_type": "stream",
     "text": [
      "my socks match now\n"
     ]
    }
   ],
   "source": [
    "# [ ] repair the NameError  \n",
    "print(\"my socks match now\") \n",
    "\n"
   ]
  },
  {
   "cell_type": "code",
   "execution_count": 75,
   "metadata": {},
   "outputs": [
    {
     "name": "stdout",
     "output_type": "stream",
     "text": [
      "Save the notebook frequently\n"
     ]
    }
   ],
   "source": [
    "# [ ] repair the syntax error \n",
    "print(\"Save the notebook frequently\")\n",
    "\n"
   ]
  },
  {
   "cell_type": "code",
   "execution_count": 76,
   "metadata": {},
   "outputs": [
    {
     "name": "stdout",
     "output_type": "stream",
     "text": [
      "Alton\n"
     ]
    }
   ],
   "source": [
    "# [ ] repair the NameError \n",
    "student_name = \"Alton\"\n",
    "print(student_name)\n",
    "\n"
   ]
  },
  {
   "cell_type": "code",
   "execution_count": 77,
   "metadata": {},
   "outputs": [
    {
     "name": "stdout",
     "output_type": "stream",
     "text": [
      "3 students are signed up for tutoring\n"
     ]
    }
   ],
   "source": [
    "# [ ] repair the TypeError\n",
    "total = \"3\"\n",
    "print(total + \" students are signed up for tutoring\")\n",
    "\n"
   ]
  },
  {
   "cell_type": "markdown",
   "metadata": {},
   "source": [
    "A parenthesis inside quotations will be seen a part of a string and not as a parenthesis"
   ]
  },
  {
   "cell_type": "markdown",
   "metadata": {
    "slideshow": {
     "slide_type": "slide"
    }
   },
   "source": [
    "# Module 1 Part 5\n",
    "##  Getting started with Python in Jupyter Notebooks\n",
    "- Python 3 in Jupyter notebooks\n",
    "- `print()`\n",
    "- comments \n",
    "- data types basics\n",
    "- variables\n",
    "- addition with Strings and Integers \n",
    "- Errors  \n",
    "- **character art**  \n",
    "\n",
    "-----\n",
    "\n",
    "\n",
    "><font size=\"5\" color=\"#00A0B2\"  face=\"verdana\"> <B>Student will be able to</B></font>\n",
    "- use Python 3 in Jupyter notebooks\n",
    "- write working code using `print()`, `type()`, comments and variables\n",
    "- combine Strings using string addition (+)\n",
    "- add numbers in code (+) \n",
    "- troubleshoot errors  \n",
    "- **create character art**"
   ]
  },
  {
   "cell_type": "markdown",
   "metadata": {},
   "source": [
    "# &nbsp;\n",
    "<font size=\"6\" color=\"#00A0B2\"  face=\"verdana\"> <B>Activity</B></font>\n",
    "## print() character art\n",
    "print() output to the console can create character art in the forms of pictures and stylized text. Below we show how to create a stylized letter \"A\" "
   ]
  },
  {
   "cell_type": "code",
   "execution_count": 78,
   "metadata": {},
   "outputs": [
    {
     "name": "stdout",
     "output_type": "stream",
     "text": [
      "    *\n",
      "   * *\n",
      "  *****\n",
      " *     *\n",
      "*       *\n",
      "\n"
     ]
    }
   ],
   "source": [
    "# the letter 'A'\n",
    "print(\"    *\")\n",
    "print(\"   * *\")\n",
    "print(\"  *****\")\n",
    "print(\" *     *\")\n",
    "print(\"*       *\")\n",
    "print()"
   ]
  },
  {
   "cell_type": "markdown",
   "metadata": {},
   "source": [
    "<font size=\"6\" color=\"#B24C00\"  face=\"verdana\"> <B>Task 12</B></font>  \n",
    "- create the flying bird in character art in the Code cell below\n",
    "\n",
    "```\n",
    "\n",
    "_         _      \n",
    " \\       /     \n",
    "  \\ . . /   \n",
    "     V   \n",
    "\n",
    "```  \n"
   ]
  },
  {
   "cell_type": "code",
   "execution_count": 88,
   "metadata": {},
   "outputs": [
    {
     "name": "stdout",
     "output_type": "stream",
     "text": [
      "_            _\n",
      " \\         / \n",
      "  \\  . .  / \n",
      "      V       \n"
     ]
    }
   ],
   "source": [
    "# create # [ ] flying bird character art \n",
    "print(\"_            _\")\n",
    "print(\" \\         / \")\n",
    "print(\"  \\  . .  / \")\n",
    "print(\"      V       \")\n"
   ]
  },
  {
   "cell_type": "markdown",
   "metadata": {},
   "source": [
    "<font size=\"4\" color=\"#B24C00\"  face=\"verdana\"> <B>Task cont...</B></font>  \n",
    "- create the capital letter \"E\" in character art in the Code cell below"
   ]
  },
  {
   "cell_type": "code",
   "execution_count": 93,
   "metadata": {},
   "outputs": [
    {
     "name": "stdout",
     "output_type": "stream",
     "text": [
      "eeeeeeeee\n",
      "ee\n",
      "ee\n",
      "eeeeeeeee\n",
      "ee\n",
      "ee\n",
      "eeeeeeeee\n"
     ]
    }
   ],
   "source": [
    "print(\"eeeeeeeee\")\n",
    "print(\"ee\")\n",
    "print(\"ee\")\n",
    "print(\"eeeeeeeee\")\n",
    "print(\"ee\")\n",
    "print(\"ee\")\n",
    "print(\"eeeeeeeee\")"
   ]
  },
  {
   "cell_type": "markdown",
   "metadata": {
    "collapsed": true
   },
   "source": [
    "# Module 1 Part 6\n",
    "## Strings: input, testing, formatting\n",
    "- **input() - gathering user input**  \n",
    "- print() formatting \n",
    "- Quotes inside strings\n",
    "- Boolean string tests methods\n",
    "- String formatting methods\n",
    "- Formatting string input()\n",
    "- Boolean `in` keyword \n",
    "\n",
    "-----\n",
    "\n",
    "><font size=\"5\" color=\"#00A0B2\"  face=\"verdana\"> <B>Student will be able to</B></font>\n",
    "- **gather, store and use string `input()`**  \n",
    "- format `print()` output\n",
    "- test string characteristics\n",
    "- format string output\n",
    "- search for a string in a string"
   ]
  },
  {
   "cell_type": "markdown",
   "metadata": {
    "collapsed": true
   },
   "source": [
    "# &nbsp;  \n",
    "<font size=\"6\" color=\"#00A0B2\"  face=\"verdana\"> <B>Concepts</B></font> \n",
    "\n",
    "## input()  \n",
    "### get information from users with `input()`  \n",
    "the **`input()`** function prompts the user to supply data returning that data as a string\n",
    "\n",
    "# Walkthrough video for the rest of module 1\n",
    "[![view video](https://openclipart.org/download/219326/1432343177.svg)](https://youtu.be/wAdtOA5pld0)"
   ]
  },
  {
   "cell_type": "markdown",
   "metadata": {},
   "source": [
    "<font size=\"4\" color=\"#00A0B2\"  face=\"verdana\"> <B>Examples</B></font>  "
   ]
  },
  {
   "cell_type": "code",
   "execution_count": 2,
   "metadata": {},
   "outputs": [
    {
     "name": "stdout",
     "output_type": "stream",
     "text": [
      "enter a small int: 12 \n",
      "small int: \n",
      "12\n"
     ]
    }
   ],
   "source": [
    "# review and run code - enter a small integer in the text box\n",
    "print(\"enter a small int: 12 \")\n",
    "small_int = input()\n",
    "print(\"small int: \")\n",
    "print(small_int)"
   ]
  },
  {
   "cell_type": "markdown",
   "metadata": {},
   "source": [
    "\n",
    "<font size=\"6\" color=\"#B24C00\"  face=\"verdana\"> <B>Task 13</B></font>\n",
    "## storing input in a variable\n",
    "- **[ ]** create code to store input in student_name variable  \n",
    "an input box should when run\n",
    "- **[ ]** type a name in the input box and press **Enter**\n",
    "- **[ ]** determine the **`type()`** of **student_name**"
   ]
  },
  {
   "cell_type": "code",
   "execution_count": 3,
   "metadata": {},
   "outputs": [
    {
     "data": {
      "text/plain": [
       "str"
      ]
     },
     "execution_count": 3,
     "metadata": {},
     "output_type": "execute_result"
    }
   ],
   "source": [
    "# [ ] get input for the variable student_name\n",
    "student_name= input()\n",
    "# [ ] determine the type of student_name\n",
    "type(student_name)\n",
    "\n"
   ]
  },
  {
   "cell_type": "markdown",
   "metadata": {},
   "source": [
    "<font size=\"4\" color=\"#B24C00\"  face=\"verdana\"> <B>Task continued...</B></font>  \n",
    "> **note**: **`input()`** returns a string (type = str) regardless of entry\n",
    "- if a string is entered **`input()`** returns a string\n",
    "- if a number is entered **`input()`** returns a string  \n",
    "  \n",
    "- **[ ]** determine the **`type()`**  of input below by entering\n",
    "  - a name\n",
    "  - an integer (whole number no decimal)\n",
    "  - a float a number with a decimal point"
   ]
  },
  {
   "cell_type": "code",
   "execution_count": 7,
   "metadata": {},
   "outputs": [
    {
     "name": "stdout",
     "output_type": "stream",
     "text": [
      "enter a name or number\n"
     ]
    },
    {
     "data": {
      "text/plain": [
       "str"
      ]
     },
     "execution_count": 7,
     "metadata": {},
     "output_type": "execute_result"
    }
   ],
   "source": [
    "# [ ] run cell several times entering a name a int number and a float number after adding code below\n",
    "print(\"enter a name or number\")\n",
    "test_input = input()\n",
    "# [ ] insert code below to check the type of test_input\n",
    "type(test_input)\n",
    "\n"
   ]
  },
  {
   "cell_type": "markdown",
   "metadata": {},
   "source": [
    "# &nbsp;\n",
    "<font size=\"6\" color=\"#00A0B2\"  face=\"verdana\"> <B>Concepts</B></font>  \n",
    "### user prompts using `input()`\n",
    "\n",
    "the **`input()`** function has an optional string argument which displays the string intended to inform a user what to enter  \n",
    "**`input()`** works similar to **`print()`**&nbsp;in the way it displays arguments as output\n"
   ]
  },
  {
   "cell_type": "markdown",
   "metadata": {},
   "source": [
    "\n",
    "<font size=\"4\" color=\"#00A0B2\"  face=\"verdana\"> <B>Example</B></font>"
   ]
  },
  {
   "cell_type": "code",
   "execution_count": 8,
   "metadata": {},
   "outputs": [
    {
     "name": "stdout",
     "output_type": "stream",
     "text": [
      "Hi Zac Meadows\n"
     ]
    }
   ],
   "source": [
    "student_name = input(\"enter the student name: \")  \n",
    "print(\"Hi \" + student_name)"
   ]
  },
  {
   "cell_type": "markdown",
   "metadata": {},
   "source": [
    "\n",
    "<font size=\"6\" color=\"#B24C00\"  face=\"verdana\"> <B>Task 14</B></font>  \n",
    "## prompting the user for input\n",
    "- **[ ]** create a variable named **city** to store input, add a prompt for the name of a city\n",
    "- **[ ]** print \"the city name is \" followed by the value stored in **city**"
   ]
  },
  {
   "cell_type": "code",
   "execution_count": 9,
   "metadata": {},
   "outputs": [
    {
     "name": "stdout",
     "output_type": "stream",
     "text": [
      "Enter name of your city: \n",
      "Atlanta\n"
     ]
    }
   ],
   "source": [
    "# [ ] get user input for a city name in the variable named city\n",
    "print(\"Enter name of your city: \")\n",
    "city= input()\n",
    "# [ ] print the city name\n",
    "print(city)\n",
    "\n",
    "\n"
   ]
  },
  {
   "cell_type": "markdown",
   "metadata": {
    "collapsed": true
   },
   "source": [
    "\n",
    "<font size=\"4\" color=\"#B24C00\"  face=\"verdana\"> <B>Task cont...</B></font>  \n",
    "## multiple prompts for user input\n",
    "often programs need information on multiple items\n",
    "- **[ ]** create variables to store input: **name**, **age**, **get_mail**\n",
    "- **[ ]** create prompts for name, age and yes/no to being on an email list\n",
    "- **[ ]** print description + input values   \n",
    "\n",
    ">example print output:  \n",
    "`name = Alton`  \n",
    "`age =  17`  \n",
    "`wants email = yes`  \n",
    "  \n",
    "**tip**: with multiple input statements, after each prompt, **click 'in' the input box** to continue entering input "
   ]
  },
  {
   "cell_type": "code",
   "execution_count": 14,
   "metadata": {},
   "outputs": [
    {
     "name": "stdout",
     "output_type": "stream",
     "text": [
      "What is your name? \n",
      "What is your age? \n",
      "Do you want to receive emails from us?\n",
      "Your name is Zac\n",
      "you are 25 years old\n",
      "And you answered Yes to receiving emails\n"
     ]
    }
   ],
   "source": [
    "# [ ]create variables to store input: name, age, get_mail with prompts\n",
    "# for name, age and yes/no to being on an email list\n",
    "print(\"What is your name? \")\n",
    "name= input()\n",
    "print(\"What is your age? \")\n",
    "age= input()\n",
    "print(\"Do you want to receive emails from us?\")\n",
    "get_mail = input()\n",
    "\n",
    "\n",
    "# [ ] print a description + variable value for each variable\n",
    "print(\"Your name is \" + name)\n",
    "print(\"You are \" + age + \" years old\")\n",
    "print(\"And you answered \" + get_mail + \" to receiving emails\")\n"
   ]
  },
  {
   "cell_type": "markdown",
   "metadata": {
    "slideshow": {
     "slide_type": "slide"
    }
   },
   "source": [
    "# Module 1 Part 7\n",
    "##  Getting started with Python in Jupyter Notebooks\n",
    "- Python 3 in Jupyter notebooks\n",
    "- `print()`\n",
    "- comments  \n",
    "- data types basics\n",
    "- variables  \n",
    "- **Addition with Strings and Integers**\n",
    "- **Errors**  \n",
    "- character art  \n",
    "\n",
    "-----\n",
    "\n",
    "\n",
    "><font size=\"5\" color=\"#00A0B2\"  face=\"verdana\"> <B>Student will be able to</B></font>\n",
    "- use Python 3 in Jupyter notebooks\n",
    "- write working code using `print()` and `#` comments  \n",
    "- write working code using `type()` and variables\n",
    "- combine Strings using string addition (+)\n",
    "- **add numbers in code (+)**  \n",
    "- **troubleshoot errors**  \n",
    "- create character art"
   ]
  },
  {
   "cell_type": "markdown",
   "metadata": {},
   "source": [
    "# &nbsp;\n",
    "<font size=\"6\" color=\"#00A0B2\"  face=\"verdana\"> <B>Concepts</B></font>\n",
    "## Addition: Numbers and Strings  \n",
    "\n",
    "### Numeric addition\n",
    "**Numeric addition** Single line *math equations*, run in a code cell, will output a sum \n",
    "```python\n",
    "# adding a pair of single digit Integers\n",
    "3 + 5  \n",
    "```  \n",
    "## String addition\n",
    "**string addition** single line *equations*, run in a code cell, will output a single concatenated string  \n",
    "> **Tip:** all strings must be in quotes  \n",
    "    \n",
    "```python\n",
    "# adding a pair of strings\n",
    "\"I wear \" + \"a hat\"  \n",
    "```  \n",
    "We can also **add variables** as long as we add strings to strings and numbers to numbers"
   ]
  },
  {
   "cell_type": "markdown",
   "metadata": {},
   "source": [
    "\n",
    "<font size=\"4\" color=\"#00A0B2\"  face=\"verdana\"> <B>Examples</B></font>\n",
    "## String and Number Addition"
   ]
  },
  {
   "cell_type": "code",
   "execution_count": 15,
   "metadata": {},
   "outputs": [
    {
     "data": {
      "text/plain": [
       "41"
      ]
     },
     "execution_count": 15,
     "metadata": {},
     "output_type": "execute_result"
    }
   ],
   "source": [
    "# [ ] Review and run code for adding a pair of 2 digit Integers\n",
    "23 + 18"
   ]
  },
  {
   "cell_type": "code",
   "execution_count": 16,
   "metadata": {},
   "outputs": [
    {
     "data": {
      "text/plain": [
       "'my name is Alyssa'"
      ]
     },
     "execution_count": 16,
     "metadata": {},
     "output_type": "execute_result"
    }
   ],
   "source": [
    "# [ ] Review and run code for adding 2 strings\n",
    "\"my name is \" + \"Alyssa\"  "
   ]
  },
  {
   "cell_type": "code",
   "execution_count": 17,
   "metadata": {},
   "outputs": [
    {
     "data": {
      "text/plain": [
       "'my shoe color is brown'"
      ]
     },
     "execution_count": 17,
     "metadata": {},
     "output_type": "execute_result"
    }
   ],
   "source": [
    "# [ ] Review and run code for adding a variable string and a literal string\n",
    "shoe_color = \"brown\"\n",
    "\"my shoe color is \" + shoe_color"
   ]
  },
  {
   "cell_type": "markdown",
   "metadata": {},
   "source": [
    "\n",
    "<font size=\"6\" color=\"#B24C00\"  face=\"verdana\"> <B>Task 15</B></font>\n",
    "## String and Number Addition"
   ]
  },
  {
   "cell_type": "code",
   "execution_count": null,
   "metadata": {},
   "outputs": [],
   "source": [
    "# [ ] add 3 integer numbers\n",
    "\n"
   ]
  },
  {
   "cell_type": "code",
   "execution_count": null,
   "metadata": {},
   "outputs": [],
   "source": [
    "# [ ] add a float number and an integer number\n",
    "\n"
   ]
  },
  {
   "cell_type": "code",
   "execution_count": null,
   "metadata": {},
   "outputs": [],
   "source": [
    "# [ ] Add the string \"This notebook belongs to \" and a string with your first name\n",
    "\n"
   ]
  },
  {
   "cell_type": "code",
   "execution_count": null,
   "metadata": {},
   "outputs": [],
   "source": [
    "# [ ] Create variables sm_number and big_number and assign numbers then add the numbers\n",
    "\n"
   ]
  },
  {
   "cell_type": "markdown",
   "metadata": {
    "collapsed": true
   },
   "source": [
    "# Module 1 Part 8\n",
    "## Strings: input, testing, formatting\n",
    "- input() - gathering user input  \n",
    "- **print() formatting**  \n",
    "- Quotes inside strings\n",
    "- Boolean string tests methods\n",
    "- String formatting methods\n",
    "- Formatting string input()\n",
    "- Boolean `in` keyword \n",
    "\n",
    "-----\n",
    "\n",
    "><font size=\"5\" color=\"#00A0B2\"  face=\"verdana\"> <B>Student will be able to</B></font>\n",
    "- gather, store and use string `input()`  \n",
    "- **format `print()` output**  \n",
    "- test string characteristics\n",
    "- format string output\n",
    "- search for a string in a string"
   ]
  },
  {
   "cell_type": "markdown",
   "metadata": {
    "collapsed": true
   },
   "source": [
    "# &nbsp;\n",
    "<font size=\"6\" color=\"#00A0B2\"  face=\"verdana\"> <B>Concepts</B></font>  \n",
    "## comma print formatting\n",
    "### print() comma separated strings \n",
    "Python provides several methods of formatting strings in the **`print()`** function beyond **string addition**   \n",
    "  \n",
    "**`print()`** provides using **commas** to combine stings for output  \n",
    "by comma separating strings  **`print()`** will output each separated by a space by default\n",
    "#### comma formatted `print()`\n",
    "- **[ ]** print 3 strings on the same line using commas inside the `print()` function "
   ]
  },
  {
   "cell_type": "markdown",
   "metadata": {},
   "source": [
    "\n",
    "<font size=\"4\" color=\"#00A0B2\"  face=\"verdana\"> <B>Examples</B></font>"
   ]
  },
  {
   "cell_type": "code",
   "execution_count": 18,
   "metadata": {},
   "outputs": [
    {
     "name": "stdout",
     "output_type": "stream",
     "text": [
      "Hello Collette!\n",
      "Hello to Collette who is from the city\n"
     ]
    }
   ],
   "source": [
    "# review and run code\n",
    "\n",
    "name = \"Collette\"\n",
    "\n",
    "# string addition \n",
    "print(\"Hello \" + name + \"!\")\n",
    "\n",
    "# comma separation formatting\n",
    "print(\"Hello to\",name,\"who is from the city\")"
   ]
  },
  {
   "cell_type": "markdown",
   "metadata": {},
   "source": [
    "\n",
    "<font size=\"6\" color=\"#B24C00\"  face=\"verdana\"> <B>Task 16</B></font>  \n",
    "**print 3 strings on the same line using commas inside the print() function**"
   ]
  },
  {
   "cell_type": "code",
   "execution_count": 19,
   "metadata": {},
   "outputs": [
    {
     "name": "stdout",
     "output_type": "stream",
     "text": [
      "Hello again Collette I hope you are having a great day.\n"
     ]
    }
   ],
   "source": [
    "# [ ] print 3 strings on the same line using commas inside the print() function \n",
    "print(\"Hello again\",name,\"I hope you are having a great day.\")\n"
   ]
  },
  {
   "cell_type": "markdown",
   "metadata": {},
   "source": [
    "# &nbsp;\n",
    "<font size=\"6\" color=\"#00A0B2\"  face=\"verdana\"> <B>Concepts</B></font>  \n",
    "## using commas in `print()` with strings and numbers together\n",
    "- **`print()`** function formatting with comma separation works different than with string addition.\n",
    "- **`print()`**  using comma separation can mix numbers (int & float) and strings without a TypeError\n",
    "\n",
    "#### `print()` with numbers and strings together using commas\n",
    "- **[ ]** use a **`print()`** function with comma separation to combine 2 numbers and 2 strings"
   ]
  },
  {
   "cell_type": "markdown",
   "metadata": {},
   "source": [
    "\n",
    "<font size=\"4\" color=\"#00A0B2\"  face=\"verdana\"> <B>Examples</B></font>"
   ]
  },
  {
   "cell_type": "code",
   "execution_count": 20,
   "metadata": {},
   "outputs": [
    {
     "name": "stdout",
     "output_type": "stream",
     "text": [
      "I will pick you up @ 6 for the party\n"
     ]
    }
   ],
   "source": [
    "# review and run code\n",
    "print(\"I will pick you up @\",6,\"for the party\")"
   ]
  },
  {
   "cell_type": "code",
   "execution_count": 21,
   "metadata": {},
   "outputs": [
    {
     "name": "stdout",
     "output_type": "stream",
     "text": [
      "An Integer of 14 combined with strings causes 0 TypeErrors in comma formatted print!\n"
     ]
    }
   ],
   "source": [
    "# review and run code\n",
    "number_errors = 0\n",
    "print(\"An Integer of\", 14, \"combined with strings causes\",number_errors,\"TypeErrors in comma formatted print!\")"
   ]
  },
  {
   "cell_type": "markdown",
   "metadata": {},
   "source": [
    "\n",
    "<font size=\"6\" color=\"#B24C00\"  face=\"verdana\"> <B>Task 16</B></font>  \n",
    "**use a print() function with comma separation to combine 2 numbers and 2 strings**"
   ]
  },
  {
   "cell_type": "code",
   "execution_count": 24,
   "metadata": {},
   "outputs": [
    {
     "name": "stdout",
     "output_type": "stream",
     "text": [
      "I can use commas to include an integer, say, 222 , without it giving me a type error 69\n"
     ]
    }
   ],
   "source": [
    "# [ ] use a print() function with comma separation to combine 2 numbers and 2 strings\n",
    "print(\"I can use commas to include an integer, say,\",222,\", without it giving me a type error\",69)\n"
   ]
  },
  {
   "cell_type": "markdown",
   "metadata": {
    "collapsed": true
   },
   "source": [
    "<font size=\"6\" color=\"#B24C00\"  face=\"verdana\"> <B>Task 17</B></font>  \n",
    "**print() comma separated mixing of strings and variables**  \n",
    "by comma separating strings and/or string variables **`print()`** will output each separated by a space by default\n",
    "  \n",
    "**display text describing an address, made from stings and variables of different types**\n",
    "- initialize variables with input()\n",
    "  - street\n",
    "  - st_number\n",
    "- Display a message about the street and street number using comma separation formatting"
   ]
  },
  {
   "cell_type": "code",
   "execution_count": 25,
   "metadata": {},
   "outputs": [
    {
     "name": "stdout",
     "output_type": "stream",
     "text": [
      "You live on 165 Fowler Hill Road\n"
     ]
    }
   ],
   "source": [
    "# [ ] get user input for a street name in the variable, street\n",
    "street= input()\n",
    "# [ ] get user input for a street number in the variable, st_number\n",
    "st_number= input()\n",
    "# [ ] display a message about the street and st_number\n",
    "print(\"You live on\",st_number,street)\n",
    "\n"
   ]
  },
  {
   "cell_type": "markdown",
   "metadata": {},
   "source": [
    "<font size=\"6\" color=\"#B24C00\"  face=\"verdana\"> <B>Task 18</B></font>  \n",
    "**`print()` number, strings, variables from input**\n",
    "- [ ] display text made from combining a variable, a literal string and a number"
   ]
  },
  {
   "cell_type": "code",
   "execution_count": 27,
   "metadata": {},
   "outputs": [
    {
     "name": "stdout",
     "output_type": "stream",
     "text": [
      "my favorite halo number is 444 .Whenever I see that number, I know my day is going to get better!\n"
     ]
    }
   ],
   "source": [
    "# [ ] define a variable with a string or numeric value\n",
    "int=444\n",
    "# [ ] display a message combining the variable, 1 or more literal strings and a number\n",
    "print(\"my favorite halo number is\",int,\".Whenever I see that number, I know my day is going to get better!\")\n",
    "\n"
   ]
  },
  {
   "cell_type": "markdown",
   "metadata": {
    "collapsed": true
   },
   "source": [
    "<font size=\"6\" color=\"#B24C00\"  face=\"verdana\"> <B>Task 19</B></font>   \n",
    "## Program: How many for the training?\n",
    "Create a program that prints out a reservation for a training class.  Gather the name of the party, the number attending and the time.\n",
    ">**example** of what input/output might look like:\n",
    "```\n",
    "enter name for contact person for training group: Hiroto Yamaguchi  \n",
    "enter the total number attending the course: 7  \n",
    "enter the training time selected: 3:25 PM  \n",
    "------------------------------  \n",
    "Reminder: training is schedule at 3:25 PM for the Hiroto Yamaguchi group of 7 attendees  \n",
    "Please arrive 10 minutes early for the first class  \n",
    "```  \n",
    "  \n",
    "Design and Create your own reminder style  \n",
    "- **[ ]** get user input for variables:\n",
    "  - **owner**: name of person the reservation is for  \n",
    "  - **num_people**: how many are attending  \n",
    "  - **training_time**: class time\n",
    "- **[ ]** create an integer variable **min_early**: number of minutes early the party should arrive\n",
    "- **[ ]** using comma separation, print reminder text\n",
    "  - use all of the variables in the text\n",
    "  - use additional strings as needed\n",
    "  - use multiple print statements to format message on multiple lines (optional)"
   ]
  },
  {
   "cell_type": "code",
   "execution_count": 30,
   "metadata": {},
   "outputs": [
    {
     "name": "stdout",
     "output_type": "stream",
     "text": [
      "What is contact person's name?\n",
      "How many people are attending the course?\n",
      "For which training time?\n",
      "Training is scheduled at 3:15 for the Zac group of 6 attendees. Please arrive 15 for the class\n"
     ]
    }
   ],
   "source": [
    "# [ ] get input for variables: owner, num_people, training_time  - use descriptive prompt text\n",
    "print(\"What is contact person's name?\")\n",
    "owner = input()\n",
    "print(\"How many people are attending the course?\")\n",
    "num_people = input()\n",
    "print(\"At what training time?\")\n",
    "training_time =  input()\n",
    "# [ ] create a integer variable min_early and \"hard code\" the integer value (e.g. - 5, 10 or 15)\n",
    "min_early = 15\n",
    "# [ ] print reminder text using all variables & add additional strings -  use comma separated print formatting\n",
    "print(\"Training is scheduled at\",training_time,\"for the\",owner,\"group of\",num_people,\"attendees. Please arrive\",min_early,\"for the class\")\n",
    "\n"
   ]
  },
  {
   "cell_type": "code",
   "execution_count": 33,
   "metadata": {},
   "outputs": [
    {
     "name": "stdout",
     "output_type": "stream",
     "text": [
      "Zac , remember to save the notebook frequently!\n"
     ]
    }
   ],
   "source": [
    "# [ ] assign a string value to the variable first_name and add to the string \", remember to save the notebook frequently\"\n",
    "first_name=\"Zac\"\n",
    "print(first_name,\", remember to save the notebook frequently!\")"
   ]
  },
  {
   "cell_type": "markdown",
   "metadata": {
    "collapsed": true
   },
   "source": [
    "# Module 1 Part 9 - Same items as M1 P8 but iterate, change them\n",
    "## Strings: input, testing, formatting\n",
    "- input() - gathering user input  \n",
    "- **print() formatting**  \n",
    "- Quotes inside strings\n",
    "- Boolean string tests methods\n",
    "- String formatting methods\n",
    "- Formatting string input()\n",
    "- Boolean `in` keyword \n",
    "\n",
    "-----\n",
    "\n",
    "><font size=\"5\" color=\"#00A0B2\"  face=\"verdana\"> <B>Student will be able to</B></font>\n",
    "- gather, store and use string `input()`  \n",
    "- **format `print()` output**  \n",
    "- test string characteristics\n",
    "- format string output\n",
    "- search for a string in a string"
   ]
  },
  {
   "cell_type": "markdown",
   "metadata": {
    "collapsed": true
   },
   "source": [
    "# &nbsp;\n",
    "<font size=\"6\" color=\"#00A0B2\"  face=\"verdana\"> <B>Concepts</B></font>  \n",
    "## comma print formatting\n",
    "### print() comma separated strings \n",
    "Python provides several methods of formatting strings in the **`print()`** function beyond **string addition**   \n",
    "  \n",
    "**`print()`** provides using **commas** to combine stings for output  \n",
    "by comma separating strings  **`print()`** will output each separated by a space by default\n",
    "\n",
    "#### comma formatted `print()`\n",
    "- **[ ]** print 3 strings on the same line using commas inside the `print()` function "
   ]
  },
  {
   "cell_type": "markdown",
   "metadata": {},
   "source": [
    "\n",
    "<font size=\"4\" color=\"#00A0B2\"  face=\"verdana\"> <B>Examples</B></font>"
   ]
  },
  {
   "cell_type": "code",
   "execution_count": 34,
   "metadata": {},
   "outputs": [
    {
     "name": "stdout",
     "output_type": "stream",
     "text": [
      "Hello Collette!\n",
      "Hello to Collette who is from the city\n"
     ]
    }
   ],
   "source": [
    "# review and run code\n",
    "\n",
    "name = \"Collette\"\n",
    "\n",
    "# string addition \n",
    "print(\"Hello \" + name + \"!\")\n",
    "\n",
    "# comma separation formatting\n",
    "print(\"Hello to\",name,\"who is from the city\")"
   ]
  },
  {
   "cell_type": "markdown",
   "metadata": {},
   "source": [
    "\n",
    "<font size=\"6\" color=\"#B24C00\"  face=\"verdana\"> <B>Task 20</B></font>  \n",
    "**print 3 strings on the same line using commas inside the print() function**"
   ]
  },
  {
   "cell_type": "code",
   "execution_count": 38,
   "metadata": {},
   "outputs": [
    {
     "name": "stdout",
     "output_type": "stream",
     "text": [
      "Hello, I am Zac Meadows.\n"
     ]
    }
   ],
   "source": [
    "# [ ] print 3 strings on the same line using commas inside the print() function \n",
    "print(\"Hello,\",\"I am\",\"Zac Meadows.\")\n"
   ]
  },
  {
   "cell_type": "markdown",
   "metadata": {},
   "source": [
    "# &nbsp;\n",
    "<font size=\"6\" color=\"#00A0B2\"  face=\"verdana\"> <B>Concepts</B></font>  \n",
    "## using commas in `print()` with strings and numbers together\n",
    "- **`print()`** function formatting with comma separation works different than with string addition.\n",
    "- **`print()`**  using comma separation can mix numbers (int & float) and strings without a TypeError\n",
    "\n",
    "#### `print()` with numbers and strings together using commas\n",
    "- **[ ]** use a **`print()`** function with comma separation to combine 2 numbers and 2 strings"
   ]
  },
  {
   "cell_type": "markdown",
   "metadata": {},
   "source": [
    "\n",
    "<font size=\"4\" color=\"#00A0B2\"  face=\"verdana\"> <B>Examples</B></font>"
   ]
  },
  {
   "cell_type": "code",
   "execution_count": null,
   "metadata": {},
   "outputs": [],
   "source": [
    "# review and run code\n",
    "print(\"I will pick you up @\",6,\"for the party\")"
   ]
  },
  {
   "cell_type": "code",
   "execution_count": null,
   "metadata": {},
   "outputs": [],
   "source": [
    "# review and run code\n",
    "number_errors = 0\n",
    "print(\"An Integer of\", 14, \"combined with strings causes\",number_errors,\"TypeErrors in comma formatted print!\")"
   ]
  },
  {
   "cell_type": "markdown",
   "metadata": {},
   "source": [
    "\n",
    "<font size=\"6\" color=\"#B24C00\"  face=\"verdana\"> <B>Task 21</B></font>  \n",
    "**use a print() function with comma separation to combine 2 numbers and 2 strings**"
   ]
  },
  {
   "cell_type": "code",
   "execution_count": null,
   "metadata": {},
   "outputs": [],
   "source": [
    "# [ ] use a print() function with comma separation to combine 2 numbers and 2 strings\n",
    "\n"
   ]
  },
  {
   "cell_type": "markdown",
   "metadata": {
    "collapsed": true
   },
   "source": [
    "<font size=\"6\" color=\"#B24C00\"  face=\"verdana\"> <B>Task 22</B></font>  \n",
    "**print() comma separated mixing of strings and variables**  \n",
    "by comma separating strings and/or string variables **`print()`** will output each separated by a space by default\n",
    "  \n",
    "**display text describing an address, made from stings and variables of different types**\n",
    "- initialize variables with input()\n",
    "  - street\n",
    "  - st_number\n",
    "- Display a message about the street and street number using comma separation formatting"
   ]
  },
  {
   "cell_type": "code",
   "execution_count": null,
   "metadata": {},
   "outputs": [],
   "source": [
    "# [ ] get user input for a street name in the variable, street\n",
    "\n",
    "# [ ] get user input for a street number in the variable, st_number\n",
    "\n",
    "# [ ] display a message about the street and st_number\n",
    "\n",
    "\n"
   ]
  },
  {
   "cell_type": "markdown",
   "metadata": {},
   "source": [
    "<font size=\"6\" color=\"#B24C00\"  face=\"verdana\"> <B>Task 23</B></font>  \n",
    "**`print()` number, strings, variables from input**\n",
    "- [ ] display text made from combining a variable, a literal string and a number"
   ]
  },
  {
   "cell_type": "code",
   "execution_count": null,
   "metadata": {},
   "outputs": [],
   "source": [
    "# [ ] define a variable with a string or numeric value\n",
    "\n",
    "# [ ] display a message combining the variable, 1 or more literal strings and a number\n",
    "\n",
    "\n"
   ]
  },
  {
   "cell_type": "markdown",
   "metadata": {
    "collapsed": true
   },
   "source": [
    "<font size=\"6\" color=\"#B24C00\"  face=\"verdana\"> <B>Task 24</B></font>   \n",
    "## Program: How many for the training?\n",
    "Create a program that prints out a reservation for a training class.  Gather the name of the party, the number attending and the time.\n",
    ">**example** of what input/output might look like:\n",
    "```\n",
    "enter name for contact person for training group: Hiroto Yamaguchi  \n",
    "enter the total number attending the course: 7  \n",
    "enter the training time selected: 3:25 PM  \n",
    "------------------------------  \n",
    "Reminder: training is schedule at 3:25 PM for the Hiroto Yamaguchi group of 7 attendees  \n",
    "Please arrive 10 minutes early for the first class  \n",
    "```  \n",
    "  \n",
    "Design and Create your own reminder style  \n",
    "- **[ ]** get user input for variables:\n",
    "  - **owner**: name of person the reservation is for  \n",
    "  - **num_people**: how many are attending  \n",
    "  - **training_time**: class time\n",
    "- **[ ]** create an integer variable **min_early**: number of minutes early the party should arrive\n",
    "- **[ ]** using comma separation, print reminder text\n",
    "  - use all of the variables in the text\n",
    "  - use additional strings as needed\n",
    "  - use multiple print statements to format message on multiple lines (optional)"
   ]
  },
  {
   "cell_type": "code",
   "execution_count": null,
   "metadata": {},
   "outputs": [],
   "source": [
    "# [ ] get input for variables: owner, num_people, training_time  - use descriptive prompt text\n",
    "owner = \n",
    "num_people = \n",
    "training_time = \n",
    "# [ ] create a integer variable min_early and \"hard code\" the integer value (e.g. - 5, 10 or 15)\n",
    "min_early = \n",
    "# [ ] print reminder text using all variables & add additional strings -  use comma separated print formatting\n",
    "\n",
    "\n"
   ]
  },
  {
   "cell_type": "markdown",
   "metadata": {
    "collapsed": true
   },
   "source": [
    "# Module 1 Part 10\n",
    "## Strings: input, testing, formatting\n",
    "- input() - gathering user input  \n",
    "- print() formatting  \n",
    "- **Quotes inside strings** \n",
    "- **Boolean string tests methods**  \n",
    "- String formatting methods\n",
    "- Formatting string input()\n",
    "- Boolean `in` keyword \n",
    "\n",
    "-----\n",
    "\n",
    "><font size=\"5\" color=\"#00A0B2\"  face=\"verdana\"> <B>Student will be able to</B></font>\n",
    "- gather, store and use string `input()`  \n",
    "- format `print()` output  \n",
    "- **test string characteristics**  \n",
    "- format string output\n",
    "- search for a string in a string"
   ]
  },
  {
   "cell_type": "markdown",
   "metadata": {
    "collapsed": true
   },
   "source": [
    "# &nbsp;\n",
    "<font size=\"6\" color=\"#00A0B2\"  face=\"verdana\"> <B>Concepts</B></font>  \n",
    "## quotes inside strings \n",
    "### single quotes in double quotes\n",
    "to display single quotes **`'`** in a string - double quotes can be used as the outer quotes: **`\"it's time\"`**\n",
    "### double quotes in single quotes\n",
    "to display double quotes **`\"`** in a string- single quotes can be used as the outer quotes: **`'Alton said \"Hello\"'`**"
   ]
  },
  {
   "cell_type": "markdown",
   "metadata": {},
   "source": [
    "\n",
    "<font size=\"4\" color=\"#00A0B2\"  face=\"verdana\"> <B>Examples</B></font>"
   ]
  },
  {
   "cell_type": "code",
   "execution_count": null,
   "metadata": {},
   "outputs": [],
   "source": [
    "# review and run the code\n",
    "\n",
    "# Single quote surrounded by Double\n",
    "print(\"It's time to save your code\")\n",
    "\n",
    "# Double quote surrounded by Single\n",
    "print('I said to the class \"sometimes you need to shut down and restart a notebook when cells refuse to run\"')"
   ]
  },
  {
   "cell_type": "markdown",
   "metadata": {},
   "source": [
    "\n",
    "<font size=\"6\" color=\"#B24C00\"  face=\"verdana\"> <B>Task 25</B></font>  \n",
    "- **[ ] `print()`** strings that display double and single quotation marks"
   ]
  },
  {
   "cell_type": "code",
   "execution_count": 39,
   "metadata": {},
   "outputs": [
    {
     "name": "stdout",
     "output_type": "stream",
     "text": [
      "Where's the homework?\n"
     ]
    }
   ],
   "source": [
    "# [ ] using a print statement, display the text: Where's the homework?\n",
    "print(\"Where's the homework?\")\n"
   ]
  },
  {
   "cell_type": "code",
   "execution_count": 40,
   "metadata": {},
   "outputs": [
    {
     "name": "stdout",
     "output_type": "stream",
     "text": [
      "\"Education is what remains after one has forgotten what one has learned in school\" - Albert Einstein\n"
     ]
    }
   ],
   "source": [
    "# [ ] output with double quotes: \"Education is what remains after one has forgotten what one has learned in school\" - Albert Einstein\n",
    "\n",
    "print('\"Education is what remains after one has forgotten what one has learned in school\" - Albert Einstein')"
   ]
  },
  {
   "cell_type": "markdown",
   "metadata": {
    "collapsed": true
   },
   "source": [
    ">**note:**: Quotes in quotes handles only simple cases of displaying quotation marks.  More complex case are covered later under *escape sequences.*"
   ]
  },
  {
   "cell_type": "markdown",
   "metadata": {
    "collapsed": true
   },
   "source": [
    "# &nbsp;\n",
    "<font size=\"6\" color=\"#00A0B2\"  face=\"verdana\"> <B>Concepts</B></font>  \n",
    "## Boolean string tests\n",
    "methods\n",
    "- .isalpha()\n",
    "- .isalnum()\n",
    "- .istitle()\n",
    "- .isdigit()\n",
    "- .islower()\n",
    "- .isupper()\n",
    "- .startswith()\n",
    "\n",
    "type **`str`** has methods that return a Boolean (True or False) for different tests on the properties of stings.\n",
    ">```python\n",
    "\"Hello\".isapha()\n",
    "```\n",
    "out:[ ] &nbsp; &nbsp; `True`  \n",
    "  \n",
    "`.isalpha()` returns True if all characters in the string (\"Hello\") are alphabetical, otherwise returns False\n"
   ]
  },
  {
   "cell_type": "markdown",
   "metadata": {},
   "source": [
    "\n",
    "<font size=\"4\" color=\"#00A0B2\"  face=\"verdana\"> <B>Examples</B></font> \n",
    "## Boolean String Tests\n",
    "- **[ ] review and run code in each cell**"
   ]
  },
  {
   "cell_type": "code",
   "execution_count": 47,
   "metadata": {},
   "outputs": [
    {
     "data": {
      "text/plain": [
       "True"
      ]
     },
     "execution_count": 47,
     "metadata": {},
     "output_type": "execute_result"
    }
   ],
   "source": [
    "\"Zac\".isalpha()"
   ]
  },
  {
   "cell_type": "code",
   "execution_count": 42,
   "metadata": {},
   "outputs": [
    {
     "data": {
      "text/plain": [
       "True"
      ]
     },
     "execution_count": 42,
     "metadata": {},
     "output_type": "execute_result"
    }
   ],
   "source": [
    "\"3rd\".isalnum()"
   ]
  },
  {
   "cell_type": "code",
   "execution_count": 43,
   "metadata": {},
   "outputs": [
    {
     "data": {
      "text/plain": [
       "True"
      ]
     },
     "execution_count": 43,
     "metadata": {},
     "output_type": "execute_result"
    }
   ],
   "source": [
    "\"A Cold Stromy Night\".istitle()"
   ]
  },
  {
   "cell_type": "code",
   "execution_count": 48,
   "metadata": {},
   "outputs": [
    {
     "data": {
      "text/plain": [
       "True"
      ]
     },
     "execution_count": 48,
     "metadata": {},
     "output_type": "execute_result"
    }
   ],
   "source": [
    "\"1003\".isdigit()"
   ]
  },
  {
   "cell_type": "code",
   "execution_count": 49,
   "metadata": {},
   "outputs": [
    {
     "name": "stdout",
     "output_type": "stream",
     "text": [
      "cm height: 176 is all digits = True\n"
     ]
    }
   ],
   "source": [
    "cm_height = \"176\"\n",
    "print(\"cm height:\",cm_height, \"is all digits =\",cm_height.isdigit())"
   ]
  },
  {
   "cell_type": "code",
   "execution_count": 50,
   "metadata": {},
   "outputs": [
    {
     "name": "stdout",
     "output_type": "stream",
     "text": [
      "False\n",
      "True\n"
     ]
    }
   ],
   "source": [
    "print(\"SAVE\".islower())\n",
    "print(\"SAVE\".isupper())"
   ]
  },
  {
   "cell_type": "code",
   "execution_count": 51,
   "metadata": {},
   "outputs": [
    {
     "data": {
      "text/plain": [
       "True"
      ]
     },
     "execution_count": 51,
     "metadata": {},
     "output_type": "execute_result"
    }
   ],
   "source": [
    "\"Boolean\".startswith(\"B\")"
   ]
  },
  {
   "cell_type": "markdown",
   "metadata": {},
   "source": [
    "\n",
    "<font size=\"6\" color=\"#B24C00\"  face=\"verdana\"> <B>Task 26</B></font>  \n",
    " ### test stings with **`.isalpha()`**"
   ]
  },
  {
   "cell_type": "code",
   "execution_count": 52,
   "metadata": {},
   "outputs": [
    {
     "data": {
      "text/plain": [
       "True"
      ]
     },
     "execution_count": 52,
     "metadata": {},
     "output_type": "execute_result"
    }
   ],
   "source": [
    "# [ ] Use .isalpha() on the string \"alphabetical\"\n",
    "\"alphabetical\".isalpha()\n"
   ]
  },
  {
   "cell_type": "code",
   "execution_count": 53,
   "metadata": {},
   "outputs": [
    {
     "data": {
      "text/plain": [
       "False"
      ]
     },
     "execution_count": 53,
     "metadata": {},
     "output_type": "execute_result"
    }
   ],
   "source": [
    "# [ ] Use .isalpha() on the string: \"Are spaces and punctuation Alphabetical?\"\n",
    "\n",
    "\"Are spaces and punctuation Alphabetical?\".isalpha()"
   ]
  },
  {
   "cell_type": "markdown",
   "metadata": {
    "collapsed": true
   },
   "source": [
    "# Module 1 Part 11 - Same items as M1 P10, iterate, try something new\n",
    "## Strings: input, testing, formatting\n",
    "- input() - gathering user input  \n",
    "- print() formatting  \n",
    "- **Quotes inside strings** \n",
    "- **Boolean string tests methods**  \n",
    "- String formatting methods\n",
    "- Formatting string input()\n",
    "- Boolean `in` keyword \n",
    "\n",
    "-----\n",
    "\n",
    "><font size=\"5\" color=\"#00A0B2\"  face=\"verdana\"> <B>Student will be able to</B></font>\n",
    "- gather, store and use string `input()`  \n",
    "- format `print()` output  \n",
    "- **test string characteristics**  \n",
    "- format string output\n",
    "- search for a string in a string"
   ]
  },
  {
   "cell_type": "markdown",
   "metadata": {
    "collapsed": true
   },
   "source": [
    "# &nbsp;\n",
    "<font size=\"6\" color=\"#00A0B2\"  face=\"verdana\"> <B>Concepts</B></font>  \n",
    "## quotes inside strings \n",
    "### single quotes in double quotes\n",
    "to display single quotes **`'`** in a string - double quotes can be used as the outer quotes: **`\"it's time\"`**\n",
    "### double quotes in single quotes\n",
    "to display double quotes **`\"`** in a string- single quotes can be used as the outer quotes: **`'Alton said \"Hello\"'`**"
   ]
  },
  {
   "cell_type": "markdown",
   "metadata": {},
   "source": [
    "\n",
    "<font size=\"4\" color=\"#00A0B2\"  face=\"verdana\"> <B>Examples</B></font>"
   ]
  },
  {
   "cell_type": "code",
   "execution_count": 54,
   "metadata": {},
   "outputs": [
    {
     "name": "stdout",
     "output_type": "stream",
     "text": [
      "It's time to save your code\n",
      "I said to the class \"sometimes you need to shut down and restart a notebook when cells refuse to run\"\n"
     ]
    }
   ],
   "source": [
    "# review and run the code\n",
    "\n",
    "# Single quote surrounded by Double\n",
    "print(\"It's time to save your code\")\n",
    "\n",
    "# Double quote surrounded by Single\n",
    "print('I said to the class \"sometimes you need to shut down and restart a notebook when cells refuse to run\"')"
   ]
  },
  {
   "cell_type": "markdown",
   "metadata": {},
   "source": [
    "\n",
    "<font size=\"6\" color=\"#B24C00\"  face=\"verdana\"> <B>Task 27</B></font>  \n",
    "- **[ ] `print()`** strings that display double and single quotation marks"
   ]
  },
  {
   "cell_type": "code",
   "execution_count": null,
   "metadata": {},
   "outputs": [],
   "source": [
    "# [ ] using a print statement, display the text: Where's the homework?\n",
    "\n"
   ]
  },
  {
   "cell_type": "code",
   "execution_count": null,
   "metadata": {},
   "outputs": [],
   "source": [
    "# [ ] output with double quotes: \"Education is what remains after one has forgotten what one has learned in school\" - Albert Einstein\n",
    "\n"
   ]
  },
  {
   "cell_type": "markdown",
   "metadata": {
    "collapsed": true
   },
   "source": [
    ">**note:**: Quotes in quotes handles only simple cases of displaying quotation marks.  More complex case are covered later under *escape sequences.*"
   ]
  },
  {
   "cell_type": "markdown",
   "metadata": {
    "collapsed": true
   },
   "source": [
    "# &nbsp;\n",
    "<font size=\"6\" color=\"#00A0B2\"  face=\"verdana\"> <B>Concepts</B></font>  \n",
    "## Boolean string tests... a bit more detail\n",
    "\n",
    "methods\n",
    "- .isalpha()\n",
    "- .isalnum()\n",
    "- .istitle()\n",
    "- .isdigit()\n",
    "- .islower()\n",
    "- .isupper()\n",
    "- .startswith()\n",
    "\n",
    "type **`str`** has methods that return a Boolean (True or False) for different tests on the properties of stings.\n",
    ">```python\n",
    "\"Hello\".isapha()\n",
    "```\n",
    "out:[ ] &nbsp; &nbsp; `True`  \n",
    "  \n",
    "`.isalpha()` returns True if all characters in the string (\"Hello\") are alphabetical, otherwise returns False\n"
   ]
  },
  {
   "cell_type": "markdown",
   "metadata": {},
   "source": [
    "\n",
    "<font size=\"4\" color=\"#00A0B2\"  face=\"verdana\"> <B>Examples</B></font> \n",
    "## Boolean String Tests\n",
    "- **[ ] review and run code in each cell**"
   ]
  },
  {
   "cell_type": "code",
   "execution_count": null,
   "metadata": {},
   "outputs": [],
   "source": [
    "\"Python\".isalpha()"
   ]
  },
  {
   "cell_type": "code",
   "execution_count": null,
   "metadata": {},
   "outputs": [],
   "source": [
    "\"3rd\".isalnum()"
   ]
  },
  {
   "cell_type": "code",
   "execution_count": null,
   "metadata": {},
   "outputs": [],
   "source": [
    "\"A Cold Stromy Night\".istitle()"
   ]
  },
  {
   "cell_type": "code",
   "execution_count": null,
   "metadata": {},
   "outputs": [],
   "source": [
    "\"1003\".isdigit()"
   ]
  },
  {
   "cell_type": "code",
   "execution_count": null,
   "metadata": {},
   "outputs": [],
   "source": [
    "cm_height = \"176\"\n",
    "print(\"cm height:\",cm_height, \"is all digits =\",cm_height.isdigit())"
   ]
  },
  {
   "cell_type": "code",
   "execution_count": null,
   "metadata": {},
   "outputs": [],
   "source": [
    "print(\"SAVE\".islower())\n",
    "print(\"SAVE\".isupper())"
   ]
  },
  {
   "cell_type": "code",
   "execution_count": null,
   "metadata": {},
   "outputs": [],
   "source": [
    "\"Boolean\".startswith(\"B\")"
   ]
  },
  {
   "cell_type": "markdown",
   "metadata": {},
   "source": [
    "\n",
    "<font size=\"6\" color=\"#B24C00\"  face=\"verdana\"> <B>Task 28</B></font>  \n",
    " ### test stings with **`.isalpha()`**"
   ]
  },
  {
   "cell_type": "code",
   "execution_count": null,
   "metadata": {},
   "outputs": [],
   "source": [
    "# [ ] Use .isalpha() on the string \"alphabetical\"\n",
    "\n"
   ]
  },
  {
   "cell_type": "code",
   "execution_count": null,
   "metadata": {},
   "outputs": [],
   "source": [
    "# [ ] Use .isalpha() on the string: \"Are spaces and punctuation Alphabetical?\"\n",
    "\n"
   ]
  },
  {
   "cell_type": "code",
   "execution_count": null,
   "metadata": {},
   "outputs": [],
   "source": [
    "# [ ] initailize variable alpha_test with input\n",
    "\n",
    "# [ ] use .isalpha() on string variable alpha_test\n",
    "\n"
   ]
  },
  {
   "cell_type": "markdown",
   "metadata": {
    "collapsed": true
   },
   "source": [
    "# Module 1 Part 12\n",
    "## Strings: input, testing, formatting\n",
    "- input() - gathering user input  \n",
    "- print() formatting   \n",
    "- Quotes inside strings \n",
    "- Boolean string tests methods   \n",
    "- **String formatting methods**  \n",
    "- **Formatting string input()**  \n",
    "- **Boolean `in` keyword**  \n",
    "\n",
    "-----\n",
    "\n",
    "><font size=\"5\" color=\"#00A0B2\"  face=\"verdana\"> <B>Student will be able to</B></font>\n",
    "- gather, store and use string `input()`  \n",
    "- format `print()` output  \n",
    "- test string characteristics  \n",
    "- **format string output**  \n",
    "- **search for a string in a string**  "
   ]
  },
  {
   "cell_type": "markdown",
   "metadata": {
    "collapsed": true
   },
   "source": [
    "# &nbsp;\n",
    "<font size=\"6\" color=\"#00A0B2\"  face=\"verdana\"> <B>Concepts</B></font>  \n",
    "## String formatting methods\n",
    "the following methods are applied to string objects\n",
    "- **.capitalize()** - capitalizes the first character of a string\n",
    "- **.lower()** - all characters of a string are made lowercase\n",
    "- **.upper()** - all characters of a string are made uppercase\n",
    "- **.swapcase()** - all characters of a string are made to switch case upper becomes lower and vice versa  \n",
    "- **.title()** - each 'word' separated by a space is capitalized"
   ]
  },
  {
   "cell_type": "markdown",
   "metadata": {},
   "source": [
    "\n",
    "<font size=\"4\" color=\"#00A0B2\"  face=\"verdana\"> <B>Examples</B></font>  \n",
    "### String Formatting Methods"
   ]
  },
  {
   "cell_type": "code",
   "execution_count": 55,
   "metadata": {},
   "outputs": [
    {
     "name": "stdout",
     "output_type": "stream",
     "text": [
      "Ms. browning is in her office.\n"
     ]
    }
   ],
   "source": [
    "print(\"ms. Browning is in her office.\".capitalize())"
   ]
  },
  {
   "cell_type": "code",
   "execution_count": 56,
   "metadata": {},
   "outputs": [
    {
     "name": "stdout",
     "output_type": "stream",
     "text": [
      "Green green green and GREEN!\n"
     ]
    }
   ],
   "source": [
    "fav_color = \"green\"\n",
    "print(fav_color.capitalize(), fav_color, fav_color,\"and\", fav_color.upper()+\"!\")"
   ]
  },
  {
   "cell_type": "markdown",
   "metadata": {},
   "source": [
    "\n",
    "<font size=\"6\" color=\"#B24C00\"  face=\"verdana\"> <B>Task 29</B></font> \n",
    "### [ ] format with `.capitalize(), .lower(), .upper(), .swapcase()`\n",
    "> **Note:** use **print()**"
   ]
  },
  {
   "cell_type": "code",
   "execution_count": 62,
   "metadata": {},
   "outputs": [
    {
     "name": "stdout",
     "output_type": "stream",
     "text": [
      "I LOVE PIZZA\n",
      "i love pizza\n",
      "I LOVE PIZZA\n",
      "i love Pizza\n"
     ]
    }
   ],
   "source": [
    "# [ ] get input for a variable, fav_food, that describes a favorite food\n",
    "fav_food=\"pizza\"\n",
    "# [ ] display fav_food as ALL CAPS, used in a sentence\n",
    "print(\"i love\".upper(),fav_food.upper())\n",
    "\n",
    "# [ ] dispaly fav_food as all lower case, used in a sentence\n",
    "print(\"i love\".lower(),fav_food.lower())\n",
    "\n",
    "# [] display fav_food with swapped case, used in a sentence\n",
    "print(\"i love\".swapcase(),fav_food.swapcase())\n",
    "\n",
    "# [] display fav_food with capitalization, used in a sentence\n",
    "\n",
    "print(\"i love\",fav_food.capitalize())\n",
    "\n"
   ]
  },
  {
   "cell_type": "code",
   "execution_count": null,
   "metadata": {},
   "outputs": [],
   "source": [
    "fav_color = \"Forest Green\"\n",
    "# [] display the fav_color variable as upper, lower, swapcase, and capitalize formatting in a single print() statement\n",
    "\n"
   ]
  },
  {
   "cell_type": "markdown",
   "metadata": {
    "collapsed": true
   },
   "source": [
    "# &nbsp;\n",
    "<font size=\"6\" color=\"#00A0B2\"  face=\"verdana\"> <B>Concepts</B></font>\n",
    "## Formatting string input()\n",
    "When storing input, sometimes a specific format is needed and formatting is applied to the **`input()`** function\n",
    "> **Note:** this technique overwrites the original user input in the variable with the formatted value "
   ]
  },
  {
   "cell_type": "markdown",
   "metadata": {
    "collapsed": true
   },
   "source": [
    "<font size=\"4\" color=\"#00A0B2\"  face=\"verdana\"> <B>Example</B></font>"
   ]
  },
  {
   "cell_type": "code",
   "execution_count": 63,
   "metadata": {},
   "outputs": [
    {
     "name": "stdout",
     "output_type": "stream",
     "text": [
      "orange\n"
     ]
    }
   ],
   "source": [
    "# review and run code - test a capitalized color input\n",
    "fav_color = input('What is your favorite color?: ').lower()\n",
    "print(fav_color)"
   ]
  },
  {
   "cell_type": "markdown",
   "metadata": {},
   "source": [
    "\n",
    "<font size=\"6\" color=\"#B24C00\"  face=\"verdana\"> <B>Task 30</B></font>  \n",
    "### [ ] format &nbsp; ` input()` with ` .upper()`"
   ]
  },
  {
   "cell_type": "code",
   "execution_count": 64,
   "metadata": {},
   "outputs": [
    {
     "name": "stdout",
     "output_type": "stream",
     "text": [
      "ORANGE\n"
     ]
    }
   ],
   "source": [
    "# [] input variable fav_color as upper\n",
    "fav_color= input(\"what is your favorite color?: \").upper()\n",
    "# [] print fav_color\n",
    "print(fav_color)\n"
   ]
  },
  {
   "cell_type": "markdown",
   "metadata": {
    "collapsed": true
   },
   "source": [
    "# &nbsp;\n",
    "<font size=\"6\" color=\"#00A0B2\"  face=\"verdana\"> <B>Concepts</B></font>  \n",
    "## Boolean `in` keyword \n",
    "the **`in`** keyword can be used as a simple search returning **`True`** or **`False`** indication if a string is included in a target sequence.  \n",
    "### comparing strings is case sensitive\n",
    "`'Hello'` is not the same as `'hello'`  "
   ]
  },
  {
   "cell_type": "markdown",
   "metadata": {},
   "source": [
    "<font size=\"4\" color=\"#00A0B2\"  face=\"verdana\"> <B>Examples</B></font>"
   ]
  },
  {
   "cell_type": "code",
   "execution_count": 65,
   "metadata": {
    "scrolled": true
   },
   "outputs": [
    {
     "name": "stdout",
     "output_type": "stream",
     "text": [
      "True\n"
     ]
    }
   ],
   "source": [
    "# review and run code to test if a string is to be found in another string\n",
    "menu = \"salad, pasta, sandwich, pizza, drinks, dessert\"\n",
    "print('pizza' in menu)"
   ]
  },
  {
   "cell_type": "code",
   "execution_count": 66,
   "metadata": {},
   "outputs": [
    {
     "name": "stdout",
     "output_type": "stream",
     "text": [
      "'hello' in greeting =  False\n",
      "'Hello' in greeting =  True\n"
     ]
    }
   ],
   "source": [
    "# review and run code to test case sensitive examples \n",
    "greeting = \"Hello World!\"\n",
    "print(\"'hello' in greeting = \",'hello' in greeting)\n",
    "print(\"'Hello' in greeting = \", 'Hello' in greeting)"
   ]
  },
  {
   "cell_type": "markdown",
   "metadata": {},
   "source": [
    "example below: **remove case sensitivity from a string comparison**"
   ]
  },
  {
   "cell_type": "code",
   "execution_count": 67,
   "metadata": {},
   "outputs": [
    {
     "name": "stdout",
     "output_type": "stream",
     "text": [
      "'hello' in greeting =  False\n",
      "'Hello' in greeting =  True\n",
      "'hello' in greeting if lower used =  True\n"
     ]
    }
   ],
   "source": [
    "# review and run code to test removing case sensitivity from a string comparison\n",
    "greeting = \"Hello World!\"\n",
    "print(\"'hello' in greeting = \",'hello' in greeting)\n",
    "print(\"'Hello' in greeting = \", 'Hello' in greeting)\n",
    "print(\"'hello' in greeting if lower used = \", 'hello'.lower() in greeting.lower())"
   ]
  },
  {
   "cell_type": "markdown",
   "metadata": {},
   "source": [
    "\n",
    "<font size=\"6\" color=\"#B24C00\"  face=\"verdana\"> <B>Task 31</B></font>  \n",
    "**[ ] add code below** testing the **`menu`** string variable for `'pizza'`, `'soup'`, and `'dessert'` using keyword &nbsp; **`in`**\n",
    "- print each test on a separate line\n",
    "- print a description for each test &nbsp; (e.g. - \"`Pizza in menu = True`\")"
   ]
  },
  {
   "cell_type": "code",
   "execution_count": 2,
   "metadata": {},
   "outputs": [
    {
     "name": "stdout",
     "output_type": "stream",
     "text": [
      "Is pizza on the menu? True\n",
      "Is soup on the menu? False\n",
      "Is dessert on the menu? True\n"
     ]
    }
   ],
   "source": [
    "# [] print 3 tests, with description text, testing the menu variable for 'pizza', 'soup' and 'dessert'\n",
    "menu = \"salad, pasta, sandwich, pizza, drinks, dessert\"\n",
    "\n",
    "print(\"Is pizza on the menu?\", \"pizza\" in menu)\n",
    "print(\"Is soup on the menu?\", \"soup\" in menu)\n",
    "print(\"Is dessert on the menu?\", \"dessert\" in menu)\n"
   ]
  },
  {
   "cell_type": "markdown",
   "metadata": {},
   "source": [
    "## Program: What is on the menu\n",
    "### [ ] Create a program where a user can check if an item is on the menu\n",
    "- store the user response in a variable menu_ask\n",
    "- use the menu from above and add some additional items\n",
    "- the program should be able to ignore case mismatch so that \"hello\" is found in \"Hello World!\""
   ]
  },
  {
   "cell_type": "code",
   "execution_count": 8,
   "metadata": {},
   "outputs": [
    {
     "name": "stdout",
     "output_type": "stream",
     "text": [
      "What are you searching for?\n",
      "PIZZA True\n"
     ]
    }
   ],
   "source": [
    "# Create a program where the user supplies input to search the menu\n",
    "menu = \"salad, pasta, sandwich, pizza, drinks, dessert, soup, calzone\"\n",
    "print(\"What are you searching for?\")\n",
    "menu_ask= input()\n",
    "print(menu_ask, menu_ask.lower() in menu.lower())\n",
    "\n",
    "\n"
   ]
  },
  {
   "cell_type": "markdown",
   "metadata": {},
   "source": [
    "### [ ] Challenge: Add to the menu\n",
    "- print the current menu\n",
    "- get user input for add_item variable\n",
    "- new_menu use string addition to add add_item to menu\n",
    "- print the new_menu\n",
    "testing\n",
    "- add a cell below add menu\n",
    "- check if an item is on the menu, check for previous items and the item you added"
   ]
  },
  {
   "cell_type": "code",
   "execution_count": null,
   "metadata": {},
   "outputs": [],
   "source": [
    "# add to menu\n",
    "\n"
   ]
  },
  {
   "cell_type": "code",
   "execution_count": null,
   "metadata": {},
   "outputs": [],
   "source": [
    "# Testing Add to Menu - create user input to search for an item on the new menu\n",
    "\n"
   ]
  },
  {
   "cell_type": "markdown",
   "metadata": {},
   "source": [
    "\n",
    "<font size=\"6\" color=\"#B24C00\"  face=\"verdana\"> <B>Task 32</B></font>\n",
    "## Fix The Error"
   ]
  },
  {
   "cell_type": "code",
   "execution_count": 9,
   "metadata": {},
   "outputs": [
    {
     "name": "stdout",
     "output_type": "stream",
     "text": [
      "Red in paint colors =  True\n"
     ]
    }
   ],
   "source": [
    "# [ ] fix the error\n",
    "paint_colors = \"red, blue, green, black, orange, pink\"\n",
    "print('Red in paint colors = ',\"red\" in paint_colors)\n",
    "\n"
   ]
  },
  {
   "cell_type": "code",
   "execution_count": null,
   "metadata": {},
   "outputs": [],
   "source": []
  },
  {
   "cell_type": "markdown",
   "metadata": {},
   "source": [
    "© 2017 Microsoft adapted with Permission by Dominic Thomas"
   ]
  }
 ],
 "metadata": {
  "anaconda-cloud": {},
  "kernelspec": {
   "display_name": "Python 3.10.4 64-bit (windows store)",
   "language": "python",
   "name": "python3"
  },
  "language_info": {
   "codemirror_mode": {
    "name": "ipython",
    "version": 3
   },
   "file_extension": ".py",
   "mimetype": "text/x-python",
   "name": "python",
   "nbconvert_exporter": "python",
   "pygments_lexer": "ipython3",
   "version": "3.10.5"
  },
  "vscode": {
   "interpreter": {
    "hash": "30886edd43448b9e5de199c29dc6bbbf79195a8163b1a5c9de5a6a6179eaab4b"
   }
  }
 },
 "nbformat": 4,
 "nbformat_minor": 1
}
