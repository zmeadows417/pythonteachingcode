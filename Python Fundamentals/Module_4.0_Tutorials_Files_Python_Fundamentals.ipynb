{
 "cells": [
  {
   "cell_type": "markdown",
   "metadata": {},
   "source": [
    "# Python Fundamentals Module 4: Files (P2M4)\n",
    "## Working with Files\n",
    "4.1 **File import in Jupyter Notebooks**  \n",
    "4.1 **File `open(`) and `.read()`**  \n",
    "4.2 File Read as a list with **`.readlines()`**  \n",
    "4.2 File Closing to free resources with **`.close()`**  \n",
    "4.3 File Read a line at a time with **`.readline()`**   \n",
    "4.3 Remove characters using **`.strip()`**  \n",
    "4.4 File **`.write()`**  with **`.seek()`**  \n",
    "4.4 File append mode \n",
    "\n",
    "----- \n",
    "\n",
    "><font size=\"5\" color=\"#00A0B2\"  face=\"verdana\"> <B>Student will be able to</B></font>  \n",
    "4.1 **Import files in Jupyter Notebooks using the curl command **  \n",
    "4.1 **`open()` and `.read()` local files in memory**   \n",
    "4.1 **`.read()` a specific number of characters**  \n",
    "4.2 Use **`.readlines()`** to read data from file as a list of lines  \n",
    "4.2 Use **`.close`** to free system resources  \n",
    "4.3 Use **`.readline()`** to read data from file a line at a time  \n",
    "4.3 Use **`.strip()`** to remove new line characters  \n",
    "4.4 **`.write()`** data to a new local file\n",
    "4.4 Use **`.seek()`** to set file read or write location  \n",
    "4.4 Use file append mode"
   ]
  },
  {
   "cell_type": "markdown",
   "metadata": {},
   "source": [
    "# &nbsp;\n",
    "<font size=\"6\" color=\"#00A0B2\"  face=\"verdana\"> <B>Concepts</B></font>\n",
    "## Import Files to Jupyter\n",
    "[![view video](images/play.svg)](https://youtu.be/tj0-xI6S8GE)\n",
    "### curl imports files to Jupyter session from a web address\n",
    "below is a code using curl to import poem1.txt, the code is in a command line interface syntax\n",
    "\n",
    ">#### `!curl https://raw.githubusercontent.com/MicrosoftLearning/intropython/master/poem1.txt -o poem1.txt`  \n",
    "\n",
    "The table explains each element of the  command above  \n",
    "\n",
    "| code | meaning |\n",
    "|-----|---|\n",
    "| **`!`** | runs command interface supporting **curl** | \n",
    "| **`curl`** | enables **curl** that can download files |  \n",
    "| **`https://raw.githubusercontent.com/...`** | is the address for data file to import |  \n",
    "| **`-o`** | tells **`curl`** write data to a file |  \n",
    "| ** *`poem1.txt`* ** | name **`curl`** will give the file  |\n"
   ]
  },
  {
   "cell_type": "markdown",
   "metadata": {},
   "source": [
    "\n",
    "<font size=\"4\" color=\"#00A0B2\"  face=\"verdana\"> <B>Examples</B></font>"
   ]
  },
  {
   "cell_type": "code",
   "execution_count": 1,
   "metadata": {},
   "outputs": [
    {
     "name": "stderr",
     "output_type": "stream",
     "text": [
      "  % Total    % Received % Xferd  Average Speed   Time    Time     Time  Current\n",
      "                                 Dload  Upload   Total   Spent    Left  Speed\n",
      "\n",
      "  0     0    0     0    0     0      0      0 --:--:-- --:--:-- --:--:--     0\n",
      "100    56  100    56    0     0    431      0 --:--:-- --:--:-- --:--:--   437\n"
     ]
    }
   ],
   "source": [
    "# [ ] review and run example\n",
    "!curl https://raw.githubusercontent.com/MicrosoftLearning/intropython/master/poem1.txt -o poem1.txt\n"
   ]
  },
  {
   "cell_type": "markdown",
   "metadata": {},
   "source": [
    "# &nbsp;\n",
    "<font size=\"6\" color=\"#00A0B2\"  face=\"verdana\"> <B>Concepts</B></font>\n",
    "## Opening a Local File in read mode\n",
    ">```python\n",
    "poem_file = open('poem1.txt', 'r') \n",
    "\n",
    "### Read  mode &nbsp; `'r'`\n",
    "| MODE    |  Description  |\n",
    "|:-------:|:--------------|\n",
    "| **'r'**  | **read only mode** |\n",
    "| 'w'  | write - overwrites file with same name |\n",
    "| 'r+' | read and write mode |\n",
    "| 'a'  | opens for appending to end of file |\n",
    "\n",
    "### `open()` creates an object that can be addressed in python code"
   ]
  },
  {
   "cell_type": "markdown",
   "metadata": {},
   "source": [
    "\n",
    "<font size=\"4\" color=\"#00A0B2\"  face=\"verdana\"> <B>Examples</B></font>"
   ]
  },
  {
   "cell_type": "code",
   "execution_count": 2,
   "metadata": {},
   "outputs": [],
   "source": [
    "# [ ]Run to open the file in memory as poem_file\n",
    "poem_file = open('poem1.txt', 'r')"
   ]
  },
  {
   "cell_type": "code",
   "execution_count": 3,
   "metadata": {},
   "outputs": [
    {
     "data": {
      "text/plain": [
       "<_io.TextIOWrapper name='poem1.txt' mode='r' encoding='UTF-8'>"
      ]
     },
     "execution_count": 3,
     "metadata": {},
     "output_type": "execute_result"
    }
   ],
   "source": [
    "# [ ] run and review code to test if open worked \n",
    "# should display name='poem1.txt' and no errors\n",
    "poem_file"
   ]
  },
  {
   "cell_type": "markdown",
   "metadata": {
    "collapsed": true
   },
   "source": [
    "# &nbsp;\n",
    "<font size=\"6\" color=\"#B24C00\"  face=\"verdana\"> <B>Task 1</B></font>\n",
    "\n",
    "## import and open a local file in read mode\n",
    "1. **Import a list of cities using curl**  \n",
    "  a. git the list from https://raw.githubusercontent.com/MicrosoftLearning/intropython/master/cities  \n",
    "  b. name the list cities.txt  \n",
    "2. **open cities.txt in read mode using a variable = cities_file**  \n",
    "3. **test that cities_file opened cities.txt with a print statement**  "
   ]
  },
  {
   "cell_type": "code",
   "execution_count": 18,
   "metadata": {},
   "outputs": [
    {
     "name": "stderr",
     "output_type": "stream",
     "text": [
      "  % Total    % Received % Xferd  Average Speed   Time    Time     Time  Current\n",
      "                                 Dload  Upload   Total   Spent    Left  Speed\n",
      "\n",
      "  0     0    0     0    0     0      0      0 --:--:-- --:--:-- --:--:--     0\n",
      "100    56  100    56    0     0   2083      0 --:--:-- --:--:-- --:--:--  2153\n"
     ]
    }
   ],
   "source": [
    "# [ ] import cities.txt\n",
    "!curl https://raw.githubusercontent.com/MicrosoftLearning/intropython/master/cities -o cities.txt\n"
   ]
  },
  {
   "cell_type": "code",
   "execution_count": 17,
   "metadata": {},
   "outputs": [
    {
     "name": "stdout",
     "output_type": "stream",
     "text": [
      "<_io.TextIOWrapper name='cities.txt' mode='r' encoding='UTF-8'>\n"
     ]
    }
   ],
   "source": [
    "# [ ] open cities.txt as cities_file\n",
    "# [ ] test cities.txt was opened \n",
    "cities_file = open('cities.txt','r')\n",
    "print(cities_file)\n"
   ]
  },
  {
   "cell_type": "markdown",
   "metadata": {},
   "source": [
    "# &nbsp;\n",
    "<font size=\"6\" color=\"#00A0B2\"  face=\"verdana\"> <B>Concepts</B></font>  \n",
    "\n",
    "## Read a file using `.read()`\n",
    "### reading text\n",
    "```python\n",
    "poem_contents = poem_file.read()\n",
    "```\n",
    "### `.read()` loads the content of the file into memory as a string, including formatting such as new line (`\\n`)"
   ]
  },
  {
   "cell_type": "markdown",
   "metadata": {},
   "source": [
    "\n",
    "<font size=\"4\" color=\"#00A0B2\"  face=\"verdana\"> <B>Examples</B></font>\n",
    "### examples expect that the cells that import and open of poem1.txt has been run without a read()\n",
    "Run the cells that import and open poem1.txt"
   ]
  },
  {
   "cell_type": "code",
   "execution_count": 8,
   "metadata": {},
   "outputs": [],
   "source": [
    "# [ ] review and run example\n",
    "poem_contents = poem_file.read()"
   ]
  },
  {
   "cell_type": "code",
   "execution_count": 9,
   "metadata": {},
   "outputs": [
    {
     "data": {
      "text/plain": [
       "'Loops I repeat\\nloops\\nloops\\nloops\\nI repeat\\nuntil I\\nbreak\\n'"
      ]
     },
     "execution_count": 9,
     "metadata": {},
     "output_type": "execute_result"
    }
   ],
   "source": [
    "# [ ] review and run example\n",
    "# shows the file as a string with formatting characters such as \"\\n\", output should be non-blank\n",
    "poem_contents"
   ]
  },
  {
   "cell_type": "code",
   "execution_count": 10,
   "metadata": {},
   "outputs": [
    {
     "name": "stdout",
     "output_type": "stream",
     "text": [
      "Loops I repeat\n",
      "loops\n",
      "loops\n",
      "loops\n",
      "I repeat\n",
      "until I\n",
      "break\n",
      "\n"
     ]
    }
   ],
   "source": [
    "# [ ] review and run example\n",
    "# since .read() loaded the file as a string it can be printed\n",
    "print(poem_contents)"
   ]
  },
  {
   "cell_type": "markdown",
   "metadata": {
    "collapsed": true
   },
   "source": [
    "# &nbsp;\n",
    "<font size=\"6\" color=\"#B24C00\"  face=\"verdana\"> <B>Task 2</B></font>  \n",
    "## read a file\n",
    "### Read the file cities.text that was imported in task 1\n",
    "1. **import cities.txt and open**  \n",
    "  a. ensure the code was created and run in **task 1** to import cities.txt  \n",
    "  b. create and run code to re-open cities.txt as cities_file  \n",
    "2. **read() cities_file into a variable called cities**\n",
    "3. Test the read() by displaying the string contained in cities\n",
    "4. Test the read() by printing the cities string"
   ]
  },
  {
   "cell_type": "code",
   "execution_count": 19,
   "metadata": {},
   "outputs": [
    {
     "name": "stderr",
     "output_type": "stream",
     "text": [
      "  % Total    % Received % Xferd  Average Speed   Time    Time     Time  Current\n",
      "                                 Dload  Upload   Total   Spent    Left  Speed\n",
      "\n",
      "  0     0    0     0    0     0      0      0 --:--:-- --:--:-- --:--:--     0\n",
      "100    56  100    56    0     0   1596      0 --:--:-- --:--:-- --:--:--  1600\n",
      "100    56  100    56    0     0   1587      0 --:--:-- --:--:-- --:--:--  1600\n"
     ]
    },
    {
     "data": {
      "text/plain": [
       "'Beijing\\nCairo\\nLondon\\nNairobi\\nNew York City\\nSydney\\nTokyo\\n'"
      ]
     },
     "execution_count": 19,
     "metadata": {},
     "output_type": "execute_result"
    }
   ],
   "source": [
    "# [ ] after import and open of cities.txt in task 1\n",
    "# [ ] read cities_file as cities\n",
    "# [ ] display the string: cities\n",
    "!curl https://raw.githubusercontent.com/MicrosoftLearning/intropython/master/cities -o cities.txt\n",
    "cities= cities_file.read()\n",
    "cities\n"
   ]
  },
  {
   "cell_type": "code",
   "execution_count": 20,
   "metadata": {},
   "outputs": [
    {
     "name": "stdout",
     "output_type": "stream",
     "text": [
      "Beijing\n",
      "Cairo\n",
      "London\n",
      "Nairobi\n",
      "New York City\n",
      "Sydney\n",
      "Tokyo\n",
      "\n"
     ]
    }
   ],
   "source": [
    "# [ ] print the string: cities\n",
    "print(cities)\n"
   ]
  },
  {
   "cell_type": "markdown",
   "metadata": {
    "collapsed": true
   },
   "source": [
    "# &nbsp;\n",
    "<font size=\"6\" color=\"#00A0B2\"  face=\"verdana\"> <B>Concepts</B></font>  \n",
    "\n",
    "## reading a file with `.read(n)` where n = number of characters to read\n",
    "### each time `poem_file.read(10)` runs, the next 10 characters are read.\n",
    "\n",
    "> **Note:** if .read(10) result is = '' &nbsp;(or empty string with no characters), it is likely that the end of the file has been reached. Perform a fresh **.open()** to reset read() to the beginning of the file."
   ]
  },
  {
   "cell_type": "markdown",
   "metadata": {},
   "source": [
    "\n",
    "<font size=\"4\" color=\"#00A0B2\"  face=\"verdana\"> <B>Examples</B></font>\n",
    "### examples expect that the cells that import and open of poem1.txt has been run without a read()\n",
    "Run the cell at the top of the notebook to ** import poem1.txt**  \n",
    "each line is a different approach to reading and displaying 10 characters of the poem"
   ]
  },
  {
   "cell_type": "code",
   "execution_count": 21,
   "metadata": {},
   "outputs": [
    {
     "name": "stdout",
     "output_type": "stream",
     "text": [
      "Loops I re\n"
     ]
    },
    {
     "data": {
      "text/plain": [
       "'Loops I re'"
      ]
     },
     "execution_count": 21,
     "metadata": {},
     "output_type": "execute_result"
    }
   ],
   "source": [
    "# [ ] review and run example to read poem1.txt 10 characters at a time\n",
    "poem_file = open('poem1.txt', 'r')\n",
    "poem_10char = poem_file.read(10)\n",
    "print(poem_10char)\n",
    "poem_10char"
   ]
  },
  {
   "cell_type": "code",
   "execution_count": 22,
   "metadata": {},
   "outputs": [
    {
     "data": {
      "text/plain": [
       "'peat\\nloops'"
      ]
     },
     "execution_count": 22,
     "metadata": {},
     "output_type": "execute_result"
    }
   ],
   "source": [
    "# [ ] review and run example, + 10 more characters\n",
    "# reads and displays without storing in a variable\n",
    "poem_file.read(10)"
   ]
  },
  {
   "cell_type": "code",
   "execution_count": 23,
   "metadata": {},
   "outputs": [
    {
     "name": "stdout",
     "output_type": "stream",
     "text": [
      "\n",
      "loops\n",
      "loo\n"
     ]
    }
   ],
   "source": [
    "# [ ] review and run example, + 10 more characters\n",
    "# reads and stores in variable poem_parts\n",
    "poem_parts = poem_file.read(10)\n",
    "print(poem_parts)"
   ]
  },
  {
   "cell_type": "code",
   "execution_count": 21,
   "metadata": {},
   "outputs": [
    {
     "name": "stdout",
     "output_type": "stream",
     "text": [
      "\n",
      "loops\n",
      "loops\n",
      "I repeat\n",
      "until I\n",
      "break\n",
      "\n"
     ]
    }
   ],
   "source": [
    "# [ ] REPEATEDLY RUN this cell,  + 5 more characters each time run are appended using string addition\n",
    "# [ ]  consider why no additional text displays after multiple runs\n",
    "poem_parts += poem_file.read(5)\n",
    "print(poem_parts)\n"
   ]
  },
  {
   "cell_type": "markdown",
   "metadata": {
    "collapsed": true
   },
   "source": [
    "# &nbsp;\n",
    "<font size=\"6\" color=\"#B24C00\"  face=\"verdana\"> <B>Task 3</B></font>  \n",
    "## digits of pi  \n",
    "### read a set number of digits with .read(n)\n",
    "### import, open, read, print\n",
    "1. import digits_of_pi.txt located at https://raw.githubusercontent.com/MicrosoftLearning/intropython/master/digits_of_pi  \n",
    "2. open as **digits_of_pi_text** \n",
    "3. read()the first 4 characters of digits_of_pi_text into a variable called pi_digits  \n",
    "4. print pi_digits  \n",
    "5. add to pi_digits string with string addition  \n",
    "  a. add next 4 characters from digits_of_pi obtained from read()  \n",
    "  b. run the cell multiple times to get more digits of *pi*  "
   ]
  },
  {
   "cell_type": "code",
   "execution_count": 24,
   "metadata": {},
   "outputs": [
    {
     "name": "stderr",
     "output_type": "stream",
     "text": [
      "  % Total    % Received % Xferd  Average Speed   Time    Time     Time  Current\n",
      "                                 Dload  Upload   Total   Spent    Left  Speed\n",
      "\n",
      "  0     0    0     0    0     0      0      0 --:--:-- --:--:-- --:--:--     0\n",
      "100   303  100   303    0     0   2926      0 --:--:-- --:--:-- --:--:--  2970\n"
     ]
    }
   ],
   "source": [
    "# [ ] digits of pi\n",
    "# 1. import digits_of_pi.txt\n",
    "!curl https://raw.githubusercontent.com/MicrosoftLearning/intropython/master/digits_of_pi -o digits_of_pi.txt\n"
   ]
  },
  {
   "cell_type": "code",
   "execution_count": 26,
   "metadata": {},
   "outputs": [
    {
     "name": "stdout",
     "output_type": "stream",
     "text": [
      "3.14\n"
     ]
    }
   ],
   "source": [
    "# [ ] digits of pi\n",
    "# 2. open as digits_of_pi_text \n",
    "# 3. read() 4 char of digits_of_pi_text to pi_digits variable \n",
    "# 4. print pi_digits  \n",
    "digits_of_pi_text = open('digits_of_pi.txt', 'r')\n",
    "digits= digits_of_pi_text.read(4)\n",
    "print(digits)\n"
   ]
  },
  {
   "cell_type": "code",
   "execution_count": null,
   "metadata": {},
   "outputs": [],
   "source": [
    "# [ ] digits of pi\n",
    "# 5. add to pi_digits string with string addition  \n",
    "#   a. add next 4 characters from digits_of_pi obtained from read()  \n",
    "#   b. run the cell multiple times to get more digits of *pi*\n",
    "\n"
   ]
  },
  {
   "cell_type": "markdown",
   "metadata": {},
   "source": [
    "# &nbsp;\n",
    "<font size=\"6\" color=\"#00A0B2\"  face=\"verdana\"> <B>Concept</B></font>\n",
    "## .read() returns a string \n",
    "### These strings can be manipulated just like any other string\n",
    "### Boolean tests such as:\n",
    "- .upper()  \n",
    "- .title() \n",
    "- string slices, e.g.- `cities[3:9]`  \n",
    "- etc..  \n",
    "\n",
    "### and string methods can be performed such as:\n",
    "- .isdigit()  \n",
    "- .isalpha()  \n",
    "- etc..."
   ]
  },
  {
   "cell_type": "markdown",
   "metadata": {},
   "source": [
    "\n",
    "<font size=\"4\" color=\"#00A0B2\"  face=\"verdana\"> <B>Examples</B></font>  \n",
    "### examples expect that the cells that import  has been run  \n",
    "it may be necessary to run the cell to **import poem1.txt** at top of notebook"
   ]
  },
  {
   "cell_type": "code",
   "execution_count": 22,
   "metadata": {},
   "outputs": [
    {
     "name": "stdout",
     "output_type": "stream",
     "text": [
      "LOOPS I REPEAT\n",
      "\n"
     ]
    }
   ],
   "source": [
    "# [ ] review and run example\n",
    "poem_file = open('poem1.txt', 'r')\n",
    "poem_part = poem_file.read(15).upper()\n",
    "print(poem_part)"
   ]
  },
  {
   "cell_type": "code",
   "execution_count": 23,
   "metadata": {},
   "outputs": [
    {
     "name": "stdout",
     "output_type": "stream",
     "text": [
      "Loops\n",
      "\n"
     ]
    }
   ],
   "source": [
    "# [ ] review and run example\n",
    "poem_part = poem_file.read(6).title()\n",
    "print(poem_part)"
   ]
  },
  {
   "cell_type": "code",
   "execution_count": 24,
   "metadata": {},
   "outputs": [
    {
     "name": "stdout",
     "output_type": "stream",
     "text": [
      "loops\n",
      "\n",
      "False isalpha() because of `\\n`\n"
     ]
    },
    {
     "data": {
      "text/plain": [
       "'loops\\n'"
      ]
     },
     "execution_count": 24,
     "metadata": {},
     "output_type": "execute_result"
    }
   ],
   "source": [
    "# [ ] review and run example\n",
    "poem_part = poem_file.read(6)\n",
    "print(poem_part)\n",
    "print(poem_part.isalpha(), \"isalpha() because of `\\\\n`\")\n",
    "poem_part"
   ]
  },
  {
   "cell_type": "code",
   "execution_count": 25,
   "metadata": {},
   "outputs": [
    {
     "name": "stdout",
     "output_type": "stream",
     "text": [
      "repeat\n",
      "loops\n",
      "loops\n"
     ]
    }
   ],
   "source": [
    "# [ ] review and run example\n",
    "poem_file = open('poem1.txt', 'r')\n",
    "poem_text = poem_file.read()\n",
    "print(poem_text[8:26])"
   ]
  },
  {
   "cell_type": "markdown",
   "metadata": {},
   "source": [
    "# &nbsp;\n",
    "<font size=\"6\" color=\"#B24C00\"  face=\"verdana\"> <B>Task 4</B></font>\n",
    "## City Initials\n",
    "### Read the file cities.text that was imported in task 1\n",
    "1. ensure the code was created and run in **task 1** to import cities.txt  \n",
    "2. create and run code to re-open cities.txt as cities_file  \n",
    "3. **`read()`** cities_file into a variable called cities  \n",
    "4. iterate through the characters in cities \n",
    "  a. test if .isupper(), if True append the character to a string variable: initials\n",
    "  c. else if (elif) character is \"\\n\", if True append the \"\\n\" to initials  \n",
    "5. print initials"
   ]
  },
  {
   "cell_type": "code",
   "execution_count": null,
   "metadata": {},
   "outputs": [],
   "source": [
    "# [ ] compelete the task\n",
    "\n"
   ]
  },
  {
   "cell_type": "code",
   "execution_count": null,
   "metadata": {},
   "outputs": [],
   "source": []
  },
  {
   "cell_type": "markdown",
   "metadata": {},
   "source": [
    "# Module 4 Part 2\n",
    "## Working with Files\n",
    "4.1 File import in Jupyter Notebooks  \n",
    "4.1 File **`open()`** and **`.read()`**  \n",
    "4.2 **File Read as a list with `.readlines()`**  \n",
    "4.2 **File Closing to free resources with `.close()`**  \n",
    "4.3 Remove characters using **`.strip()`**  \n",
    "4.3 File Read a line at a time with **`.readline()`**   \n",
    "4.4 File **`.write()`**  with **`.seek()`**  \n",
    "4.4 File append mode \n",
    "\n",
    "----- \n",
    "\n",
    "><font size=\"5\" color=\"#00A0B2\"  face=\"verdana\"> <B>Student will be able to</B></font>  \n",
    "4.1 Import files in Jupyter Notebooks using the curl command  \n",
    "4.1 **`open()`** and **`.read()`** local files in memory   \n",
    "4.1 **`.read(`)** a specific number of characters  \n",
    "4.2 **Use `.readlines()` to read text from files as a list of lines**  \n",
    "4.2 **Use `.close` to free system resources**  \n",
    "4.3 Use **`.readline()`** to read data from file a line at a time  \n",
    "4.3 Use **`.strip()`** to remove new line characters  \n",
    "4.4 **`.write()`** data to a new local file\n",
    "4.4 Use **`.seek()`** to set file read or write location  \n",
    "4.4 Use file append mode"
   ]
  },
  {
   "cell_type": "markdown",
   "metadata": {},
   "source": [
    "# &nbsp;\n",
    "<font size=\"6\" color=\"#00A0B2\"  face=\"verdana\"> <B>Concepts</B></font>\n",
    "## `.readlines()`\n",
    "### File read as a list with .readlines() \n",
    "converts the lines of a file into a **list** of strings\n",
    "\n",
    "```python\n",
    "poem_lines = poem1.readlines()\n",
    "```"
   ]
  },
  {
   "cell_type": "markdown",
   "metadata": {},
   "source": [
    "\n",
    "<font size=\"4\" color=\"#00A0B2\"  face=\"verdana\"> <B>Examples</B></font>"
   ]
  },
  {
   "cell_type": "code",
   "execution_count": 26,
   "metadata": {
    "scrolled": false
   },
   "outputs": [
    {
     "name": "stdout",
     "output_type": "stream",
     "text": [
      "  % Total    % Received % Xferd  Average Speed   Time    Time     Time  Current\n",
      "                                 Dload  Upload   Total   Spent    Left  Speed\n",
      "100    56  100    56    0     0    373      0 --:--:-- --:--:-- --:--:--   373\n"
     ]
    }
   ],
   "source": [
    "# [ ] Run to download file to notebook\n",
    "!curl https://raw.githubusercontent.com/MicrosoftLearning/intropython/master/poem1.txt -o poem1.txt"
   ]
  },
  {
   "cell_type": "code",
   "execution_count": 27,
   "metadata": {},
   "outputs": [
    {
     "data": {
      "text/plain": [
       "['Loops I repeat\\n',\n",
       " 'loops\\n',\n",
       " 'loops\\n',\n",
       " 'loops\\n',\n",
       " 'I repeat\\n',\n",
       " 'until I\\n',\n",
       " 'break\\n']"
      ]
     },
     "execution_count": 27,
     "metadata": {},
     "output_type": "execute_result"
    }
   ],
   "source": [
    "# [ ] review and run example\n",
    "# open address to file\n",
    "poem1 = open('poem1.txt', 'r')\n",
    "\n",
    "# readlines and print as a list\n",
    "poem_lines = poem1.readlines()\n",
    "poem_lines"
   ]
  },
  {
   "cell_type": "code",
   "execution_count": 30,
   "metadata": {},
   "outputs": [
    {
     "name": "stdout",
     "output_type": "stream",
     "text": [
      "Loops I repeat\n",
      "\n",
      "loops\n",
      "\n",
      "loops\n",
      "\n",
      "loops\n",
      "\n",
      "I repeat\n",
      "\n",
      "until I\n",
      "\n",
      "break\n",
      "\n"
     ]
    }
   ],
   "source": [
    "# [ ] review and run example\n",
    "for line in poem_lines:\n",
    "    print(line)"
   ]
  },
  {
   "cell_type": "markdown",
   "metadata": {
    "collapsed": true
   },
   "source": [
    "# &nbsp;\n",
    "<font size=\"6\" color=\"#B24C00\"  face=\"verdana\"> <B>Task 5</B></font>\n",
    "\n",
    "## `.readlines()` \n",
    "### open the cities file as a list\n",
    "1. **Import a list of cities using curl**  \n",
    "  a. git the list from https://raw.githubusercontent.com/MicrosoftLearning/intropython/master/cities  \n",
    "  b. name the list cities.txt  \n",
    "2. **Open cities.txt in read mode using a variable: cities_file**  \n",
    "3. **Read cities_file as a list variable: cities_lines using `.readlines()`**\n",
    "4. **Print each line of cities_lines by iterating the list**"
   ]
  },
  {
   "cell_type": "code",
   "execution_count": null,
   "metadata": {},
   "outputs": [],
   "source": [
    "# [ ] import cities\n",
    "\n"
   ]
  },
  {
   "cell_type": "code",
   "execution_count": null,
   "metadata": {},
   "outputs": [],
   "source": [
    "# [ ] open cities.txt as cities_file and read the file as a list: cities_lines\n",
    "\n"
   ]
  },
  {
   "cell_type": "code",
   "execution_count": null,
   "metadata": {},
   "outputs": [],
   "source": [
    "# [ ] use list iteration to print each city in cities_lines list\n",
    "\n"
   ]
  },
  {
   "cell_type": "markdown",
   "metadata": {},
   "source": [
    "# &nbsp;\n",
    "<font size=\"6\" color=\"#00A0B2\"  face=\"verdana\"> <B>Concepts</B></font>  \n",
    "\n",
    "## working with lists from .readlines()\n",
    "###  remove newline characters from lists created using .readlines()\n",
    "```python\n",
    "for line in poem_lines:\n",
    "    poem_lines[count] = line[:-1]\n",
    "    count += 1\n",
    "```\n",
    "**`line[:-1]`** sets the end point at the last character of the string, the result is the **`'\\n'`** (newline) character is omitted\n",
    "\n",
    "| list item | list item contents | \n",
    "|-----|-----|\n",
    "| poem_lines[0] | 'Loops I repeat\\n' |  \n",
    "| poem_lines[1] | 'loops\\n' |  \n",
    "| poem_lines[2] | 'loops\\n' | \n",
    "| poem_lines[3] | 'I repeat\\n' | \n",
    "|... | ... | "
   ]
  },
  {
   "cell_type": "markdown",
   "metadata": {},
   "source": [
    "\n",
    "<font size=\"4\" color=\"#00A0B2\"  face=\"verdana\"> <B>Examples</B></font>  \n",
    "This example assumes that poem1.txt has been imported in 1st example above"
   ]
  },
  {
   "cell_type": "code",
   "execution_count": 31,
   "metadata": {},
   "outputs": [
    {
     "name": "stdout",
     "output_type": "stream",
     "text": [
      "['Loops I repeat\\n', 'loops\\n', 'loops\\n', 'loops\\n', 'I repeat\\n', 'until I\\n', 'break\\n']\n"
     ]
    }
   ],
   "source": [
    "# [ ] review and run examples\n",
    "# [ ] re-open file and read file as a list of strings\n",
    "poem1 = open('poem1.txt', 'r')\n",
    "poem_lines = poem1.readlines()\n",
    "print(poem_lines)"
   ]
  },
  {
   "cell_type": "code",
   "execution_count": 32,
   "metadata": {},
   "outputs": [
    {
     "name": "stdout",
     "output_type": "stream",
     "text": [
      "Loops I repeat\n",
      "\n",
      "loops\n",
      "\n",
      "loops\n",
      "\n",
      "loops\n",
      "\n",
      "I repeat\n",
      "\n",
      "until I\n",
      "\n",
      "break\n",
      "\n"
     ]
    }
   ],
   "source": [
    "# [ ] print each list item \n",
    "for line in poem_lines:\n",
    "    print(line)"
   ]
  },
  {
   "cell_type": "code",
   "execution_count": 33,
   "metadata": {},
   "outputs": [
    {
     "name": "stdout",
     "output_type": "stream",
     "text": [
      "['Loops I repeat', 'loops', 'loops', 'loops', 'I repeat', 'until I', 'break']\n"
     ]
    }
   ],
   "source": [
    "# [ ] remove the last character of each list item, which is \"\\n\"\n",
    "count = 0\n",
    "\n",
    "for line in poem_lines:\n",
    "    poem_lines[count] = line[:-1]\n",
    "    count += 1\n",
    "\n",
    "print(poem_lines)"
   ]
  },
  {
   "cell_type": "code",
   "execution_count": 34,
   "metadata": {},
   "outputs": [
    {
     "name": "stdout",
     "output_type": "stream",
     "text": [
      "Loops I repeat\n",
      "loops\n",
      "loops\n",
      "loops\n",
      "I repeat\n",
      "until I\n",
      "break\n"
     ]
    }
   ],
   "source": [
    "# [ ] print each list item \n",
    "for line in poem_lines:\n",
    "    print(line)"
   ]
  },
  {
   "cell_type": "markdown",
   "metadata": {
    "collapsed": true
   },
   "source": [
    "# &nbsp;\n",
    "<font size=\"6\" color=\"#B24C00\"  face=\"verdana\"> <B>Task 6</B></font>\n",
    "\n",
    "## remove newline characters from cities lists created using .readlines()\n",
    "- This task assumes that cites.txt has been imported in Task 1 above\n",
    "- In task 1, the cities were printed with a blank line between each city - this task removes the blank lines\n"
   ]
  },
  {
   "cell_type": "code",
   "execution_count": null,
   "metadata": {},
   "outputs": [],
   "source": [
    "# [ ] re-open file and read file as a list of strings \n",
    "# [ ] open cities.txt as cities_file and read the file as a list: cities_lines\n",
    "\n"
   ]
  },
  {
   "cell_type": "code",
   "execution_count": null,
   "metadata": {},
   "outputs": [],
   "source": [
    "# [ ] remove the last character, \"\\n\", of each cities_lines list item \n",
    "\n"
   ]
  },
  {
   "cell_type": "code",
   "execution_count": null,
   "metadata": {},
   "outputs": [],
   "source": [
    "# [ ] print each list item in cities_lines\n"
   ]
  },
  {
   "cell_type": "markdown",
   "metadata": {},
   "source": [
    "# &nbsp;\n",
    "<font size=\"6\" color=\"#00A0B2\"  face=\"verdana\"> <B>Concepts</B></font>  \n",
    "\n",
    "## `.close()`\n",
    "### File .close() method frees resources \n",
    "flie.close() method removes the reference created from file open() function \n",
    "\n",
    "```python  \n",
    "poem1.close()\n",
    "```  "
   ]
  },
  {
   "cell_type": "markdown",
   "metadata": {},
   "source": [
    "\n",
    "<font size=\"4\" color=\"#00A0B2\"  face=\"verdana\"> <B>Examples</B></font>  \n",
    "This example assumes that poem1.txt has been imported in 1st example above"
   ]
  },
  {
   "cell_type": "code",
   "execution_count": 47,
   "metadata": {},
   "outputs": [
    {
     "data": {
      "text/plain": [
       "False"
      ]
     },
     "execution_count": 47,
     "metadata": {},
     "output_type": "execute_result"
    }
   ],
   "source": [
    "# [ ] review and run example: open and readlines of poem1.txt\n",
    "poem1 = open('poem1.txt', 'r')\n",
    "poem1.closed"
   ]
  },
  {
   "cell_type": "code",
   "execution_count": 38,
   "metadata": {},
   "outputs": [
    {
     "ename": "ValueError",
     "evalue": "I/O operation on closed file.",
     "output_type": "error",
     "traceback": [
      "\u001b[0;31m---------------------------------------------------------------------------\u001b[0m",
      "\u001b[0;31mValueError\u001b[0m                                Traceback (most recent call last)",
      "\u001b[0;32m<ipython-input-38-1c08364ef78f>\u001b[0m in \u001b[0;36m<module>\u001b[0;34m\u001b[0m\n\u001b[1;32m      1\u001b[0m \u001b[0;31m# [ ] review and run example: readlines breaks if file is no longer open\u001b[0m\u001b[0;34m\u001b[0m\u001b[0;34m\u001b[0m\u001b[0;34m\u001b[0m\u001b[0m\n\u001b[1;32m      2\u001b[0m \u001b[0;34m\u001b[0m\u001b[0m\n\u001b[0;32m----> 3\u001b[0;31m \u001b[0mpoem_lines\u001b[0m \u001b[0;34m=\u001b[0m \u001b[0mpoem1\u001b[0m\u001b[0;34m.\u001b[0m\u001b[0mreadlines\u001b[0m\u001b[0;34m(\u001b[0m\u001b[0;34m)\u001b[0m\u001b[0;34m\u001b[0m\u001b[0;34m\u001b[0m\u001b[0m\n\u001b[0m\u001b[1;32m      4\u001b[0m \u001b[0mprint\u001b[0m\u001b[0;34m(\u001b[0m\u001b[0mpoem_lines\u001b[0m\u001b[0;34m)\u001b[0m\u001b[0;34m\u001b[0m\u001b[0;34m\u001b[0m\u001b[0m\n",
      "\u001b[0;31mValueError\u001b[0m: I/O operation on closed file."
     ]
    }
   ],
   "source": [
    "# [ ] review and run example: readlines breaks if file is no longer open\n",
    "\n",
    "poem_lines = poem1.readlines()\n",
    "print(poem_lines)"
   ]
  },
  {
   "cell_type": "code",
   "execution_count": 48,
   "metadata": {},
   "outputs": [
    {
     "data": {
      "text/plain": [
       "True"
      ]
     },
     "execution_count": 48,
     "metadata": {},
     "output_type": "execute_result"
    }
   ],
   "source": [
    "# [ ] review and run example: Close poem1\n",
    "poem1.close()\n",
    "poem1.closed"
   ]
  },
  {
   "cell_type": "markdown",
   "metadata": {
    "collapsed": true
   },
   "source": [
    "# &nbsp;\n",
    "<font size=\"6\" color=\"#B24C00\"  face=\"verdana\"> <B>Task 7</B></font>  \n",
    "## File .close() \n",
    "write each item in it's own cell  \n",
    "- open cities.txt as cities_file  \n",
    "- read the lines as cities_lines\n",
    "- print the cities that **start with the letter \"D\" or greater**  \n",
    "- close cities_file\n",
    "- test that file is closed"
   ]
  },
  {
   "cell_type": "code",
   "execution_count": null,
   "metadata": {},
   "outputs": [],
   "source": [
    "# [ ] open cities.txt as cities_file\n",
    "\n"
   ]
  },
  {
   "cell_type": "code",
   "execution_count": null,
   "metadata": {},
   "outputs": [],
   "source": [
    "# [ ] read the lines as cities_lines\n",
    "\n"
   ]
  },
  {
   "cell_type": "code",
   "execution_count": null,
   "metadata": {},
   "outputs": [],
   "source": [
    "# [ ] print the cities that start with the letter \"D\" or greater\n",
    "\n"
   ]
  },
  {
   "cell_type": "code",
   "execution_count": null,
   "metadata": {},
   "outputs": [],
   "source": [
    "# [ ] test that file is closed\n",
    "\n"
   ]
  },
  {
   "cell_type": "code",
   "execution_count": null,
   "metadata": {},
   "outputs": [],
   "source": [
    "# [ ] close cities_file\n",
    "\n"
   ]
  },
  {
   "cell_type": "markdown",
   "metadata": {
    "collapsed": true
   },
   "source": [
    "# &nbsp;\n",
    "<font size=\"6\" color=\"#B24C00\"  face=\"verdana\"> <B>Task 8</B></font>  \n",
    "## readlines() poem2  \n",
    "write each item in its own cell  \n",
    "- import https://raw.githubusercontent.com/MicrosoftLearning/intropython/master/poem2.txt as poem2.txt  \n",
    "- open poem2.txt as poem2_file in read mode\n",
    "- create a list of strings, called poem2_lines, from each line of poem2_text (use **.readlines()**)  \n",
    "- remove the newline character for each list item in poem2_lines  \n",
    "- print the poem2 lines in reverse order  "
   ]
  },
  {
   "cell_type": "code",
   "execution_count": null,
   "metadata": {},
   "outputs": [],
   "source": [
    "# [ ] import https://raw.githubusercontent.com/MicrosoftLearning/intropython/master/poem2.txt as poem2.txt\n",
    "\n"
   ]
  },
  {
   "cell_type": "code",
   "execution_count": null,
   "metadata": {},
   "outputs": [],
   "source": [
    "# [ ] open poem2.txt as poem2_text in read mode\n",
    "\n"
   ]
  },
  {
   "cell_type": "code",
   "execution_count": null,
   "metadata": {},
   "outputs": [],
   "source": [
    "# [ ] create a list of strings, called poem2_lines, from each line of poem2_text\n",
    "\n"
   ]
  },
  {
   "cell_type": "code",
   "execution_count": null,
   "metadata": {},
   "outputs": [],
   "source": [
    "# [ ] remove the newline character for each list item in poem2_lines\n",
    "\n"
   ]
  },
  {
   "cell_type": "code",
   "execution_count": null,
   "metadata": {},
   "outputs": [],
   "source": [
    "# [ ] print the poem2 lines in reverse order\n",
    "\n"
   ]
  },
  {
   "cell_type": "markdown",
   "metadata": {},
   "source": [
    "# Module 4 Part 3\n",
    "## Working with Files\n",
    "4.1 File import in Jupyter Notebooks  \n",
    "4.1 File **`open()`** and **`.read()`**  \n",
    "4.2 File Read as a list with **`.readlines()`**  \n",
    "4.2 File Closing to free resources with **`.close`**  \n",
    "4.3 **File Read, a line at a time with `.readline()`**  \n",
    "4.3 **Remove characters using `.strip()`**  \n",
    "4.4 File **`.write()`**  with **`.seek()`**  \n",
    "4.4 File append mode \n",
    "\n",
    "----- \n",
    "\n",
    "><font size=\"5\" color=\"#00A0B2\"  face=\"verdana\"> <B>Student will be able to</B></font>  \n",
    "4.1 Import files in Jupyter Notebooks  \n",
    "4.1 **`open()`** and **`.read()`** local files in memory   \n",
    "4.1 **`.read()`** a specific number of characters  \n",
    "4.2 Use **`.readlines()`** to read data from file as a **list** of lines   \n",
    "4.2 Use **`.close`** to free system resources  \n",
    "4.3 **Use `.readline()` to read data from file, one line at a time**  \n",
    "4.3 **Use `.strip()` to remove new line characters and other whitespaces**  \n",
    "4.4 **`.write()`** data to a new local file\n",
    "4.4 Use **`.seek()`** to set file read or write location  \n",
    "4.4 Use file append mode"
   ]
  },
  {
   "cell_type": "markdown",
   "metadata": {},
   "source": [
    "# &nbsp;\n",
    "<font size=\"6\" color=\"#00A0B2\"  face=\"verdana\"> <B>Concepts</B></font>\n",
    "## .readline(): read files a line at a time\n",
    "### use .readline() to read a line in a file as a string\n",
    "each .readline() moves to the next available line in the file\n",
    "```python\n",
    "poem1 = open('poem1.txt', 'r')\n",
    "poem_line1 = poem1.readline()\n",
    "poem_line2 = poem1.readline()\n",
    "poem_line3 = poem1.readline()\n",
    "```"
   ]
  },
  {
   "cell_type": "markdown",
   "metadata": {},
   "source": [
    "\n",
    "<font size=\"4\" color=\"#00A0B2\"  face=\"verdana\"> <B>Examples</B></font>"
   ]
  },
  {
   "cell_type": "code",
   "execution_count": 49,
   "metadata": {},
   "outputs": [
    {
     "name": "stdout",
     "output_type": "stream",
     "text": [
      "  % Total    % Received % Xferd  Average Speed   Time    Time     Time  Current\n",
      "                                 Dload  Upload   Total   Spent    Left  Speed\n",
      "100    56  100    56    0     0    518      0 --:--:-- --:--:-- --:--:--   518\n"
     ]
    }
   ],
   "source": [
    "# [ ]Run to download file poem1.txt\n",
    "!curl https://raw.githubusercontent.com/MicrosoftLearning/intropython/master/poem1.txt -o poem1.txt "
   ]
  },
  {
   "cell_type": "code",
   "execution_count": 18,
   "metadata": {},
   "outputs": [],
   "source": [
    "# [ ] review and run example\n",
    "# open address to file\n",
    "poem1 = open('poem1.txt', 'r')"
   ]
  },
  {
   "cell_type": "code",
   "execution_count": 19,
   "metadata": {},
   "outputs": [],
   "source": [
    "# [ ] review and run example\n",
    "# readline 1, 2, 3\n",
    "poem_line1 = poem1.readline()\n",
    "poem_line2 = poem1.readline()\n",
    "poem_line3 = poem1.readline()"
   ]
  },
  {
   "cell_type": "code",
   "execution_count": 5,
   "metadata": {},
   "outputs": [
    {
     "name": "stdout",
     "output_type": "stream",
     "text": [
      "Loops I repeat\n",
      "loops\n",
      "loops\n",
      "\n"
     ]
    }
   ],
   "source": [
    "# [ ] review and run example: print the first 3 .readline() values\n",
    "print(poem_line1 + poem_line2 + poem_line3)"
   ]
  },
  {
   "cell_type": "code",
   "execution_count": 14,
   "metadata": {},
   "outputs": [
    {
     "ename": "ValueError",
     "evalue": "I/O operation on closed file.",
     "output_type": "error",
     "traceback": [
      "\u001b[1;31m---------------------------------------------------------------------------\u001b[0m",
      "\u001b[1;31mValueError\u001b[0m                                Traceback (most recent call last)",
      "\u001b[1;32mc:\\Users\\Four\\Documents\\GitHub\\pythonteachingcode\\Python Fundamentals\\Module_4.0_Tutorials_Files_Python_Fundamentals.ipynb Cell 83\u001b[0m in \u001b[0;36m<cell line: 2>\u001b[1;34m()\u001b[0m\n\u001b[0;32m      <a href='vscode-notebook-cell:/c%3A/Users/Four/Documents/GitHub/pythonteachingcode/Python%20Fundamentals/Module_4.0_Tutorials_Files_Python_Fundamentals.ipynb#ch0000082?line=0'>1</a>\u001b[0m \u001b[39m# [ ] review and run example printing return value & re-run several times\u001b[39;00m\n\u001b[1;32m----> <a href='vscode-notebook-cell:/c%3A/Users/Four/Documents/GitHub/pythonteachingcode/Python%20Fundamentals/Module_4.0_Tutorials_Files_Python_Fundamentals.ipynb#ch0000082?line=1'>2</a>\u001b[0m \u001b[39mprint\u001b[39m(poem1\u001b[39m.\u001b[39;49mreadline())\n",
      "\u001b[1;31mValueError\u001b[0m: I/O operation on closed file."
     ]
    }
   ],
   "source": [
    "# [ ] review and run example printing return value & re-run several times\n",
    "print(poem1.readline())"
   ]
  },
  {
   "cell_type": "code",
   "execution_count": 13,
   "metadata": {},
   "outputs": [],
   "source": [
    "# [ ] review and run example to close file in memory- then run previous cell\n",
    "\n",
    "poem1.close()"
   ]
  },
  {
   "cell_type": "markdown",
   "metadata": {
    "collapsed": true
   },
   "source": [
    "# &nbsp;\n",
    "<font size=\"6\" color=\"#B24C00\"  face=\"verdana\"> <B>Task 9</B></font>\n",
    "\n",
    "## use readline to get rainbow colors\n",
    "- import https://raw.githubusercontent.com/MicrosoftLearning/intropython/master/rainbow as rainbow.txt  \n",
    "- open rainbow.txt as rainbow_file as read-only  \n",
    "- read the first 3 lines into variables: color1, color2, color3  \n",
    "- close rainbow_file \n",
    "- print the first 3 colors  "
   ]
  },
  {
   "cell_type": "code",
   "execution_count": 15,
   "metadata": {},
   "outputs": [
    {
     "name": "stderr",
     "output_type": "stream",
     "text": [
      "  % Total    % Received % Xferd  Average Speed   Time    Time     Time  Current\n",
      "                                 Dload  Upload   Total   Spent    Left  Speed\n",
      "\n",
      "  0     0    0     0    0     0      0      0 --:--:-- --:--:-- --:--:--     0\n",
      "100    43  100    43    0     0    219      0 --:--:-- --:--:-- --:--:--   220\n"
     ]
    }
   ],
   "source": [
    "# [ ] import https://raw.githubusercontent.com/MicrosoftLearning/intropython/master/rainbow as rainbow.txt\n",
    "!curl https://raw.githubusercontent.com/MicrosoftLearning/intropython/master/rainbow -o rainbow.txt\n"
   ]
  },
  {
   "cell_type": "code",
   "execution_count": 24,
   "metadata": {},
   "outputs": [],
   "source": [
    "# [ ] open rainbow.txt as rainbow_text\n",
    "rainbow_text= open(\"rainbow.txt\")"
   ]
  },
  {
   "cell_type": "code",
   "execution_count": 25,
   "metadata": {},
   "outputs": [],
   "source": [
    "# [ ] read the first 3 lines into variables: color1, color2, color3\n",
    "color1= rainbow_text.readline()\n",
    "color2= rainbow_text.readline()\n",
    "color3= rainbow_text.readline()\n"
   ]
  },
  {
   "cell_type": "code",
   "execution_count": 26,
   "metadata": {},
   "outputs": [],
   "source": [
    "# [ ] close rainbow.txt\n",
    "rainbow_text.close()"
   ]
  },
  {
   "cell_type": "code",
   "execution_count": 27,
   "metadata": {},
   "outputs": [
    {
     "name": "stdout",
     "output_type": "stream",
     "text": [
      "red\n",
      "orange\n",
      "yellow\n",
      "\n"
     ]
    }
   ],
   "source": [
    "# [ ] print the first 3 colors\n",
    "\n",
    "print(color1 + color2 + color3)"
   ]
  },
  {
   "cell_type": "markdown",
   "metadata": {},
   "source": [
    "# &nbsp;\n",
    "<font size=\"6\" color=\"#00A0B2\"  face=\"verdana\"> <B>Concepts</B></font>\n",
    "## `.readline()` in a `while` loop\n",
    "```python\n",
    "poem_line = poem1.readline()\n",
    "while poem_line:\n",
    "    print(poem_line.capitalized())\n",
    "    poem_line = poem1.readline()\n",
    "```  \n",
    "### `while .readline()` \n",
    "- while loop continues while the readline() value in poem_line returns text  \n",
    "  - a string value evaluates as True in the while loop  \n",
    "  - an empty string, '', evaluates **not True** in the while loop \n",
    "- when readline() reaches the end of the file, an empty string is returned  \n"
   ]
  },
  {
   "cell_type": "markdown",
   "metadata": {},
   "source": [
    "\n",
    "<font size=\"4\" color=\"#00A0B2\"  face=\"verdana\"> <B>Examples</B></font>"
   ]
  },
  {
   "cell_type": "code",
   "execution_count": 28,
   "metadata": {},
   "outputs": [],
   "source": [
    "# [ ] review and run example\n",
    "# open address to file\n",
    "poem1 = open('poem1.txt', 'r')"
   ]
  },
  {
   "cell_type": "code",
   "execution_count": 29,
   "metadata": {},
   "outputs": [
    {
     "name": "stdout",
     "output_type": "stream",
     "text": [
      "loops i repeat\n",
      "loops\n",
      "loops\n",
      "loops\n",
      "i repeat\n",
      "until i\n",
      "break\n"
     ]
    }
   ],
   "source": [
    "# [ ] review and run example - use a while loop to read each line of a file \n",
    "#  remove last character ('\\n') and print as upper case\n",
    "poem_line = poem1.readline()\n",
    "\n",
    "while poem_line:\n",
    "    print(poem_line[:-1].lower())\n",
    "    poem_line = poem1.readline()"
   ]
  },
  {
   "cell_type": "code",
   "execution_count": 69,
   "metadata": {},
   "outputs": [],
   "source": [
    "# [ ] review and run example\n",
    "poem1.close()"
   ]
  },
  {
   "cell_type": "markdown",
   "metadata": {
    "collapsed": true
   },
   "source": [
    "# &nbsp;\n",
    "<font size=\"6\" color=\"#B24C00\"  face=\"verdana\"> <B>Task 10</B></font>\n",
    "\n",
    "## while .readline()  rainbow colors\n",
    "assumes rainbow.txt has been imported in task 1  \n",
    "- open rainbow.txt as rainbow_file as read-only  \n",
    "- read a color from each line of rainbow_file in a while loop  \n",
    "  - print each color capitalized  \n",
    "- close rainbow_file  "
   ]
  },
  {
   "cell_type": "code",
   "execution_count": null,
   "metadata": {},
   "outputs": [],
   "source": [
    "# [ ] open rainbow.txt as rainbow_text as read-only\n",
    "\n"
   ]
  },
  {
   "cell_type": "code",
   "execution_count": null,
   "metadata": {},
   "outputs": [],
   "source": [
    "# [ ] read the color from lines of rainbow_text in a while loop\n",
    "# [ ] print each color capitalized as the loop runs\n",
    "\n"
   ]
  },
  {
   "cell_type": "code",
   "execution_count": null,
   "metadata": {},
   "outputs": [],
   "source": [
    "# [ ] close rainbow_text \n",
    "\n"
   ]
  },
  {
   "cell_type": "markdown",
   "metadata": {},
   "source": [
    "# &nbsp;\n",
    "<font size=\"6\" color=\"#00A0B2\"  face=\"verdana\"> <B>Concepts</B></font>  \n",
    "\n",
    "## `.readline()`  with `.strip()`\n",
    "### .strip() whitespace\n",
    "```python\n",
    "poem_line = poem1.readline().strip()\n",
    "```\n",
    "**.strip()** removes leading and trailing whitespace, including the '\\n' formatting character"
   ]
  },
  {
   "cell_type": "markdown",
   "metadata": {},
   "source": [
    "\n",
    "<font size=\"4\" color=\"#00A0B2\"  face=\"verdana\"> <B>Examples</B></font>"
   ]
  },
  {
   "cell_type": "code",
   "execution_count": 70,
   "metadata": {},
   "outputs": [],
   "source": [
    "# [ ] review and run example\n",
    "# open address to file\n",
    "poem1 = open('poem1.txt', 'r')\n"
   ]
  },
  {
   "cell_type": "code",
   "execution_count": 71,
   "metadata": {},
   "outputs": [
    {
     "name": "stdout",
     "output_type": "stream",
     "text": [
      "Loops I repeat\n",
      "\n",
      "loops\n",
      "\n",
      "loops\n",
      "\n",
      "loops\n",
      "\n",
      "I repeat\n",
      "\n",
      "until I\n",
      "\n",
      "break\n",
      "\n"
     ]
    }
   ],
   "source": [
    "# [ ] review and run example - readline while loop without removing '\\n'\n",
    "poem_line = poem1.readline()\n",
    "\n",
    "while poem_line:\n",
    "    print(poem_line)\n",
    "    poem_line = poem1.readline()\n",
    "\n",
    "poem1.close()"
   ]
  },
  {
   "cell_type": "markdown",
   "metadata": {},
   "source": [
    "### now with `.strip()` to remove leading and trailing whitespace characters"
   ]
  },
  {
   "cell_type": "code",
   "execution_count": 72,
   "metadata": {},
   "outputs": [
    {
     "name": "stdout",
     "output_type": "stream",
     "text": [
      "Loops I repeat\n",
      "loops\n",
      "loops\n",
      "loops\n",
      "I repeat\n",
      "until I\n",
      "break\n"
     ]
    }
   ],
   "source": [
    "# [ ] review and run example - readline with .strip() to remove '\\n'\n",
    "poem1 = open('poem1.txt', 'r')\n",
    "poem_line = poem1.readline().strip()\n",
    "\n",
    "while poem_line:\n",
    "    print(poem_line)\n",
    "    poem_line = poem1.readline().strip()\n",
    "    \n",
    "poem1.close()"
   ]
  },
  {
   "cell_type": "markdown",
   "metadata": {
    "collapsed": true
   },
   "source": [
    "# &nbsp;\n",
    "<font size=\"6\" color=\"#B24C00\"  face=\"verdana\"> <B>Task 11</B></font>  \n",
    "## `.readline()`  with `.strip()` rainbow colors\n",
    "assumes rainbow.tx has been imported in task 1  \n",
    "- open rainbow.txt as rainbow_file as read-only  \n",
    "- read a color from each line of rainbow_file in a while loop  \n",
    "  - use .strip to remove the whitespace  \n",
    "  - print each color upper case  \n",
    "- close rainbow_file "
   ]
  },
  {
   "cell_type": "code",
   "execution_count": null,
   "metadata": {},
   "outputs": [],
   "source": [
    "# [ ] open rainbow.txt as rainbow_text as read-only  \n",
    "\n"
   ]
  },
  {
   "cell_type": "code",
   "execution_count": null,
   "metadata": {},
   "outputs": [],
   "source": [
    "# [ ] read a color from each line of rainbow_text in a while loop  \n",
    "# use .strip to remove the whitespace '\\n' character \n",
    "# print each color upper case \n",
    "\n"
   ]
  },
  {
   "cell_type": "markdown",
   "metadata": {
    "collapsed": true
   },
   "source": [
    "# &nbsp;\n",
    "<font size=\"6\" color=\"#00A0B2\"  face=\"verdana\"> <B>Concepts</B></font>  \n",
    "\n",
    "## `.strip()` with arguments\n",
    "### .strip() arguments\n",
    "```python\n",
    "color = rainbow_messy.readline().strip('*\\n*')\n",
    "```\n",
    "**`.strip('*\\n')`** removes leading and trailing **`*`** and **\\n**"
   ]
  },
  {
   "cell_type": "markdown",
   "metadata": {},
   "source": [
    "\n",
    "<font size=\"4\" color=\"#00A0B2\"  face=\"verdana\"> <B>Examples</B></font>"
   ]
  },
  {
   "cell_type": "code",
   "execution_count": 73,
   "metadata": {},
   "outputs": [
    {
     "name": "stdout",
     "output_type": "stream",
     "text": [
      "  % Total    % Received % Xferd  Average Speed   Time    Time     Time  Current\n",
      "                                 Dload  Upload   Total   Spent    Left  Speed\n",
      "100    71  100    71    0     0    628      0 --:--:-- --:--:-- --:--:--   622\n"
     ]
    }
   ],
   "source": [
    "# [ ] review and run example: import rainbow_messy.txt\n",
    "!curl https://raw.githubusercontent.com/MicrosoftLearning/intropython/master/rainbow_messy -o rainbow_messy.txt"
   ]
  },
  {
   "cell_type": "code",
   "execution_count": 74,
   "metadata": {},
   "outputs": [],
   "source": [
    "# [ ] review and run example: open file read only\n",
    "rainbow_messy = open('rainbow_messy.txt', 'r')"
   ]
  },
  {
   "cell_type": "code",
   "execution_count": 75,
   "metadata": {},
   "outputs": [
    {
     "name": "stdout",
     "output_type": "stream",
     "text": [
      "**red**\n",
      "\n",
      "**orange**\n",
      "\n",
      "**yellow**\n",
      "\n",
      "**green**\n",
      "\n",
      "**blue**\n",
      "\n",
      "**indigo**\n",
      "\n",
      "**violet**\n",
      "\n"
     ]
    }
   ],
   "source": [
    "# [ ] review and run example: .readline() without .strip()\n",
    "\n",
    "color = rainbow_messy.readline()\n",
    "\n",
    "while color:\n",
    "    print(color)\n",
    "    color = rainbow_messy.readline()"
   ]
  },
  {
   "cell_type": "code",
   "execution_count": 78,
   "metadata": {},
   "outputs": [
    {
     "name": "stdout",
     "output_type": "stream",
     "text": [
      "ed\n",
      "orange\n",
      "yellow\n",
      "green\n",
      "blue\n",
      "indigo\n",
      "violet\n"
     ]
    }
   ],
   "source": [
    "# [ ] review and run example: strip \"*\" and newline ('\\n')\n",
    "rainbow_messy = open('rainbow_messy.txt', 'r')\n",
    "\n",
    "color = rainbow_messy.readline().strip('*\\n')\n",
    "\n",
    "while color:\n",
    "    print(color)\n",
    "    color = rainbow_messy.readline().strip('*\\n')\n",
    "\n",
    "rainbow_messy.close()"
   ]
  },
  {
   "cell_type": "markdown",
   "metadata": {
    "collapsed": true
   },
   "source": [
    "# &nbsp;\n",
    "<font size=\"6\" color=\"#B24C00\"  face=\"verdana\"> <B>Task 12</B></font>  \n",
    "## `.strip()` with arguments\n",
    "- run import of cities_messy.txt below at least once this notebook session\n",
    "- run open cities_messy.txt below before each test of the while loop cell\n",
    "- edit while loop to strip the colon ':' , newline and spaces\n",
    "- close cities_messy"
   ]
  },
  {
   "cell_type": "code",
   "execution_count": null,
   "metadata": {},
   "outputs": [],
   "source": [
    "# [ ] import the file\n"
   ]
  },
  {
   "cell_type": "code",
   "execution_count": null,
   "metadata": {},
   "outputs": [],
   "source": [
    "# [ ] run to read the file into memory\n"
   ]
  },
  {
   "cell_type": "code",
   "execution_count": null,
   "metadata": {},
   "outputs": [],
   "source": [
    "# [ ] edit the code to remove leading or trailing colon, newline and space characters\n"
   ]
  },
  {
   "cell_type": "markdown",
   "metadata": {},
   "source": [
    "# &nbsp;\n",
    "<font size=\"6\" color=\"#B24C00\"  face=\"verdana\"> <B>Task 13</B></font>  \n",
    "## `.strip()` parentheses from poem2_messy\n",
    "\n",
    "- import https://raw.githubusercontent.com/MicrosoftLearning/intropython/master/poem2_messy as poem2_messy.txt  \n",
    "- open poem2_messy.txt as poem2_messy in read mode  \n",
    "- edit while loop to strip the leading and trailing parentheses & print the poem without blank lines  \n",
    "- close poem2_messy"
   ]
  },
  {
   "cell_type": "code",
   "execution_count": null,
   "metadata": {},
   "outputs": [],
   "source": [
    "# [ ] import https://raw.githubusercontent.com/MicrosoftLearning/intropython/master/poem2_messy as poem2_messy.txt  \n",
    "\n"
   ]
  },
  {
   "cell_type": "code",
   "execution_count": null,
   "metadata": {},
   "outputs": [],
   "source": [
    "# [ ] open poem2_messy.txt as poem2_messy in read mode\n",
    "\n"
   ]
  },
  {
   "cell_type": "code",
   "execution_count": null,
   "metadata": {},
   "outputs": [],
   "source": [
    "# [ ] edit while loop to strip the leading and trailing parentheses, and newlines\n",
    "# [ ] print the poem \n",
    "\n",
    "\n",
    "\n"
   ]
  },
  {
   "cell_type": "markdown",
   "metadata": {},
   "source": [
    "# Module 4 Part 4\n",
    "## Working with Files\n",
    "4.1 File import in Jupyter Notebooks  \n",
    "4.1 File **`open()`** and **`.read()`**  \n",
    "4.2 File Read as a list with **`.readlines()`**  \n",
    "4.2 File Closing to free resources with **`.close()`**  \n",
    "4.3 File Read a line at a time with **`.readline()`**  \n",
    "4.3 Remove characters using **`.strip()`**   \n",
    "4.4 **`.write()` data to a new local file**  \n",
    "4.4 **File `.write()`**  with **`.seek()`**  \n",
    "4.4 **File append**   \n",
    "\n",
    "----- \n",
    "\n",
    "><font size=\"5\" color=\"#00A0B2\"  face=\"verdana\"> <B>Student will be able to</B></font>  \n",
    "4.1 Import files in Jupyter Notebooks  \n",
    "4.1 Open and **`.read()`** local files in memory   \n",
    "4.1 **`.read()`** a specific number of characters  \n",
    "4.2 Use **`.readlines()`** to read data from file as a **list** of lines  \n",
    "4.2 Use **`.readlines()`** to read data from file as a **list** of lines   \n",
    "4.3 Use **`.readline()`** to read data from file a line at a time   \n",
    "4.3 Use **`.strip()`** to remove new line characters  \n",
    "4.4 **`.write()` data to a new local file**  \n",
    "4.4 **Use `.seek()` to set file read or write location**  \n",
    "4.4 **Use file append mode**  "
   ]
  },
  {
   "cell_type": "markdown",
   "metadata": {},
   "source": [
    "# &nbsp;\n",
    "<font size=\"6\" color=\"#00A0B2\"  face=\"verdana\"> <B>Concepts</B></font>\n",
    "## writing to a file opened in write mode `'w' or 'w+'`\n",
    ">```python\n",
    "poem_file = open('poem.txt', 'w') \n",
    "poem_file.write(\"Hello World!\\n\")\n",
    "### write mode:  `'w' `  \n",
    "### write mode plus read: `'w+'`  \n",
    "#### **`'w'`** and **`'w+'`** modes will create a new file or overwrite existing files  \n",
    "**All previous data will be lost**"
   ]
  },
  {
   "cell_type": "markdown",
   "metadata": {},
   "source": [
    "\n",
    "<font size=\"4\" color=\"#00A0B2\"  face=\"verdana\"> <B>Examples</B></font>"
   ]
  },
  {
   "cell_type": "code",
   "execution_count": 79,
   "metadata": {},
   "outputs": [],
   "source": [
    "# [ ] review and run example\n",
    "# - creates a new local file or overwrites the local file (makes it blank)\n",
    "new_file = open('new_file.txt', 'w')"
   ]
  },
  {
   "cell_type": "code",
   "execution_count": 80,
   "metadata": {},
   "outputs": [
    {
     "data": {
      "text/plain": [
       "77"
      ]
     },
     "execution_count": 80,
     "metadata": {},
     "output_type": "execute_result"
    }
   ],
   "source": [
    "# [ ] review and run example to write some text to the file\n",
    "new_file.write(\"This is line #1 with 'w'\\nThis is line #2 with 'w'\\nThis is line #3 withn 'w'!\\n\")"
   ]
  },
  {
   "cell_type": "code",
   "execution_count": 81,
   "metadata": {},
   "outputs": [],
   "source": [
    "# [ ] review and run example\n",
    "# - close file and re-open in read mode \n",
    "# - head pointer is at start of file\n",
    "new_file.close()\n",
    "new_file = open('new_file.txt', 'r')"
   ]
  },
  {
   "cell_type": "code",
   "execution_count": 82,
   "metadata": {
    "scrolled": true
   },
   "outputs": [
    {
     "name": "stdout",
     "output_type": "stream",
     "text": [
      "This is line #1 with 'w'\n",
      "This is line #2 with 'w'\n",
      "This is line #3 withn 'w'!\n",
      "\n"
     ]
    }
   ],
   "source": [
    "# [ ] review and run example to see what was written to the file\n",
    "new_text = new_file.read()\n",
    "print(new_text)\n",
    "\n",
    "new_file.close()"
   ]
  },
  {
   "cell_type": "markdown",
   "metadata": {},
   "source": [
    "#### `'w+'` means the file is in write plus read mode  \n",
    "- after any write, the pointer is at the end of text that has been written \n",
    "- to read the entire file, the pointer needs to be at the beginning of the file - see **.seek()** below to set the file pointer"
   ]
  },
  {
   "cell_type": "markdown",
   "metadata": {
    "collapsed": true
   },
   "source": [
    "# &nbsp;\n",
    "<font size=\"6\" color=\"#B24C00\"  face=\"verdana\"> <B>Task 14</B></font>\n",
    "\n",
    "## create a local file  \n",
    "### open in 'w' mode  \n",
    "- open inner_planets.txt in write mode **'w'** to create a local file\n",
    "- write the first four planets from the sun in earth's solar system (Mercury, Venus, Earth, Mars) on separate lines\n",
    "- close the file and re-open in read mode **'r'** \n",
    "- use .read() to read the entire file contents\n",
    "- print the entire file contents"
   ]
  },
  {
   "cell_type": "code",
   "execution_count": null,
   "metadata": {},
   "outputs": [],
   "source": [
    "# [ ] open planets.txt in write mode\n",
    "\n"
   ]
  },
  {
   "cell_type": "code",
   "execution_count": null,
   "metadata": {},
   "outputs": [],
   "source": [
    "# [ ] write Mercury, Venus, Earth, Mars on separate lines\n",
    "\n"
   ]
  },
  {
   "cell_type": "code",
   "execution_count": null,
   "metadata": {},
   "outputs": [],
   "source": [
    "# [ ] close the file and re-open in read mode\n",
    "\n"
   ]
  },
  {
   "cell_type": "code",
   "execution_count": null,
   "metadata": {},
   "outputs": [],
   "source": [
    "# [ ] use .read() to read the entire file contents\n",
    "\n"
   ]
  },
  {
   "cell_type": "code",
   "execution_count": null,
   "metadata": {},
   "outputs": [],
   "source": [
    "# [ ] print the entire file contents and close the file\n",
    "\n"
   ]
  },
  {
   "cell_type": "markdown",
   "metadata": {},
   "source": [
    "# &nbsp;\n",
    "<font size=\"6\" color=\"#00A0B2\"  face=\"verdana\"> <B>Concepts</B></font>\n",
    "## using .seek(0) \n",
    "### setting the pointer to beginning of file  \n",
    ">```python\n",
    "new_file.seek(0)\n",
    "new_contents = new_file.read()\n",
    "print(new_contents)\n",
    "\n",
    "### using .seek() to set the read/write pointer to beginning of file  \n",
    "**`new_file.seek(0)`** moves the file read\\write pointer to the start of the file "
   ]
  },
  {
   "cell_type": "markdown",
   "metadata": {},
   "source": [
    "### &nbsp;\n",
    "<font size=\"6\" color=\"#00A0B2\"  face=\"verdana\"> <B>Examples</B></font>\n",
    "### seek() with `'w+'`"
   ]
  },
  {
   "cell_type": "code",
   "execution_count": 83,
   "metadata": {},
   "outputs": [],
   "source": [
    "# [ ] review and run example\n",
    "# creates a new local file or overwrites the local file (makes it blank)\n",
    "new_file = open('new_file.txt', 'w+')"
   ]
  },
  {
   "cell_type": "markdown",
   "metadata": {},
   "source": [
    "write plus read **`'w+'`**  \n",
    "**`'w+'`** overwrites existing files of the same name - **rendering the file blank**  \n",
    "the file is writeable and readable"
   ]
  },
  {
   "cell_type": "code",
   "execution_count": 84,
   "metadata": {},
   "outputs": [
    {
     "name": "stdout",
     "output_type": "stream",
     "text": [
      "\n"
     ]
    }
   ],
   "source": [
    "# [ ] review and run example to see what was written to the file \n",
    "# - 'w+' overwrites, we can read, but the file is ***BLANK***\n",
    "new_text = new_file.read()\n",
    "print(new_text)"
   ]
  },
  {
   "cell_type": "code",
   "execution_count": 85,
   "metadata": {},
   "outputs": [
    {
     "data": {
      "text/plain": [
       "52"
      ]
     },
     "execution_count": 85,
     "metadata": {},
     "output_type": "execute_result"
    }
   ],
   "source": [
    "# [ ] review and run - write to the blank file\n",
    "new_file.write(\"This is line #1 with 'w+'\\nThis is line #2 with 'w+'\\n\")"
   ]
  },
  {
   "cell_type": "code",
   "execution_count": 86,
   "metadata": {},
   "outputs": [
    {
     "name": "stdout",
     "output_type": "stream",
     "text": [
      "\n"
     ]
    }
   ],
   "source": [
    "# [ ] review and run example - read and print (Note: the pointer is at the end of the file - result = empty string)\n",
    "new_text = new_file.read()\n",
    "\n",
    "print(new_text)"
   ]
  },
  {
   "cell_type": "markdown",
   "metadata": {},
   "source": [
    "## Expected: prints empty string above  \n",
    "pointer was at end of file where there is nothing to read"
   ]
  },
  {
   "cell_type": "markdown",
   "metadata": {},
   "source": [
    "### seek(0)  \n",
    "sets the pointer to the beginning of the file, enabling read() to input the entire file contents"
   ]
  },
  {
   "cell_type": "code",
   "execution_count": 87,
   "metadata": {},
   "outputs": [
    {
     "data": {
      "text/plain": [
       "0"
      ]
     },
     "execution_count": 87,
     "metadata": {},
     "output_type": "execute_result"
    }
   ],
   "source": [
    "# [ ] review and run example - sets pointer to beginning of file\n",
    "new_file.seek(0)"
   ]
  },
  {
   "cell_type": "code",
   "execution_count": 88,
   "metadata": {},
   "outputs": [
    {
     "name": "stdout",
     "output_type": "stream",
     "text": [
      "This is line #1 with 'w+'\n",
      "This is line #2 with 'w+'\n",
      "\n"
     ]
    }
   ],
   "source": [
    "# [ ] review and run example - now read starts from beginning of file\n",
    "new_text = new_file.read()\n",
    "print(new_text)\n"
   ]
  },
  {
   "cell_type": "code",
   "execution_count": 89,
   "metadata": {},
   "outputs": [],
   "source": [
    "# # [ ] review and run example - clean up and close file\n",
    "new_file.close()"
   ]
  },
  {
   "cell_type": "markdown",
   "metadata": {
    "collapsed": true
   },
   "source": [
    "# &nbsp;\n",
    "<font size=\"6\" color=\"#B24C00\"  face=\"verdana\"> <B>Task 15</B></font>\n",
    "\n",
    "## using `.seek(0)` on a local file in write plus read mode `'w+'`\n",
    "### open outer_planets.txt in 'w+' mode (write plus read) \n",
    "- open **outer_planets.txt** in write plus read mode **'w+'** \n",
    "- write four outer planets in earth's solar system (Jupiter, Saturn, Uranus, Neptune) on separate lines  \n",
    "- use .seek() to move the pointer to the start of the file\n",
    "- use .read() to read the entire file contents\n",
    "- print the entire file contents and close the file"
   ]
  },
  {
   "cell_type": "code",
   "execution_count": null,
   "metadata": {},
   "outputs": [],
   "source": [
    "# [ ] open outer_planets.txt in write mode 'w+' \n",
    "\n"
   ]
  },
  {
   "cell_type": "code",
   "execution_count": null,
   "metadata": {},
   "outputs": [],
   "source": [
    "# [ ] write four outer planets in earth's solar system (Jupiter, Saturn, Uranus, Neptune) on separate lines\n",
    "\n"
   ]
  },
  {
   "cell_type": "code",
   "execution_count": null,
   "metadata": {},
   "outputs": [],
   "source": [
    "# [ ] use .seek() to move the pointer to the start of the file\n",
    "# [ ] use .read() to read the entire file contents\n",
    "\n"
   ]
  },
  {
   "cell_type": "code",
   "execution_count": null,
   "metadata": {},
   "outputs": [],
   "source": [
    "# [ ] print the entire file contents and close the file\n",
    "\n"
   ]
  },
  {
   "cell_type": "markdown",
   "metadata": {},
   "source": [
    "# &nbsp;\n",
    "<font size=\"6\" color=\"#00A0B2\"  face=\"verdana\"> <B>Concepts</B></font>\n",
    "## using .seek() *offset* and *whence* \n",
    "### setting the pointer in a file with positive *offset* values and *whence* location \n",
    ">```python\n",
    "new_file.seek(13)\n",
    "new_contents = new_file.read()\n",
    "print(new_contents)\n",
    " \n",
    ">```python\n",
    "new_file.seek(0,2)  \n",
    "\n",
    "\n",
    "### using .seek() to set the read/write pointer in a file   \n",
    "#### *offset* values and *whence* arguments\n",
    ".seek() can set the pointer to a desired index from the beginning of the file  \n",
    "the example below moves to the character to offset 10 (the 11th character)  \n",
    "```python\n",
    "new_file.seek(10)\n",
    "```  \n",
    "\n",
    "which is also written with an optional second argument, know as *whence* (\"from where\")  \n",
    "```python\n",
    "new_file.seek(10,0)\n",
    "```  \n",
    "using 0 for *whence* starts the *offset* from the beginning of the file\n",
    "\n",
    ">**Note:** the offset must be a positive integer in Python 3, so we cannot offset backwards from the end of the file  \n",
    "\n",
    "## `file.seek(offset, whence)`\n",
    "| whence mode | description               |  \n",
    "|:-----------:|---------------------------|\n",
    "| 0 | points to the beginning of the file |   \n",
    "| 1 | points to the current location |  \n",
    "| 2 | points to the end of the file & offset is always 0|  \n",
    "\n",
    "using ** *whence* ** the index can be offset from either the beginning, current location or to the end of the file (where there is no offset applied)  "
   ]
  },
  {
   "cell_type": "markdown",
   "metadata": {},
   "source": [
    "\n",
    "<font size=\"4\" color=\"#00A0B2\"  face=\"verdana\"> <B>Examples</B></font>  \n",
    "### seek to a specific location"
   ]
  },
  {
   "cell_type": "code",
   "execution_count": 90,
   "metadata": {},
   "outputs": [
    {
     "name": "stdout",
     "output_type": "stream",
     "text": [
      "-use simple function and variable names\n",
      "-comment code\n",
      "-organize code into functions\n",
      "\n"
     ]
    }
   ],
   "source": [
    "# [ ] review and run - create, write, read and print a file\n",
    "tips_file = open('code_tips.txt', 'w+')\n",
    "tips_file.write('-use simple function and variable names\\n-comment code\\n-organize code into functions\\n')\n",
    "tips_file.seek(0)\n",
    "tips_text = tips_file.read()\n",
    "print(tips_text)"
   ]
  },
  {
   "cell_type": "code",
   "execution_count": 91,
   "metadata": {},
   "outputs": [
    {
     "name": "stdout",
     "output_type": "stream",
     "text": [
      "unction and variable names\n",
      "-comment code\n",
      "-organize code into functions\n",
      "\n"
     ]
    }
   ],
   "source": [
    "# [ ] review and run example - setting a specific seek() index \n",
    "tips_file.seek(13)\n",
    "# now read starts from 14th character of file\n",
    "tips_text = tips_file.read()\n",
    "print(tips_text)"
   ]
  },
  {
   "cell_type": "code",
   "execution_count": 92,
   "metadata": {},
   "outputs": [
    {
     "name": "stdout",
     "output_type": "stream",
     "text": [
      "unction and variable names\n",
      "-comment code\n",
      "-organize code into functions\n",
      "\n"
     ]
    }
   ],
   "source": [
    "# [ ] review and run example - string slicing on a read of an entire file\n",
    "# read from the start\n",
    "tips_file.seek(0)\n",
    "tips_text = tips_file.read()\n",
    "\n",
    "# slice from the 14th character to end\n",
    "print(tips_text[13:])"
   ]
  },
  {
   "cell_type": "markdown",
   "metadata": {},
   "source": [
    "\n",
    "<font size=\"4\" color=\"#00A0B2\"  face=\"verdana\"> <B>Examples</B></font>  \n",
    "### seek() with optional *whence* argument "
   ]
  },
  {
   "cell_type": "code",
   "execution_count": 93,
   "metadata": {},
   "outputs": [
    {
     "name": "stdout",
     "output_type": "stream",
     "text": [
      "-use simple function and variable names\n",
      "-comment code\n",
      "-organize code into functions\n",
      "-use seek(0,2) to set read/write at end of file\n",
      "\n"
     ]
    }
   ],
   "source": [
    "# [ ] review and run example - setting pointer to end of file with whence value = 2\n",
    "tips_file.seek(0,2)\n",
    "tips_file.write(\"-use seek(0,2) to set read/write at end of file\\n\")\n",
    "\n",
    "# read from beginning of file - .seek(0,0) is same as .seek(0)\n",
    "tips_file.seek(0,0)\n",
    "tips_text = tips_file.read()\n",
    "print(tips_text)"
   ]
  },
  {
   "cell_type": "code",
   "execution_count": 94,
   "metadata": {},
   "outputs": [
    {
     "data": {
      "text/plain": [
       "40"
      ]
     },
     "execution_count": 94,
     "metadata": {},
     "output_type": "execute_result"
    }
   ],
   "source": [
    "# [ ] review and run example - point to file beginning and overwrite 1st line\n",
    "tips_file.seek(0)\n",
    "tips_file.write('-use simple function and variable names\\n'.upper())\n"
   ]
  },
  {
   "cell_type": "code",
   "execution_count": 95,
   "metadata": {},
   "outputs": [
    {
     "name": "stdout",
     "output_type": "stream",
     "text": [
      "-USE SIMPLE FUNCTION AND VARIABLE NAMES\n",
      "-comment code\n",
      "-organize code into functions\n",
      "-use seek(0,2) to set read/write at end of file\n",
      "\n"
     ]
    }
   ],
   "source": [
    "# [ ] review and run example - show new file contents\n",
    "tips_file.seek(0,0)\n",
    "tips_text = tips_file.read()\n",
    "print(tips_text)"
   ]
  },
  {
   "cell_type": "markdown",
   "metadata": {},
   "source": [
    "# &nbsp;\n",
    "<font size=\"6\" color=\"#B24C00\"  face=\"verdana\"> <B>Task 16</B></font>\n",
    "## seek() with optional whence argument\n",
    "- open a new file **days.txt** in write plus read mode **'w+'** \n",
    "- write week days (Monday - Friday) on separate lines  \n",
    "- use .seek() to move the pointer to the start of the file\n",
    "- use .read() to read the entire file contents\n",
    "- print the entire file contents and close the file\n",
    "- use .seek() to move the pointer to the end of the file and write the weekend days (Saturday & Sunday)\n",
    "- use .seek() to move the pointer to the start of the file\n",
    "- use .read() to read the entire file contents\n",
    "- print the entire file contents and close the file"
   ]
  },
  {
   "cell_type": "code",
   "execution_count": null,
   "metadata": {},
   "outputs": [],
   "source": [
    "# [ ] open a new file days.txt in write plus read mode 'w+' \n",
    "# [ ] write week days (Monday - Friday) on separate lines to the file\n",
    "\n"
   ]
  },
  {
   "cell_type": "code",
   "execution_count": null,
   "metadata": {},
   "outputs": [],
   "source": [
    "# [ ] use .seek() to move the pointer to the start of the file\n",
    "# [ ] use .read() to read the entire file contents\n",
    "# [ ] print the entire file contents and close the file\n",
    "\n"
   ]
  },
  {
   "cell_type": "code",
   "execution_count": null,
   "metadata": {},
   "outputs": [],
   "source": [
    "# [ ] use .seek() to move the pointer to the end of the file\n",
    "# [ ] write the weekend days (Saturday & Sunday)\n",
    "\n"
   ]
  },
  {
   "cell_type": "code",
   "execution_count": null,
   "metadata": {},
   "outputs": [],
   "source": [
    "# [ ] use .seek() to move the pointer to the start of the file\n",
    "# [ ] use .read() to read the entire file contents\n",
    "# [ ] print the entire file contents and close the file\n",
    "\n",
    "\n"
   ]
  },
  {
   "cell_type": "markdown",
   "metadata": {},
   "source": [
    "# &nbsp;\n",
    "<font size=\"6\" color=\"#00A0B2\"  face=\"verdana\"> <B>Concepts</B></font>\n",
    "## open a file in a writeable mode\n",
    "### open a file in a writing mode, with: `'w', 'w+', 'r+', 'a', 'a+'` \n",
    "| MODE    |  Description  |  \n",
    "|:-------:|:--------------|  \n",
    "| 'r'  | read only mode |  \n",
    "| **'w'** | write - **overwrites** file with same name |  \n",
    "| **'w+'** | write and read mode - **overwrites** file with same name|  \n",
    "| **'r+'** | read and write mode (**no** overwrite) |  \n",
    "| **'a'**  | opens for appending to end of file (**no** overwrite) |  \n",
    "| **'a+'** | opens for appending to end of file (**no** overwrite) plus read |  \n",
    "\n",
    "**warning: `'w'`** and **`'w+'`** modes will create a new file or **overwrite** existing files (deleting all file contents)"
   ]
  },
  {
   "cell_type": "markdown",
   "metadata": {
    "collapsed": true
   },
   "source": [
    "# &nbsp;\n",
    "<font size=\"6\" color=\"#00A0B2\"  face=\"verdana\"> <B>Concepts</B></font>\n",
    "## writing to a file opened in additional write modes:  `'r+', 'a', 'a+'` \n",
    "Writing is the same - pointers are different\n",
    ">```python\n",
    "poem_file = open('poem.txt', 'r+') \n",
    "poem_file.write(\"Hello World!\\n\")\n",
    "\n",
    ">```python\n",
    "poem_file = open('poem.txt', 'a+') \n",
    "poem_file.write(\"Goodbye, this is the end of the file\\n\")\n",
    "\n",
    "### read mode plus write `'r+'` and append modes `'a', 'a+'`\n",
    "#### read plus mode `'r+'` differs from write modes `'w', 'w+'`  \n",
    "- read plus doesn't blank out the file contents with an overwrite  \n",
    " \n",
    "#### append modes `'a', 'a+'` differ from write modes `'w', 'w+'`   \n",
    "- append doesn't blank out the file contents with an overwrite  \n",
    "- append pointer is set to the end of the file for every write\n",
    "- append plus (a+) is append mode, **plus** read mode\n",
    "\n",
    "|   `'r+', 'a', 'a+'`                        |  \n",
    "|:------------------------------------------:|  \n",
    "|will **not overwrite** existing file content creating a blank file|   "
   ]
  },
  {
   "cell_type": "markdown",
   "metadata": {},
   "source": [
    "\n",
    "<font size=\"4\" color=\"#00A0B2\"  face=\"verdana\"> <B>Examples</B></font>  \n",
    "#### append plus mode `a+`"
   ]
  },
  {
   "cell_type": "code",
   "execution_count": 96,
   "metadata": {},
   "outputs": [],
   "source": [
    "# [ ] review and run example - function writes to the open log argument\n",
    "# loads funtion into memory but the funtion is not called\n",
    "def logger(log):\n",
    "    log_entry = input(\"enter log item (enter to quit): \")\n",
    "    count = 0\n",
    "\n",
    "    while log_entry:\n",
    "        count += 1\n",
    "        log.write(str(count) + \": \" + log_entry + \"\\n\")\n",
    "        log_entry = input(\"enter log item (enter to quit): \")\n",
    "        \n",
    "    return count\n",
    "    "
   ]
  },
  {
   "cell_type": "code",
   "execution_count": 97,
   "metadata": {},
   "outputs": [],
   "source": [
    "# [ ] review and run example: makes a blank file  (initialize/reset)\n",
    "\n",
    "log_file = open('log_file.txt', 'w+')\n",
    "log_file.close()"
   ]
  },
  {
   "cell_type": "code",
   "execution_count": 98,
   "metadata": {},
   "outputs": [],
   "source": [
    "# [ ] review and run example - opens the log_file before passing to logger() function call, below\n",
    "# allows for calls below to run several times appending to the end of log_file\n",
    "\n",
    "log_file = open('log_file.txt', 'a+')"
   ]
  },
  {
   "cell_type": "code",
   "execution_count": 99,
   "metadata": {},
   "outputs": [
    {
     "name": "stdout",
     "output_type": "stream",
     "text": [
      "enter log item (enter to quit): opened file\n",
      "enter log item (enter to quit): looked at file\n",
      "enter log item (enter to quit): closed file\n",
      "enter log item (enter to quit): \n",
      "\n",
      "1: opened file\n",
      "2: looked at file\n",
      "3: closed file\n",
      "\n"
     ]
    }
   ],
   "source": [
    "# [ ] review and run example - calls the above logger() function\n",
    "# what happens running the cell above (a+) again before running this cell again? \n",
    "# what happens if log_file.seek(0) is run before an append?\n",
    "\n",
    "logger(log_file)    \n",
    "\n",
    "log_file.seek(0)\n",
    "log_text = log_file.read()\n",
    "\n",
    "print()\n",
    "print(log_text)\n",
    "log_file.close()"
   ]
  },
  {
   "cell_type": "markdown",
   "metadata": {},
   "source": [
    "#### read plus mode `r+`  \n",
    "create a file that has one line: \"Count is: x\"   \n",
    "overwrite with new count at the x location (x is an integer)"
   ]
  },
  {
   "cell_type": "code",
   "execution_count": 100,
   "metadata": {},
   "outputs": [
    {
     "name": "stdout",
     "output_type": "stream",
     "text": [
      "Count is: 0\n"
     ]
    }
   ],
   "source": [
    "# [ ] review and run example - create a file with initial count of 0\n",
    "count_file = open(\"count_file.txt\", \"w+\")\n",
    "\n",
    "count_file.write(\"Count is: 0\")\n",
    "count_file.seek(0)\n",
    "print(count_file.readline().strip())\n",
    "\n",
    "count_file.close()"
   ]
  },
  {
   "cell_type": "code",
   "execution_count": 106,
   "metadata": {},
   "outputs": [
    {
     "name": "stdout",
     "output_type": "stream",
     "text": [
      "BEFORE\n",
      "Count is: 5\n",
      "\n",
      "AFTER\n",
      "Count is: 6\n"
     ]
    }
   ],
   "source": [
    "# [ ] review and run example - can rerun this cell\n",
    "count_file = open(\"count_file.txt\", \"r+\")\n",
    "\n",
    "count_file.seek(0)\n",
    "count_line = count_file.readline().strip()\n",
    "print(\"BEFORE\\n\" + count_line)\n",
    "\n",
    "# get the int character(s) after the colon and space, cast and increment\n",
    "count = int(count_line[10:])+1\n",
    "\n",
    "# write the incremented value to the file - overwrite before value\n",
    "count_file.seek(10)\n",
    "count_file.write(str(count))\n",
    "\n",
    "count_file.seek(0)\n",
    "print(\"\\nAFTER\\n\" + count_file.readline().strip())\n",
    "\n",
    "count_file.close()"
   ]
  },
  {
   "cell_type": "code",
   "execution_count": 107,
   "metadata": {},
   "outputs": [],
   "source": [
    "# [ ]  review funtion code for inc_count() funtion that reads file and updates the count\n",
    "# the file always has 1 line that is The count is: N, where N is an integer\n",
    "def inc_count(cnt_file):\n",
    "    cnt_file.seek(0,0)\n",
    "    cnt_line = cnt_file.readline().strip()\n",
    "    cnt = int(cnt_line[10:])+1\n",
    "    cnt_file.seek(10,0)\n",
    "    cnt_file.write(str(cnt))\n",
    "    return cnt"
   ]
  },
  {
   "cell_type": "code",
   "execution_count": 108,
   "metadata": {},
   "outputs": [
    {
     "name": "stdout",
     "output_type": "stream",
     "text": [
      "BEFORE\n",
      "Count is: 6\n",
      "\n",
      "AFTER inc_count() call 1 \n",
      "Count is: 7\n",
      "\n",
      "AFTER inc_count() call 2 \n",
      "Count is: 8\n",
      "\n",
      "AFTER inc_count() call 3 \n",
      "Count is: 9\n",
      "\n",
      "AFTER inc_count() call 4 \n",
      "Count is: 10\n",
      "\n",
      "AFTER inc_count() call 5 \n",
      "Count is: 11\n"
     ]
    }
   ],
   "source": [
    "# [ ] review and run example with call to function: inc_count() - **Run cell multiple times**\n",
    "# opens file/prints initial value\n",
    "count_file = open(\"count_file.txt\", \"r+\")\n",
    "\n",
    "count_file.seek(0)\n",
    "count_line = count_file.readline().strip()\n",
    "print(\"BEFORE\\n\" + count_line)\n",
    "\n",
    "# call inc_count() to increase the count 5 times\n",
    "for i in range(5):\n",
    "    count = inc_count(count_file)\n",
    "    count_file.seek(0)\n",
    "    print(\"\\nAFTER inc_count() call\", i+1, \"\\n\" + count_file.readline().strip())\n",
    "\n",
    "count_file.close()"
   ]
  },
  {
   "cell_type": "markdown",
   "metadata": {
    "collapsed": true
   },
   "source": [
    "# &nbsp;\n",
    "<font size=\"6\" color=\"#B24C00\"  face=\"verdana\"> <B>Task 17</B></font>  \n",
    "## append\n",
    "- Open task4_file.txt in append plus mode (\"a+\")  \n",
    "- create a `for item in range(5):` loop, for each loop:  \n",
    "  - write to the file: \"append #\"+ str(item)+\"\\n\"  \n",
    "  - use seek() to set the pointer to the beginning of the file  \n",
    "- print the file contents using file .read() method after eiting the loop\n",
    "\n",
    "in append mode the file should only write to the end of the file regardless of setting seek() location"
   ]
  },
  {
   "cell_type": "code",
   "execution_count": null,
   "metadata": {},
   "outputs": [],
   "source": [
    "# [ ] complete the task\n",
    "# Provided Code creates and populates task4_file.txt\n",
    "task4_file = open('task4_file.txt', 'w+')\n",
    "task4_file.write(\"Line1\\nLine2\\nLine3\\n\")\n",
    "task4_file.close()\n",
    "# [ ] code here\n"
   ]
  },
  {
   "cell_type": "markdown",
   "metadata": {
    "collapsed": true
   },
   "source": [
    "# &nbsp;\n",
    "<font size=\"6\" color=\"#B24C00\"  face=\"verdana\"> <B>Task 18</B></font>  \n",
    "## read plus (`r+`) mode  \n",
    "read the provided code and complete the code as follows:  \n",
    "- Run the provided code below to create/open, print and close task5_file.txt \n",
    "- Open task5_file.txt in append plus mode (`\"r+\"`)  \n",
    "- create a &nbsp; **`for item in range(1,5):`** loop, then, during each loop:  \n",
    "  - write to the file: **`\"append#\" + str(item)+ \"\\n\"`**  \n",
    "  - use **`.seek(item*18)`** to set the pointer to 18x's the loop count  \n",
    "  Note: starting the first loop, `item` is 1 if using range(1,5), seek will be set to 18, 36, 54, 72  \n",
    "- print the file contents using file `.read()` method after exiting the loop  \n",
    "\n",
    "**\"r+\"** mode will write wherever the pointer is set - such as after a read or from using .seek()"
   ]
  },
  {
   "cell_type": "code",
   "execution_count": null,
   "metadata": {},
   "outputs": [],
   "source": [
    "# [ ] complete the task\n",
    "# Provided Code creates and populates task5_file.txt\n",
    "task5_file = open('task5_file.txt', 'w+')\n",
    "task5_file.write(\"Line---1\\nLine---2\\nLine---3\\nLine---4\\nLine---5\\nLine---6\\nLine---7\\nLine---8\\nLine---9\\nLine--10\\n\")\n",
    "task5_file.seek(0)\n",
    "print(\"Before:\\n\"+ task5_file.read()+\"\\n\")\n",
    "task5_file.close()\n",
    "\n",
    "# [ ] code here\n",
    "\n",
    "\n",
    "\n"
   ]
  },
  {
   "cell_type": "code",
   "execution_count": null,
   "metadata": {},
   "outputs": [],
   "source": []
  },
  {
   "cell_type": "markdown",
   "metadata": {
    "collapsed": true
   },
   "source": [
    "© 2017 Microsoft adapted with permission by Dominic Thomas"
   ]
  }
 ],
 "metadata": {
  "anaconda-cloud": {},
  "kernelspec": {
   "display_name": "Python 3.9.12 ('base')",
   "language": "python",
   "name": "python3"
  },
  "language_info": {
   "codemirror_mode": {
    "name": "ipython",
    "version": 3
   },
   "file_extension": ".py",
   "mimetype": "text/x-python",
   "name": "python",
   "nbconvert_exporter": "python",
   "pygments_lexer": "ipython3",
   "version": "3.9.12"
  },
  "vscode": {
   "interpreter": {
    "hash": "5c63ba0b8f8ad222cc0b06bdcd9f04f10ed843d7f084a2f46bb405b77fc04261"
   }
  }
 },
 "nbformat": 4,
 "nbformat_minor": 1
}
