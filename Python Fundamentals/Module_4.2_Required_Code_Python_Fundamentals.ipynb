{
 "cells": [
  {
   "cell_type": "markdown",
   "metadata": {},
   "source": [
    "\n",
    "#  Module 4 Required Coding Activity  - Python Fundamentals  \n",
    "\n",
    "Be sure to complete the tutorials and practice for this module prior to attempting this activity.   \n",
    "\n",
    "| **Assignment Requirements** |  \n",
    "|:-------------------------------|  \n",
    "| **NOTE:** This program requires **`print`** output and code syntax used in module 4 such as variable assignment,  **`while`**, **`open`** keywords,  **`.split()`**, **`.readline()`**, **`.seek()`**, **`.write()`**, **`.close()`** methods  |  \n",
    "\n",
    "## The Weather\n",
    "#### Create a program that:  \n",
    "- imports and opens a file  \n",
    "- appends additional data to a file  \n",
    "- reads from the file to displays each city name and month average high temperature in Celsius  \n",
    "\n",
    "**Output:** The output should resemble the following\n",
    "```\n",
    "City of Beijing month ave: highest high is 30.9 Celsius\n",
    "City of Cairo month ave: highest high is 34.7 Celsius\n",
    "City of London month ave: highest high is 23.5 Celsius\n",
    "City of Nairobi month ave: highest high is 26.3 Celsius\n",
    "City of New York City month ave: highest high is 28.9 Celsius\n",
    "City of Sydney month ave: highest high is 26.5 Celsius\n",
    "City of Tokyo month ave: highest high is 30.8 Celsius\n",
    "City of Rio De Janeiro month ave: highest high is 30.0 Celsius\n",
    "```  \n",
    "all of the above text output is generated from the file  \n",
    "the only strings are *hard coded*:  \n",
    "- \"is\"  \n",
    "- \"of\"  \n",
    "- \"Celsius\"  \n",
    "\n",
    "\n",
    "\n",
    "#### import the file into the Jupyter Notebook environment   \n",
    "- use `!curl` to download https://raw.githubusercontent.com/MicrosoftLearning/intropython/master/world_temp_mean.csv as `mean_temp.txt`  NOTE: '!curl' runs a terminal command in a Jupyter notebook. This is not Python. Rather, it is a command issued straight to the operating system to \"**C**apture the contents of a **URL** -> **CURL**\". The exclamation point tells Jupyter to send the command to the operating system. If you move this code to a .py file to run as a script, you would need another method to capture the URL contents to a file. Python includes a standard os module for this purpose. You will need to import os and then put your command as a string in a variable named something like cmd. After that, you would need to run the line os.system(cmd).\n",
    "  \n",
    "\n",
    "```python\n",
    "# [ ] The Weather: import world_mean_team.csv as mean_temp.txt into the Jupyter notebook\n",
    "\n",
    "\n",
    "```  \n",
    "\n",
    "#### Add the weather for Rio  \n",
    "1. Open the file in append plus mode (**`'a+'`**)  \n",
    "2. Write a new line for Rio de Janeiro `\"Rio de Janeiro,Brazil,30.0,18.0\\n\"`  \n",
    "\n",
    "\n",
    "#### Grab the column headings  \n",
    "1. use .seek() to move the pointer to the beginning of the file  \n",
    "2. read the first line of text into a variable called: `headings`     \n",
    "3. convert `headings` to a list using **`.split(',')`** which splits on each comma  \n",
    "\n",
    "\n",
    "```python\n",
    "# [ ] The Weather: open file, read/print first line, convert line to list (splitting on comma)\n",
    "\n",
    "\n",
    "```\n",
    "\n",
    "#### Read the remaining lines from the file using a while loop\n",
    "  1. assign remaining lines to a **`city_temp`** variable  \n",
    "  2. convert the city_temp to a list using **`.split(',')`** for each **`.readline()`** in the loop  \n",
    "  3. print each city & the highest monthly average temperature   \n",
    "  4. close mean_temps\n",
    "\n",
    ">Tips & Hints:   \n",
    "- print **`headings`** to determine indexes to use for the final output (what is in headings[0], [1], [2]..?)  \n",
    "- the city_temp data follows the order of the headings (city_temp[0] is described by headings[0]) \n",
    "- The output should look like: **`\"month ave: highest high\" for Beijing is 30.9 Celsius`**  \n",
    "- convert `city_temp` to lists with `.split(',')`  \n",
    "\n",
    "\n",
    "```python\n",
    "# [ ] The Weather: use while loop to print city and highest monthly average temp in celsius\n",
    "\n",
    "\n",
    "```\n",
    "\n",
    "### Combine All Code into one cell, Copy and Submit in D2L\n"
   ]
  },
  {
   "cell_type": "code",
   "execution_count": 1,
   "metadata": {
    "collapsed": true
   },
   "outputs": [],
   "source": [
    "# [] create The Weather\n",
    "# [] copy and paste in edX assignment page\n",
    "\n",
    "\n",
    "\n"
   ]
  },
  {
   "cell_type": "markdown",
   "metadata": {},
   "source": [
    "Submit this by creating a python file (.py) and submitting it in D2L. Be sure to test that it works. Know that For this to work correctly in Python rather than Jupyter, you would need to switch to using import os rather than !curl. To convert !curl to run in the normal python interpreter try a method such as importing the os library and calling os.system(cmd) with your shell command in the cmd variable. \n"
   ]
  }
 ],
 "metadata": {
  "anaconda-cloud": {},
  "kernelspec": {
   "display_name": "Python 3.9.12 ('base')",
   "language": "python",
   "name": "python3"
  },
  "language_info": {
   "codemirror_mode": {
    "name": "ipython",
    "version": 3
   },
   "file_extension": ".py",
   "mimetype": "text/x-python",
   "name": "python",
   "nbconvert_exporter": "python",
   "pygments_lexer": "ipython3",
   "version": "3.9.12"
  },
  "vscode": {
   "interpreter": {
    "hash": "5c63ba0b8f8ad222cc0b06bdcd9f04f10ed843d7f084a2f46bb405b77fc04261"
   }
  }
 },
 "nbformat": 4,
 "nbformat_minor": 1
}
