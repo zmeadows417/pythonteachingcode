{
 "cells": [
  {
   "cell_type": "markdown",
   "metadata": {},
   "source": [
    "# Module 4 Practice - Python Fundamentals\n",
    "## Working with Files\n",
    "\n",
    "<font size=\"5\" color=\"#00A0B2\"  face=\"verdana\"> <B>Student will be able to</B></font>  \n",
    " \n",
    "- Import files into Jupyter notebooks  \n",
    "- Open and **`.read()`** local files in memory   \n",
    "- Use **`.read()`** to read a specific number of characters  \n",
    "- Use **`.readlines()`** to read data from file as a **list** of lines  \n",
    "- Use **`.readlines()`** to read data from file as a **list** of lines   \n",
    "- Use **`.readline()`** to read data from file a line at a time   \n",
    "- Use **`.strip()`** to remove new line characters  \n",
    "- Use `.write()` to write data to a new local file  \n",
    "- Use **`.seek()`** to set file read or write location  \n",
    "- Use file append mode  \n"
   ]
  },
  {
   "cell_type": "markdown",
   "metadata": {
    "collapsed": true
   },
   "source": [
    "# &nbsp;\n",
    "<font size=\"6\" color=\"#B24C00\"  face=\"verdana\"> <B>Task 1</B></font>\n",
    "\n",
    "## Order the Rainbow\n",
    "#### Open the rainbow file then put in a list and print in alphabetical order\n",
    "Download and open the file. \n",
    "- Download list of rainbow colors, as `rainbow.txt`, using `curl` \n",
    "  https://raw.githubusercontent.com/MicrosoftLearning/intropython/master/rainbow   \n",
    "- Open rainbow.txt in read mode using a variable: rainbow_file   \n",
    " "
   ]
  },
  {
   "cell_type": "code",
   "execution_count": null,
   "metadata": {},
   "outputs": [],
   "source": [
    "# [ ] import https://raw.githubusercontent.com/MicrosoftLearning/intropython/master/rainbow as rainbow.txt\n",
    "\n"
   ]
  },
  {
   "cell_type": "markdown",
   "metadata": {},
   "source": [
    "\n",
    "- Read rainbow_file as a list variable: rainbow_colors using `.readlines()`    \n"
   ]
  },
  {
   "cell_type": "code",
   "execution_count": null,
   "metadata": {},
   "outputs": [],
   "source": [
    "# [ ]  Open rainbow.txt in read mode & read as list with .readlines()\n",
    "\n",
    "\n"
   ]
  },
  {
   "cell_type": "markdown",
   "metadata": {},
   "source": [
    " \n",
    "1. Sort the rainbow_lines list alphabetically.  \n",
    "2. Print each line of rainbow_lines by iterating the sorted list.  \n",
    "3. Close rainbow_file.  "
   ]
  },
  {
   "cell_type": "code",
   "execution_count": null,
   "metadata": {},
   "outputs": [],
   "source": [
    "# [ ] sort rainbow_colors list, iterate the list to print each color\n",
    "\n"
   ]
  },
  {
   "cell_type": "markdown",
   "metadata": {
    "collapsed": true
   },
   "source": [
    "# &nbsp;\n",
    "<font size=\"6\" color=\"#B24C00\"  face=\"verdana\"> <B>Task 2</B></font>\n",
    "\n",
    "## The Weather\n",
    "Create a program that reads from a file to display city name and average temperature in Celsius.   \n",
    "\n",
    "&nbsp;  \n",
    "- use `!curl` to download https://raw.githubusercontent.com/MicrosoftLearning/intropython/master/world_temp_mean.csv as `mean_temp.txt`  \n",
    "  \n"
   ]
  },
  {
   "cell_type": "code",
   "execution_count": null,
   "metadata": {},
   "outputs": [],
   "source": [
    "# [ ] The Weather: import world_mean_team.csv as mean_temp.txt\n",
    "\n"
   ]
  },
  {
   "cell_type": "markdown",
   "metadata": {},
   "source": [
    "1. Open the file in `'r'` mode.  \n",
    "2. Read the first line of text into a variable called: `  headings` and `print()`.  \n",
    "3. Convert `headings` to a list using **`.split(',')`** which splits on each comma, `print()` the list.\n"
   ]
  },
  {
   "cell_type": "code",
   "execution_count": null,
   "metadata": {},
   "outputs": [],
   "source": [
    "# [ ] The Weather: open file, read/print first line, convert line to list (splitting on comma)\n",
    "\n"
   ]
  },
  {
   "cell_type": "markdown",
   "metadata": {},
   "source": [
    "#### use a while loop to read the remaining lines from the file  \n",
    "  1. Assign remaining lines to a **`city_temp`** variable.  \n",
    "  2. Convert the city_temp to a list using **`.split(',')`** for each **`.readline()`** in the loop.  \n",
    "  3. Print each city & the highest monthly average temperature.  \n",
    "  4. Close mean_temps.  \n",
    "\n",
    ">Tips & Hints:   \n",
    "- Use the print output of **`headings`** to determine the city_temp indexes to use.  \n",
    "- \"month ave: highest high\" for Beijing is 30.9 Celsius.  \n",
    "- Convert `city_temp` to lists with `.split(',')`.  "
   ]
  },
  {
   "cell_type": "code",
   "execution_count": null,
   "metadata": {},
   "outputs": [],
   "source": [
    "# [ ] The Weather: use while loop to print city and highest monthly average temp in celsius\n",
    "\n"
   ]
  },
  {
   "cell_type": "markdown",
   "metadata": {
    "collapsed": true
   },
   "source": [
    "# &nbsp;  \n",
    "<font size=\"6\" color=\"#B24C00\"  face=\"verdana\"> <B>Task 3</B></font>  \n",
    "\n",
    "## Random pi  guessing\n",
    "Create random appearing numbers by reading digits of pi \n",
    "*Note: only \"appears\" random*\n",
    "\n",
    "- Download https://raw.githubusercontent.com/MicrosoftLearning/intropython/master/digits_of_pi  as pi.txt"
   ]
  },
  {
   "cell_type": "code",
   "execution_count": 2,
   "metadata": {},
   "outputs": [
    {
     "name": "stderr",
     "output_type": "stream",
     "text": [
      "  % Total    % Received % Xferd  Average Speed   Time    Time     Time  Current\n",
      "                                 Dload  Upload   Total   Spent    Left  Speed\n",
      "\n",
      "  0     0    0     0    0     0      0      0 --:--:-- --:--:-- --:--:--     0\n",
      "100   303  100   303    0     0   2598      0 --:--:-- --:--:-- --:--:--  2634\n"
     ]
    }
   ],
   "source": [
    "# [ ] use curl to download https://raw.githubusercontent.com/MicrosoftLearning/intropython/master/digits_of_pi as pi.txt\n",
    "!curl https://raw.githubusercontent.com/MicrosoftLearning/intropython/master/digits_of_pi -o pi.txt\n"
   ]
  },
  {
   "cell_type": "markdown",
   "metadata": {},
   "source": [
    "#### Set up the project files and intitial values  \n",
    "1. Open pi.txt in read mode, the file has a single line of text \"3.14....\".  \n",
    "2. Get user name as input and say \"hi\".  \n",
    "3. Use the length of `name` for variable called `seed`.  \n",
    "4. Use `.seek()` with the value of `seed` to set the initial pointer location reading the file.  \n",
    "5. Create a variable `digit` and assign it the value of reading one character from the file.  \n",
    "6. Get `guess` variable value from users `input`  - \"enter a single digit guess or \"q\" to quit\".  \n",
    "7. Initialize `correct` and `wrong` counter variables to **`0`**  (zero).  "
   ]
  },
  {
   "cell_type": "code",
   "execution_count": 33,
   "metadata": {},
   "outputs": [
    {
     "name": "stderr",
     "output_type": "stream",
     "text": [
      "  % Total    % Received % Xferd  Average Speed   Time    Time     Time  Current\n",
      "                                 Dload  Upload   Total   Spent    Left  Speed\n",
      "\n",
      "  0     0    0     0    0     0      0      0 --:--:-- --:--:-- --:--:--     0\n",
      "100   303  100   303    0     0   5746      0 --:--:-- --:--:-- --:--:--  5826\n"
     ]
    }
   ],
   "source": [
    "!curl https://raw.githubusercontent.com/MicrosoftLearning/intropython/master/digits_of_pi -o pi.txt"
   ]
  },
  {
   "cell_type": "code",
   "execution_count": 35,
   "metadata": {},
   "outputs": [
    {
     "name": "stdout",
     "output_type": "stream",
     "text": [
      "Hi zac!\n",
      "Correct!\n",
      "Correct!\n",
      "Wrong!\n",
      "Wrong!\n",
      "Correct guesses: 2\n",
      "Wrong guesses: 2\n"
     ]
    }
   ],
   "source": [
    "#opens pi.txt in read mode\n",
    "pi= open(\"pi.txt\", \"r\")\n",
    "#gets username to determine answer\n",
    "user_name = input(\"Enter username\")\n",
    "print(\"Hi\", user_name + \"!\")\n",
    "#sets length of answer\n",
    "seed= len(user_name)\n",
    "pi.seek(seed)\n",
    "#sets answer to guess\n",
    "digit= pi.read(1)\n",
    "#initializes counters\n",
    "correct=0\n",
    "wrong=0\n",
    "#loop only ends when it meets a break\n",
    "while True :\n",
    "    guess= input(\"enter a single digit guess or 'q' to quit\")\n",
    "    #makes sure only numbers are read \n",
    "    if digit == \".\" :\n",
    "        digit.read()\n",
    "    elif digit == \"\\n\" :\n",
    "        seed+= 1\n",
    "        seed.seek()\n",
    "        #breaks loop if alpha characters are entered\n",
    "    elif guess.isalpha() :\n",
    "        break\n",
    "    #determines if answer is right or wrong and adds to counter\n",
    "    else :\n",
    "        if guess == digit :\n",
    "            print(\"Correct!\")\n",
    "            correct+= 1\n",
    "        if guess != digit :\n",
    "            print(\"Wrong!\")\n",
    "            wrong+= 1\n",
    "#prints results\n",
    "print(\"Correct guesses:\", correct)\n",
    "print(\"Wrong guesses:\", wrong)\n"
   ]
  },
  {
   "cell_type": "markdown",
   "metadata": {},
   "source": [
    "#### Create a while loop that tests that `guess` is a *digit* string\n",
    "then in the loop:\n",
    "1. if `digit` ( read from pi file) is \"**.**\" read the next character for digit  \n",
    "2. else if `digit` is \"\\n\" increment `seed` and use `seed` to set the pointer uing .`seek()`  \n",
    "3. else see if `guess` is equal to `digit`   \n",
    "  a. if `guess` equals `digit`: print \"correct\" and increment the varible named `correct`  \n",
    "  b. if `guess` not equal `digit`: print \"incorrect\" and increment the variable named `wrong`  \n",
    "  \n",
    "**end the while loop** when user enters any non-digit(s) for `guess`, like \"q\".  \n",
    "- Print `correct` and `wrong` values within a message to the user.  \n",
    "- Close the pi file.  "
   ]
  },
  {
   "cell_type": "code",
   "execution_count": null,
   "metadata": {},
   "outputs": [],
   "source": [
    "\n"
   ]
  },
  {
   "cell_type": "code",
   "execution_count": null,
   "metadata": {
    "collapsed": true
   },
   "outputs": [],
   "source": []
  },
  {
   "cell_type": "markdown",
   "metadata": {
    "collapsed": true
   },
   "source": [
    "[Terms of use](http://go.microsoft.com/fwlink/?LinkID=206977) &nbsp; [Privacy & cookies](https://go.microsoft.com/fwlink/?LinkId=521839) &nbsp; © 2017 Microsoft"
   ]
  }
 ],
 "metadata": {
  "anaconda-cloud": {},
  "kernelspec": {
   "display_name": "Python 3.9.12 ('base')",
   "language": "python",
   "name": "python3"
  },
  "language_info": {
   "codemirror_mode": {
    "name": "ipython",
    "version": 3
   },
   "file_extension": ".py",
   "mimetype": "text/x-python",
   "name": "python",
   "nbconvert_exporter": "python",
   "pygments_lexer": "ipython3",
   "version": "3.9.12"
  },
  "vscode": {
   "interpreter": {
    "hash": "5c63ba0b8f8ad222cc0b06bdcd9f04f10ed843d7f084a2f46bb405b77fc04261"
   }
  }
 },
 "nbformat": 4,
 "nbformat_minor": 1
}
