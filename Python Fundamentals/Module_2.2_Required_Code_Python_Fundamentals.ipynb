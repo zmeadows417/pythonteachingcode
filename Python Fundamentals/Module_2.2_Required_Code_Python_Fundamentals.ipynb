{
 "cells": [
  {
   "cell_type": "markdown",
   "metadata": {},
   "source": [
    "#  Module 2 Required Coding Activity  \n",
    "Introduction to Python (Unit 2) Fundamentals \n",
    " \n",
    "Be sure to complete all tutorials and practice prior to attempting this activity.  \n",
    "\n",
    "| Important Assignment Requirements |  \n",
    "|:-------------------------------|  \n",
    "| **NOTE:** This program requires creating a function using **`def`** and **`return`**, using **`print`** output, **`input`**, **`if`**, **`in`** keywords, **`.append()`**, **`.pop()`**, **`.remove()`** list methods.  As well as other standard Python |   \n",
    "\n",
    "## Program: list-o-matic  \n",
    "This program takes string input and checks if that string is in a list of strings    \n",
    "- if string is in the list it removes the first instance from list  \n",
    "- if string is not in the list the input gets appended to the list  \n",
    "- if the string is empty then the last item is popped from the list \n",
    "- if the **list becomes empty** the program ends  \n",
    "- if the user enters \"quit\" then the program ends  \n",
    "\n",
    "program has 2 parts  \n",
    "- **program flow** which can be modified to ask for a specific type of item.  This is the programmers choice.  Add a list of fish, trees, books, movies, songs.... your choice.  \n",
    "- **list-o-matic** Function which takes arguments of a string and a list.  The function modifies the list and returns a message as seen below.  \n",
    "\n",
    "![Flowchart of List-o-Matic](images/list_o_matic.png)\n",
    "\n",
    "**[ ]** initialize a list with several strings at the beginning of the program flow and follow the flow chart and output examples\n",
    "\n",
    " *example input/output*  \n",
    " ```\n",
    "look at all the animals ['cat', 'goat', 'cat']\n",
    "enter the name of an animal: horse\n",
    "1 instance of horse appended to list\n",
    "\n",
    "look at all the animals ['cat', 'goat', 'cat', 'horse']\n",
    "enter the name of an animal: cat\n",
    "1 instance of cat removed from list\n",
    "\n",
    "look at all the animals ['goat', 'cat', 'horse']\n",
    "enter the name of an animal: cat\n",
    "1 instance of cat removed from list\n",
    "\n",
    "look at all the animals ['goat', 'horse']\n",
    "enter the name of an animal:          (<-- entered empty string)\n",
    "horse popped from list\n",
    "\n",
    "look at all the animals ['goat']\n",
    "enter the name of an animal:          (<-- entered empty string)\n",
    "goat popped from list\n",
    "\n",
    "Goodbye!\n",
    "```  \n",
    "\n",
    "*example 2*\n",
    "```\n",
    "look at all the animals ['cat', 'goat', 'cat']\n",
    "enter the name of an animal: Quit\n",
    "Goodbye!\n",
    "```  \n",
    "\n"
   ]
  },
  {
   "cell_type": "code",
   "execution_count": 22,
   "metadata": {
    "collapsed": true
   },
   "outputs": [
    {
     "name": "stdout",
     "output_type": "stream",
     "text": [
      "1 instance of Elephant removed from list\n",
      "Elephant added to the list\n",
      "1 instance of Mind Mischeif removed from list\n",
      "Elephant popped from list\n",
      "Feels Like We Only Go Backwards popped from list\n",
      "Borderline popped from list\n",
      "New Person, Same Old Mistakes popped from list\n",
      "The Boat I Row popped from list\n",
      "Goodbye !\n"
     ]
    }
   ],
   "source": [
    "#define impala_song_list and new_song\n",
    "impala_song_list=[\"The Boat I Row\", \"New Person, Same Old Mistakes\", \"Elephant\", \"Borderline\", \"Feels Like We Only Go Backwards\", \"Mind Mischeif\"]\n",
    "new_song=\"\"\n",
    "#define list_o_matic\n",
    "def list_o_matic() :\n",
    "    #removes last item if empty string is entered\n",
    "    if new_song== \"\" :\n",
    "        print(impala_song_list.pop(), \"popped from list\" )\n",
    "    #removes 1 instance of song if already in the list\n",
    "    elif new_song in impala_song_list :\n",
    "        impala_song_list.remove(new_song)\n",
    "        print(\"1 instance of\", new_song,\"removed from list\")\n",
    "    #adds song to list if it is not on list\n",
    "    else :\n",
    "        impala_song_list.append(new_song)\n",
    "        print(new_song.title(), \"added to the list\")\n",
    "#loop ends when list is empty (because when list is empty it is equal to False)\n",
    "while impala_song_list :\n",
    "    #gets user input\n",
    "    new_song= input(\"Do you listen to Tame Impala?? What's your favorite song??(or type 'quit' to exit)\")\n",
    "    #converts input into title case so casing does not have to be exact\n",
    "    new_song= new_song.title()\n",
    "    #if user enters quit into terminal program will shut itself off\n",
    "    if new_song.lower() == \"quit\" :\n",
    "        break\n",
    "    #calls list_o_matic function !\n",
    "    else :\n",
    "        list_o_matic()\n",
    "#if user enters quit or impala_song_list is empty, prints \"Goodbye!\" and ends program \n",
    "print(\"Goodbye !\")\n",
    "\n",
    "    \n",
    "\n",
    "\n"
   ]
  },
  {
   "cell_type": "markdown",
   "metadata": {},
   "source": [
    "Submit this by creating a python file (.py) and submitting it in D2L. Be sure to test that it works.\n"
   ]
  }
 ],
 "metadata": {
  "anaconda-cloud": {},
  "kernelspec": {
   "display_name": "Python 3.9.12 ('base')",
   "language": "python",
   "name": "python3"
  },
  "language_info": {
   "codemirror_mode": {
    "name": "ipython",
    "version": 3
   },
   "file_extension": ".py",
   "mimetype": "text/x-python",
   "name": "python",
   "nbconvert_exporter": "python",
   "pygments_lexer": "ipython3",
   "version": "3.9.12"
  },
  "vscode": {
   "interpreter": {
    "hash": "5c63ba0b8f8ad222cc0b06bdcd9f04f10ed843d7f084a2f46bb405b77fc04261"
   }
  }
 },
 "nbformat": 4,
 "nbformat_minor": 1
}
