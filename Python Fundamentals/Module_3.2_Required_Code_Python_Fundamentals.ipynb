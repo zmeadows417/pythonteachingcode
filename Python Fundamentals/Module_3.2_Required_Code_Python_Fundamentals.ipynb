{
 "cells": [
  {
   "cell_type": "markdown",
   "metadata": {},
   "source": [
    "\n",
    "#  Module 3 Required Coding Activity  \n",
    "\n",
    "Complete all tutorials and practice for this module prior to attempting this activity.\n",
    "\n",
    "|  Assignment Requirements |  \n",
    "|:-------------------------------|  \n",
    "| **NOTE:** This program requires **`print`** output and using code syntax used in module 3: **`if`**, **`input`**, **`def`**, **`return`**, **`for`**/**`in`** keywords, **`.lower()`** and **`.upper()`** method, **`.append`**, **`.pop`**, **`.split`** methods, **`range`** and **`len`** functions  |  \n",
    "\n",
    "## Program: poem mixer  \n",
    "This program takes string input and then prints out a mixed order version of the string    \n",
    "\n",
    "\n",
    "**Program Parts**  \n",
    "- **program flow** gathers the word list, modifies the case and order, and prints      \n",
    "  - get string input, input like a poem, verse or saying \n",
    "  - split the string into a list of individual words  \n",
    "  - determine the length of the list\n",
    "  - Loop the length of the list by index number and for each list index:  \n",
    "    - if a word is short (3 letters or less) make the word in the list lowercase \n",
    "    - if a word is long (7 letters or more) make the word in the list uppercase   \n",
    "  - **call the word_mixer** function with the modified list  \n",
    "  - print the return value from the word_mixer function  \n",
    "\n",
    "- **word_mixer** Function has 1 argument: an original list of string words, containing greater than 5 words and the function returns a new list.   \n",
    "  - sort the original list  \n",
    "  - create a new list  \n",
    "  - Loop while the list is longer than 5 words:  \n",
    "    - *in each loop pop a word from the sorted original list and append to the new list*  \n",
    "    - pop the word 5th from the end of the list and append to the new list  \n",
    "    - pop the first word in the list and append to the new list  \n",
    "    - pop the last word in the list and append to the new list  \n",
    "  - **return** the new list on exiting the loop\n",
    "\n",
    "\n",
    "\n",
    "![poem mixer flowchart](images/poem_mixer.png)\n",
    "\n",
    "\n",
    " **input example**  *(beginning of William Blake poem, \"The Fly\")*\n",
    "\n",
    " >enter a saying or poem: `Little fly, Thy summer’s play My thoughtless hand Has brushed away. Am not I A fly like thee? Or art not thou A man like me?`  \n",
    "\n",
    "\n",
    "**output example**   \n",
    ">`or BRUSHED thy not Little thou me? SUMMER’S thee? like THOUGHTLESS play i a not hand a my fly am man`\n",
    "\n",
    "\n",
    "**alternative output** in each loop in the function that creates the new list add a \"\\\\n\" to the list   \n",
    "```\n",
    " or BRUSHED thy \n",
    " not Little thou \n",
    " me? SUMMER’S thee? \n",
    " like THOUGHTLESS play \n",
    " i a not \n",
    " hand a my \n",
    " fly am man\n",
    "```\n",
    "\n"
   ]
  },
  {
   "cell_type": "code",
   "execution_count": 14,
   "metadata": {
    "collapsed": true
   },
   "outputs": [
    {
     "name": "stdout",
     "output_type": "stream",
     "text": [
      "through ... “What that A with table; A visit. streets A upon sawdust AN then, restless AND tedious question AND streets, oyster-shells: AND spread one-night DO retreats muttering GO restaurants like GO patient it?” GO, overwhelming insidious I, nights half-deserted IN make evening IS lead cheap IS intent ask, LET hotels against LET follow YOU LET etherized US Like certain US NOT argument TO OF YOU THE OF When SKY OH, US\n"
     ]
    }
   ],
   "source": [
    "#get user input\n",
    "string=input(\"Enter a saying or a poem: \")\n",
    "#splits words into a list\n",
    "words_list = string.split()\n",
    "#generates variable for list length\n",
    "list_length= len(words_list)\n",
    "#this loop changes the case of word depending on its length\n",
    "for word in range (0, list_length) :\n",
    "    if len(words_list[word]) <= 3 :\n",
    "        words_list[word] = words_list[word].upper()\n",
    "    elif len(words_list[word]) >= 7 :\n",
    "         words_list[word] = words_list[word].lower()\n",
    "#defines word_mixer\n",
    "def word_mixer(word_list) :\n",
    "    word_list.sort()\n",
    "    new_words=[]\n",
    "    while len(word_list) > 5 :\n",
    "       new_words.append(word_list.pop(-5))\n",
    "       new_words.append(word_list.pop(0))\n",
    "       new_words.append(word_list.pop())\n",
    "    else :\n",
    "        return new_words\n",
    "print(\" \".join(word_mixer(words_list)))"
   ]
  },
  {
   "cell_type": "markdown",
   "metadata": {},
   "source": [
    "Submit this by creating a python file (.py) and submitting it in D2L. Be sure to test that it works. \n"
   ]
  }
 ],
 "metadata": {
  "anaconda-cloud": {},
  "kernelspec": {
   "display_name": "Python 3.9.12 ('base')",
   "language": "python",
   "name": "python3"
  },
  "language_info": {
   "codemirror_mode": {
    "name": "ipython",
    "version": 3
   },
   "file_extension": ".py",
   "mimetype": "text/x-python",
   "name": "python",
   "nbconvert_exporter": "python",
   "pygments_lexer": "ipython3",
   "version": "3.9.12"
  },
  "vscode": {
   "interpreter": {
    "hash": "5c63ba0b8f8ad222cc0b06bdcd9f04f10ed843d7f084a2f46bb405b77fc04261"
   }
  }
 },
 "nbformat": 4,
 "nbformat_minor": 1
}
