{
 "cells": [
  {
   "cell_type": "markdown",
   "metadata": {},
   "source": [
    "# Python Fundamentals Module 3: List Iteration (P2M3)\n",
    "\"iteration\" going through the items \n",
    "# The Power of List Iteration\n",
    "- **for in: `for` loop using `in`**\n",
    "- for range: **`for range(start,stop,step)`** \n",
    "- more list methods: **`.extend()`, `+, .reverse(), .sort()`**   \n",
    "- strings to lists, **`.split()`**, and list to strings, **`.join()`**   \n",
    "\n",
    "\n",
    "----- \n",
    "\n",
    "><font size=\"5\" color=\"#00A0B2\"  face=\"verdana\"> <B>Student will be able to</B></font>  \n",
    "- **Iterate through Lists** using **`for`** with **`in`**\n",
    "- Use **`for range()`** in looping operations  \n",
    "- Use list methods **`.extend()`, `+, .reverse(), .sort()`**  \n",
    "- convert between lists and strings using  **`.split()`** and **`.join()`**  "
   ]
  },
  {
   "cell_type": "markdown",
   "metadata": {
    "collapsed": true
   },
   "source": [
    "# &nbsp;\n",
    "<font size=\"6\" color=\"#00A0B2\"  face=\"verdana\"> <B>Concepts</B></font>\n",
    "## Iterate through Lists using \n",
    "# ` for in`\n",
    "[![view video](images/play.svg)](https://youtu.be/J_Hmj7W_nzU)\n",
    "```python\n",
    "cities = [\"New York\", \"Shanghai\", \"Munich\", \"Tokyo\", \"Dubai\", \"Mexico City\", \"São Paulo\", \"Hyderabad\"]\n",
    "\n",
    "for city in cities:\n",
    "    print(city)\n",
    "```"
   ]
  },
  {
   "cell_type": "markdown",
   "metadata": {},
   "source": [
    "\n",
    "<font size=\"4\" color=\"#00A0B2\"  face=\"verdana\"> <B>Examples</B></font>"
   ]
  },
  {
   "cell_type": "code",
   "execution_count": 1,
   "metadata": {},
   "outputs": [
    {
     "name": "stdout",
     "output_type": "stream",
     "text": [
      "New York\n",
      "Shanghai\n",
      "Munich\n",
      "Tokyo\n",
      "Dubai\n",
      "Mexico City\n",
      "São Paulo\n",
      "Hyderabad\n"
     ]
    }
   ],
   "source": [
    "# [ ] review and run example\n",
    "cities = [\"New York\", \"Shanghai\", \"Munich\", \"Tokyo\", \"Dubai\", \"Mexico City\", \"São Paulo\", \"Hyderabad\"]\n",
    "\n",
    "for city in cities:\n",
    "    print(city)"
   ]
  },
  {
   "cell_type": "code",
   "execution_count": 2,
   "metadata": {},
   "outputs": [
    {
     "name": "stdout",
     "output_type": "stream",
     "text": [
      "total sales: 124\n"
     ]
    }
   ],
   "source": [
    "# [ ] review and run example\n",
    "sales = [6, 8, 9, 11, 12, 17, 19, 20, 22]\n",
    "total = 0\n",
    "\n",
    "for sale in sales:\n",
    "    total += sale\n",
    "    \n",
    "print(\"total sales:\", total)\n",
    "    \n"
   ]
  },
  {
   "cell_type": "markdown",
   "metadata": {},
   "source": [
    "change the iterator variable name from \"sale\" to \"dollars\" or to any valid name"
   ]
  },
  {
   "cell_type": "code",
   "execution_count": 8,
   "metadata": {},
   "outputs": [
    {
     "name": "stdout",
     "output_type": "stream",
     "text": [
      "total sales: 124\n"
     ]
    }
   ],
   "source": [
    "# [ ] review and run example \n",
    "sales = [6, 8, 9, 11, 12, 17, 19, 20, 22]\n",
    "total = 0\n",
    "\n",
    "for dollars in sales:\n",
    "    total += dollars\n",
    "    \n",
    "print(\"total sales:\", total)"
   ]
  },
  {
   "cell_type": "markdown",
   "metadata": {
    "collapsed": true
   },
   "source": [
    "# &nbsp;\n",
    "<font size=\"6\" color=\"#B24C00\"  face=\"verdana\"> <B>Task 1</B></font>\n",
    "\n",
    "### Iterate through Lists using `in`"
   ]
  },
  {
   "cell_type": "code",
   "execution_count": 3,
   "metadata": {},
   "outputs": [
    {
     "name": "stdout",
     "output_type": "stream",
     "text": [
      "Bluejay\n",
      "Parakeet\n",
      "Cardinal\n",
      "Bald Eagle\n"
     ]
    }
   ],
   "source": [
    "# [ ] create a list of 4 to 6 strings: birds\n",
    "# print each bird in the list\n",
    "birds= [\"Bluejay\",\"Parakeet\", \"Cardinal\", \"Bald Eagle\"]\n",
    "for bird in birds :\n",
    "    print(bird)\n"
   ]
  },
  {
   "cell_type": "code",
   "execution_count": 4,
   "metadata": {},
   "outputs": [
    {
     "name": "stdout",
     "output_type": "stream",
     "text": [
      "2\n",
      "4\n",
      "6\n",
      "8\n",
      "10\n",
      "12\n",
      "14\n"
     ]
    }
   ],
   "source": [
    "# [ ]  create a list of 7 integers: player_points\n",
    "# [ ] print double the points for each point value\n",
    "player_points = [1,2,3,4,5,6,7]\n",
    "for points in player_points :\n",
    "    print(points * 2)"
   ]
  },
  {
   "cell_type": "code",
   "execution_count": 8,
   "metadata": {},
   "outputs": [
    {
     "name": "stdout",
     "output_type": "stream",
     "text": [
      " Bluejay Parakeet Cardinal Bald Eagle\n"
     ]
    }
   ],
   "source": [
    "# [ ] create long_string by concatenating the items in the \"birds\" list previously created\n",
    "# print long_string - make sure to put a space betweeen the bird names\n",
    "long_string=\"\"\n",
    "for bird in birds :\n",
    "    long_string+=\" \"+bird\n",
    "print(long_string)\n"
   ]
  },
  {
   "cell_type": "markdown",
   "metadata": {},
   "source": [
    "# &nbsp;\n",
    "<font size=\"6\" color=\"#00A0B2\"  face=\"verdana\"> <B>Concepts</B></font>\n",
    "## Sort and Filter\n",
    "### use comparison operators while iterating lists\n"
   ]
  },
  {
   "cell_type": "markdown",
   "metadata": {},
   "source": [
    "\n",
    "<font size=\"4\" color=\"#00A0B2\"  face=\"verdana\"> <B>Examples</B></font>"
   ]
  },
  {
   "cell_type": "code",
   "execution_count": 10,
   "metadata": {},
   "outputs": [
    {
     "name": "stdout",
     "output_type": "stream",
     "text": [
      "\n",
      "calcaneus\n",
      "talus\n",
      "cuboid\n",
      "navicular\n",
      "\n",
      "lateral cuneiform\n",
      "intermediate cuneiform\n",
      "medial cuneiform\n"
     ]
    }
   ],
   "source": [
    "# [ ] review and run example of sorting into strings to display\n",
    "foot_bones = [\"calcaneus\", \"talus\", \"cuboid\", \"navicular\", \"lateral cuneiform\", \n",
    "            \"intermediate cuneiform\", \"medial cuneiform\"]\n",
    "longer_names = \"\"\n",
    "shorter_names = \"\"\n",
    "\n",
    "for bone_name in foot_bones:\n",
    "    if len(bone_name) < 10:\n",
    "        shorter_names += \"\\n\" + bone_name\n",
    "    else:\n",
    "        longer_names += \"\\n\" + bone_name\n",
    "\n",
    "print(shorter_names)\n",
    "print(longer_names)\n"
   ]
  },
  {
   "cell_type": "code",
   "execution_count": 11,
   "metadata": {},
   "outputs": [
    {
     "name": "stdout",
     "output_type": "stream",
     "text": [
      "['calcaneus', 'talus', 'cuboid', 'navicular']\n",
      "['lateral cuneiform', 'intermediate cuneiform', 'medial cuneiform']\n"
     ]
    }
   ],
   "source": [
    "# [ ] review and run example of sorting into lists\n",
    "foot_bones = [\"calcaneus\", \"talus\", \"cuboid\", \"navicular\", \"lateral cuneiform\", \n",
    "            \"intermediate cuneiform\", \"medial cuneiform\"]\n",
    "longer_names = []\n",
    "shorter_names = []\n",
    "\n",
    "for bone_name in foot_bones:\n",
    "    if len(bone_name) < 10:\n",
    "        shorter_names.append(bone_name)\n",
    "    else:\n",
    "        longer_names.append(bone_name)\n",
    "\n",
    "print(shorter_names)\n",
    "print(longer_names)"
   ]
  },
  {
   "cell_type": "markdown",
   "metadata": {
    "collapsed": true
   },
   "source": [
    "# &nbsp;\n",
    "<font size=\"6\" color=\"#B24C00\"  face=\"verdana\"> <B>Task 2</B></font>\n",
    "\n",
    "## sort and filter"
   ]
  },
  {
   "cell_type": "code",
   "execution_count": 12,
   "metadata": {},
   "outputs": [
    {
     "name": "stdout",
     "output_type": "stream",
     "text": [
      "Munich\n",
      "Mexico City\n"
     ]
    }
   ],
   "source": [
    "# [ ] Using cities from the example above iterate throught the list using \"for\"/\"in\"\n",
    "# [ ] Print only cities starting with \"m\"\n",
    "for city in cities:\n",
    "    if city.startswith(\"M\") :\n",
    "        print(city)\n",
    "    \n"
   ]
  },
  {
   "cell_type": "code",
   "execution_count": 15,
   "metadata": {},
   "outputs": [
    {
     "name": "stdout",
     "output_type": "stream",
     "text": [
      "['Shanghai', 'Dubai', 'São Paulo', 'Hyderabad']\n",
      "['New York', 'Munich', 'Tokyo', 'Mexico City']\n"
     ]
    }
   ],
   "source": [
    "# [ ] Using cities from the example above iterate throught the list using \"for\"/\"in\"\n",
    "cities = [\"New York\", \"Shanghai\", \"Munich\", \"Tokyo\", \"Dubai\", \"Mexico City\", \"São Paulo\", \"Hyderabad\"]\n",
    "# [ ] sort into lists with \"A\" in the city name and without \"A\" in the name: a_city & no_a_city\n",
    "a_city=[]\n",
    "no_a_city=[]\n",
    "for city in cities :\n",
    "    if \"a\" in city :\n",
    "        a_city.append(city)\n",
    "    else :\n",
    "        no_a_city.append(city)\n",
    "print(a_city)\n",
    "print(no_a_city)\n",
    "        \n"
   ]
  },
  {
   "cell_type": "markdown",
   "metadata": {
    "collapsed": true
   },
   "source": [
    "# &nbsp;\n",
    "<font size=\"6\" color=\"#00A0B2\"  face=\"verdana\"> <B>Concepts</B></font>  \n",
    "## More iteration of lists\n",
    "## - Counting\n",
    "## - Searching\n",
    "\n",
    "### use string methods while iterating lists"
   ]
  },
  {
   "cell_type": "markdown",
   "metadata": {},
   "source": [
    "\n",
    "<font size=\"4\" color=\"#00A0B2\"  face=\"verdana\"> <B>Examples</B></font>"
   ]
  },
  {
   "cell_type": "code",
   "execution_count": 17,
   "metadata": {},
   "outputs": [
    {
     "name": "stdout",
     "output_type": "stream",
     "text": [
      "The total # of \"w\" found in the list is 1\n"
     ]
    }
   ],
   "source": [
    "# [ ] review and run example\n",
    "# iterates the \"cities\" list, count & sum letter \"a\" in each city name\n",
    "\n",
    "cities = [\"New York\", \"Shanghai\", \"Munich\", \"Tokyo\", \"Dubai\", \"Mexico City\", \"São Paulo\", \"Hyderabad\"]\n",
    "search_letter = \"w\"\n",
    "total = 0\n",
    "\n",
    "for city_name in cities:\n",
    "    total += city_name.lower().count(search_letter)\n",
    "\n",
    "print(\"The total # of \\\"\" + search_letter + \"\\\" found in the list is\", total)"
   ]
  },
  {
   "cell_type": "markdown",
   "metadata": {},
   "source": [
    "<font size=\"4\" color=\"#00A0B2\"  face=\"verdana\"> <B>search function</B></font>"
   ]
  },
  {
   "cell_type": "code",
   "execution_count": 19,
   "metadata": {},
   "outputs": [
    {
     "name": "stdout",
     "output_type": "stream",
     "text": [
      "dubai in default cities is False\n",
      "dubai in visited_cites list is True\n"
     ]
    }
   ],
   "source": [
    "# [ ] review and run example\n",
    "# city_search function has a default list of cities to search\n",
    "def city_search(search_item, cities = [\"New York\", \"Shanghai\", \"Munich\", \"Tokyo\"] ):\n",
    "    for city in cities:\n",
    "        if city.lower() == search_item.lower():\n",
    "            return True\n",
    "        else:\n",
    "            # go to the next item\n",
    "            pass\n",
    "    # no more items in list\n",
    "    return False\n",
    "\n",
    "# a list of cities\n",
    "visited_cities = [\"New York\", \"Shanghai\", \"Munich\", \"Tokyo\", \"Dubai\", \"Mexico City\", \"São Paulo\", \"Hyderabad\"]\n",
    "\n",
    "search = input(\"enter a city visited: \")\n",
    "\n",
    "# Search the default city list\n",
    "print(search, \"in default cities is\", city_search(search))\n",
    "\n",
    "# search the list visited_cities using 2nd argument\n",
    "print(search, \"in visited_cites list is\", city_search(search,visited_cities))"
   ]
  },
  {
   "cell_type": "markdown",
   "metadata": {},
   "source": [
    "# &nbsp;\n",
    "<font size=\"6\" color=\"#B24C00\"  face=\"verdana\"> <B>Task 3</B></font>  \n",
    "## Program: Paint Stock  \n",
    "check a list for a paint color request and print status of color \"found\"/\"not found\"\n",
    "- create list, paint_colors, with 5+ colors\n",
    "- get user input of string:color_request\n",
    "- iterate through each color in paint_colors to check for a match with color_request"
   ]
  },
  {
   "cell_type": "code",
   "execution_count": null,
   "metadata": {},
   "outputs": [],
   "source": [
    "# [ ] complete paint stock\n",
    "\n"
   ]
  },
  {
   "cell_type": "markdown",
   "metadata": {
    "collapsed": true
   },
   "source": [
    "# &nbsp;\n",
    "<font size=\"6\" color=\"#B24C00\"  face=\"verdana\"> <B>Task 4</B></font>  \n",
    "## Program: Foot Bones Quiz\n",
    "**Create a function** that will iterate through foot_bones looking for a match of a string argument\n",
    "- Call the function 2 times with the name of a footbone \n",
    "- print immediate feedback for each answer (correct - incorrect)\n",
    "- print the total # of foot_bones identified\n",
    "\n",
    "\n",
    "The program will use the foot_bones list:\n",
    "```python \n",
    "foot_bones = [\"calcaneus\", \"talus\", \"cuboid\", \"navicular\", \"lateral cuneiform\",\n",
    "             \"intermediate cuneiform\", \"medial cuneiform\"]\n",
    "```\n",
    "Bonus: remove correct response item from list if correct so user cannot answer same item twice"
   ]
  },
  {
   "cell_type": "code",
   "execution_count": null,
   "metadata": {},
   "outputs": [],
   "source": [
    "# [ ] Complete Foot Bones Quiz\n",
    "# foot_bones = [\"calcaneus\", \"talus\", \"cuboid\", \"navicular\", \"lateral cuneiform\",\n",
    "#             \"intermediate cuneiform\", \"medial cuneiform\"]\n",
    "\n"
   ]
  },
  {
   "cell_type": "code",
   "execution_count": null,
   "metadata": {},
   "outputs": [],
   "source": [
    "# [ ] bonus version\n",
    "\n"
   ]
  },
  {
   "cell_type": "markdown",
   "metadata": {},
   "source": [
    "# Module 3 Part 2\n",
    "# The Power of List Iteration (loops)\n",
    "- for in: **`for`** loop using **`in`**\n",
    "- ** for range: `for range(start,stop,step)`** \n",
    "- more list methods: **`.extend()`, `+, .reverse(), .sort()`**      \n",
    "- strings to lists, **`.split()`**, and list to strings, **`.join()`**   \n",
    "\n",
    "\n",
    "----- \n",
    "\n",
    "><font size=\"5\" color=\"#00A0B2\"  face=\"verdana\"> <B>Student will be able to</B></font>  \n",
    "- Iterate through Lists using **`for`** with **`in`**\n",
    "- **Use `for range()` in looping operations**  \n",
    "- Use list methods **`.extend()`, `+, .reverse(), .sort()`**  \n",
    "- convert between lists and strings using  **`.split()`** and **`.join()`**"
   ]
  },
  {
   "cell_type": "markdown",
   "metadata": {},
   "source": [
    "# &nbsp;\n",
    "<font size=\"6\" color=\"#00A0B2\"  face=\"verdana\"> <B>Concepts</B></font>\n",
    "##  `range(stop)`\n",
    "### The range(*stop*) function creates a sequence  \n",
    "using 1 argument with range(*stop*)\n",
    "- deault start: 0\n",
    "- stop: stopping integer, does not process stop number\n",
    "```python\n",
    "for count in range(10):\n",
    "  print(count)\n",
    "```\n",
    "### same as\n",
    "```python\n",
    "for count in [0, 1, 2, 3, 4, 5, 6, 7, 8, 9]:\n",
    "  print(count)\n",
    "```\n"
   ]
  },
  {
   "cell_type": "markdown",
   "metadata": {},
   "source": [
    "\n",
    "<font size=\"4\" color=\"#00A0B2\"  face=\"verdana\"> <B>Examples</B></font>  \n",
    "### range runs from `0` through the integer before `stop`"
   ]
  },
  {
   "cell_type": "code",
   "execution_count": 20,
   "metadata": {},
   "outputs": [
    {
     "name": "stdout",
     "output_type": "stream",
     "text": [
      "0\n",
      "1\n",
      "2\n",
      "3\n",
      "4\n",
      "5\n",
      "6\n",
      "7\n",
      "8\n",
      "9\n"
     ]
    }
   ],
   "source": [
    "# [ ] review and run example\n",
    "for count in range(10):\n",
    "  print(count)"
   ]
  },
  {
   "cell_type": "code",
   "execution_count": 21,
   "metadata": {},
   "outputs": [
    {
     "name": "stdout",
     "output_type": "stream",
     "text": [
      "digits = [0, 1, 2, 3, 4, 5, 6, 7, 8, 9] \n",
      "\n",
      "0\n",
      "1\n",
      "2\n",
      "3\n",
      "4\n",
      "5\n",
      "6\n",
      "7\n",
      "8\n",
      "9\n"
     ]
    }
   ],
   "source": [
    "# review and run example\n",
    "digits = range(10)\n",
    "print(\"digits =\", list(digits), \"\\n\")\n",
    "\n",
    "for count in digits:\n",
    "    print(count)"
   ]
  },
  {
   "cell_type": "code",
   "execution_count": 19,
   "metadata": {},
   "outputs": [
    {
     "name": "stdout",
     "output_type": "stream",
     "text": [
      "sub_total: 0\n",
      "sub_total: 1\n",
      "sub_total: 3\n",
      "sub_total: 6\n",
      "sub_total: 10\n",
      "sub_total: 15\n",
      "sub_total: 21\n",
      "sub_total: 28\n",
      "sub_total: 36\n",
      "sub_total: 45\n",
      "Total = 45\n"
     ]
    }
   ],
   "source": [
    "# [ ] review and run example\n",
    "sub_total = 0\n",
    "for item in range(10):\n",
    "    sub_total += item\n",
    "    print(\"sub_total:\", sub_total)\n",
    "print(\"Total =\", sub_total)"
   ]
  },
  {
   "cell_type": "code",
   "execution_count": 22,
   "metadata": {},
   "outputs": [
    {
     "name": "stdout",
     "output_type": "stream",
     "text": [
      "Tuesday\n",
      "Wednesday\n",
      "February\n"
     ]
    }
   ],
   "source": [
    "# [ ] review and run example\n",
    "# print the first half of a spelling list\n",
    "spell_list = [\"Tuesday\", \"Wednesday\", \"February\", \"November\", \"Annual\", \"Calendar\", \"Solstice\"]\n",
    "\n",
    "# find length of 1st half of list (must be int)\n",
    "half_1 = int(len(spell_list)/2)\n",
    "\n",
    "for word in range(half_1):\n",
    "    print(spell_list[word])"
   ]
  },
  {
   "cell_type": "markdown",
   "metadata": {
    "collapsed": true
   },
   "source": [
    "# &nbsp;\n",
    "<font size=\"6\" color=\"#B24C00\"  face=\"verdana\"> <B>Task 5</B></font>\n",
    "\n",
    "## `range(stop)`"
   ]
  },
  {
   "cell_type": "code",
   "execution_count": 25,
   "metadata": {},
   "outputs": [
    {
     "name": "stdout",
     "output_type": "stream",
     "text": [
      "1\n",
      "2\n",
      "3\n",
      "4\n",
      "5\n"
     ]
    }
   ],
   "source": [
    "# [ ] for x = 6, use range(x) to print the numbers 1 through 6\n",
    "x=6\n",
    "for number in range(,x) :\n",
    "    print(number)\n"
   ]
  },
  {
   "cell_type": "code",
   "execution_count": 28,
   "metadata": {},
   "outputs": [
    {
     "name": "stdout",
     "output_type": "stream",
     "text": [
      "1 x 1 = 1\n",
      "2 x 1 = 2\n",
      "3 x 2 = 6\n",
      "4 x 6 = 24\n",
      "5 x 24 = 120\n",
      "6 x 120 = 720\n",
      "7 x 720 = 5040\n",
      "5040\n"
     ]
    }
   ],
   "source": [
    "# [ ] using range(x) multiply the numbers 1 through 7\n",
    "# 1x2x3x4x5x6x7 = 5040\n"
   ]
  },
  {
   "cell_type": "markdown",
   "metadata": {},
   "source": [
    "Use **`range(stop)`** to print the second half of spell_list below"
   ]
  },
  {
   "cell_type": "code",
   "execution_count": 13,
   "metadata": {},
   "outputs": [
    {
     "name": "stdout",
     "output_type": "stream",
     "text": [
      "half = 3\n",
      "November\n",
      "Annual\n",
      "Calendar\n",
      "Solstice\n"
     ]
    }
   ],
   "source": [
    "# [ ] print the second half of a spelling list using a range(stop) loop to iterate the list\n",
    "spell_list = [\"Wednesday\", \"Tuesday\", \"February\", \"November\", \"Annual\", \"Calendar\", \"Solstice\"]\n"
   ]
  },
  {
   "cell_type": "markdown",
   "metadata": {},
   "source": [
    "# &nbsp;\n",
    "<font size=\"6\" color=\"#00A0B2\"  face=\"verdana\"> <B>Concepts</B></font>\n",
    "##  `range(start,stop)`\n",
    "### The range(*start,stop*) function creates a sequence\n",
    "using 2 arguments with range(*start,stop*)\n",
    "- start: starting integer value of a range loop\n",
    "- stop: stopping integer (second argument), does not process stop number \n",
    "```python\n",
    "for count in range(5,10):\n",
    "  print(count)\n",
    "```\n"
   ]
  },
  {
   "cell_type": "markdown",
   "metadata": {},
   "source": [
    "\n",
    "<font size=\"4\" color=\"#00A0B2\"  face=\"verdana\"> <B>Examples</B></font>  \n",
    "### range runs from `start` integer through the integer before `stop`"
   ]
  },
  {
   "cell_type": "code",
   "execution_count": 29,
   "metadata": {},
   "outputs": [
    {
     "name": "stdout",
     "output_type": "stream",
     "text": [
      "5\n",
      "6\n",
      "7\n",
      "8\n",
      "9\n"
     ]
    }
   ],
   "source": [
    "# [ ] review and run example\n",
    "for count in range(5,10):\n",
    "  print(count)"
   ]
  },
  {
   "cell_type": "code",
   "execution_count": 30,
   "metadata": {},
   "outputs": [
    {
     "name": "stdout",
     "output_type": "stream",
     "text": [
      "sub_total: 0 + 5 = 5\n",
      "sub_total: 5 + 6 = 11\n",
      "sub_total: 11 + 7 = 18\n",
      "sub_total: 18 + 8 = 26\n",
      "sub_total: 26 + 9 = 35\n",
      "sub_total: 35 + 10 = 45\n",
      "Total = 45\n"
     ]
    }
   ],
   "source": [
    "# [ ] review and run example\n",
    "sub_total = 0\n",
    "temp = 0\n",
    "for item in range(5, 11):\n",
    "    temp = sub_total\n",
    "    sub_total += item\n",
    "    print(\"sub_total:\", temp, \"+\", item, \"=\",sub_total)\n",
    "print(\"Total =\", sub_total)"
   ]
  },
  {
   "cell_type": "code",
   "execution_count": 31,
   "metadata": {},
   "outputs": [
    {
     "name": "stdout",
     "output_type": "stream",
     "text": [
      "November\n",
      "Annual\n",
      "Calendar\n",
      "Solstice\n"
     ]
    }
   ],
   "source": [
    "# [ ] review and run example\n",
    "\n",
    "spell_list = [\"Tuesday\", \"Wednesday\", \"February\", \"November\", \"Annual\", \"Calendar\", \"Solstice\"]\n",
    "\n",
    "# find length list \n",
    "spell_len = len(spell_list)\n",
    "# find lenght of 1st half (aka - start of 2nd half)\n",
    "half_1 = int(spell_len/2)\n",
    "\n",
    "# print 2nd half list\n",
    "for word in range(half_1,spell_len):\n",
    "    print(spell_list[word])"
   ]
  },
  {
   "cell_type": "markdown",
   "metadata": {
    "collapsed": true
   },
   "source": [
    "# &nbsp;\n",
    "<font size=\"6\" color=\"#B24C00\"  face=\"verdana\"> <B>Task 6</B></font>\n",
    "\n",
    "##  `range(start,stop)`"
   ]
  },
  {
   "cell_type": "code",
   "execution_count": null,
   "metadata": {},
   "outputs": [],
   "source": [
    "# [ ] using range(start,stop), .append() the numbers 5 to 15 to the list: five_fifteen\n",
    "# [ ] print list five_fifteen\n",
    "\n"
   ]
  },
  {
   "cell_type": "code",
   "execution_count": null,
   "metadata": {},
   "outputs": [],
   "source": [
    "# [ ] using range(start,stop) - print the 3rd, 4th and 5th words in spell_list\n",
    "# output should include \"February\", \"November\", \"Annual\"\n",
    "spell_list = [\"Tuesday\", \"Wednesday\", \"February\", \"November\", \"Annual\", \"Calendar\", \"Solstice\"]\n",
    "\n"
   ]
  },
  {
   "cell_type": "code",
   "execution_count": null,
   "metadata": {},
   "outputs": [],
   "source": [
    "# [ ] using code find the index of \"Annual\" in spell_list\n",
    "# [ ] using range, print the spell_list including \"Annual\" to end of list\n",
    "spell_list = [\"Tuesday\", \"Wednesday\", \"February\", \"November\", \"Annual\", \"Calendar\", \"Solstice\"]\n",
    "\n"
   ]
  },
  {
   "cell_type": "markdown",
   "metadata": {},
   "source": [
    "# &nbsp;\n",
    "<font size=\"6\" color=\"#00A0B2\"  face=\"verdana\"> <B>Concepts</B></font>\n",
    "##  `range(start,stop,step)`\n",
    "### The range(*start,stop,step*) function creates a sequence\n",
    "using 3 arguments with range(*start,stop,step*)\n",
    "- start: starting integer value of a range loop\n",
    "- stop: stopping integer (second argument), does not process stop number \n",
    "- step: skip value for each loop\n",
    "```python\n",
    "for count in range(10,101,10):\n",
    "  print(count)\n",
    "```\n"
   ]
  },
  {
   "cell_type": "markdown",
   "metadata": {},
   "source": [
    "\n",
    "<font size=\"4\" color=\"#00A0B2\"  face=\"verdana\"> <B>Examples</B></font>  \n",
    "### range runs from `start` integer, skipping by `step`, through the largest `step` integer before reaching `stop`"
   ]
  },
  {
   "cell_type": "code",
   "execution_count": 32,
   "metadata": {},
   "outputs": [
    {
     "name": "stdout",
     "output_type": "stream",
     "text": [
      "25\n",
      "50\n",
      "75\n",
      "100\n"
     ]
    }
   ],
   "source": [
    "# [ ] review and run example\n",
    "for count in range(25,101,25):\n",
    "  print(count)"
   ]
  },
  {
   "cell_type": "code",
   "execution_count": 33,
   "metadata": {},
   "outputs": [
    {
     "name": "stdout",
     "output_type": "stream",
     "text": [
      "sub_total: 0 + 25 = 25\n",
      "sub_total: 25 + 30 = 55\n",
      "sub_total: 55 + 35 = 90\n",
      "sub_total: 90 + 40 = 130\n",
      "sub_total: 130 + 45 = 175\n",
      "Total = 175\n"
     ]
    }
   ],
   "source": [
    "# [ ] review and run example\n",
    "sub_total = 0\n",
    "temp = 0\n",
    "for item in range(25,46,5):\n",
    "    temp = sub_total\n",
    "    sub_total += item\n",
    "    print(\"sub_total:\", temp, \"+\", item, \"=\",sub_total)\n",
    "print(\"Total =\", sub_total)"
   ]
  },
  {
   "cell_type": "code",
   "execution_count": 34,
   "metadata": {},
   "outputs": [
    {
     "name": "stdout",
     "output_type": "stream",
     "text": [
      "Tuesday\n",
      "February\n",
      "Annual\n",
      "Solstice\n"
     ]
    }
   ],
   "source": [
    "# [ ] review and run example printing the 1st and then every other word in spell_list\n",
    "spell_list = [\"Tuesday\", \"Wednesday\", \"February\", \"November\", \"Annual\", \"Calendar\", \"Solstice\"]\n",
    "\n",
    "for index in range(0,len(spell_list),2):\n",
    "    print(spell_list[index])"
   ]
  },
  {
   "cell_type": "code",
   "execution_count": 35,
   "metadata": {},
   "outputs": [
    {
     "name": "stdout",
     "output_type": "stream",
     "text": [
      "[1, 3, 5, 7, 9, 11, 13, 15, 17, 19]\n"
     ]
    }
   ],
   "source": [
    "# [ ] review and run example casting range to list\n",
    "odd_list = list(range(1,20,2))\n",
    "print(odd_list)"
   ]
  },
  {
   "cell_type": "markdown",
   "metadata": {
    "collapsed": true
   },
   "source": [
    "# &nbsp;\n",
    "<font size=\"6\" color=\"#B24C00\"  face=\"verdana\"> <B>Task 7</B></font>  \n",
    "## `range(start,stop,step)`"
   ]
  },
  {
   "cell_type": "code",
   "execution_count": null,
   "metadata": {},
   "outputs": [],
   "source": [
    "# [ ] print numbers 10 to 20 by 2's using range\n",
    "\n",
    "\n"
   ]
  },
  {
   "cell_type": "code",
   "execution_count": null,
   "metadata": {},
   "outputs": [],
   "source": [
    "# [ ] print numbers 20 to 10 using range (need to countdown)\n",
    "# Hint: start at 20\n",
    "\n"
   ]
  },
  {
   "cell_type": "code",
   "execution_count": null,
   "metadata": {},
   "outputs": [],
   "source": [
    "# [ ] print first and every third word in spell_list\n",
    "spell_list = [\"Tuesday\", \"Wednesday\", \"February\", \"November\", \"Annual\", \"Calendar\", \"Solstice\"]\n",
    "\n"
   ]
  },
  {
   "cell_type": "markdown",
   "metadata": {
    "collapsed": true
   },
   "source": [
    "# &nbsp;\n",
    "<font size=\"6\" color=\"#B24C00\"  face=\"verdana\"> <B>Task 8</B></font>  \n",
    "\n",
    "### Program: List of letters \n",
    "- Input a word string (**word**)\n",
    "- find the string length of word \n",
    "- **use range()** to iterate through each letter in word (can use to range loops)\n",
    "- Save odd and even letters from the word as lists\n",
    "  - **odd_letters**: starting at index 0,2,...\n",
    "  - **even_letters**: starting at index 1,3,...\n",
    "- print odd and even lists"
   ]
  },
  {
   "cell_type": "code",
   "execution_count": null,
   "metadata": {},
   "outputs": [],
   "source": [
    "# [ ] complete List of letters program- test with the word \"complexity\"\n",
    "\n"
   ]
  },
  {
   "cell_type": "markdown",
   "metadata": {},
   "source": [
    "# &nbsp;\n",
    "<font size=\"6\" color=\"#B24C00\"  face=\"verdana\"> <B>Task 9: fix the error</B></font>\n"
   ]
  },
  {
   "cell_type": "code",
   "execution_count": 36,
   "metadata": {},
   "outputs": [
    {
     "ename": "TypeError",
     "evalue": "'type' object is not subscriptable",
     "output_type": "error",
     "traceback": [
      "\u001b[0;31m---------------------------------------------------------------------------\u001b[0m",
      "\u001b[0;31mTypeError\u001b[0m                                 Traceback (most recent call last)",
      "\u001b[0;32m<ipython-input-36-8d3ddd7f3d8e>\u001b[0m in \u001b[0;36m<module>\u001b[0;34m\u001b[0m\n\u001b[1;32m      1\u001b[0m \u001b[0;31m# [ ] fix the error printing odd numbers 1 - 9\u001b[0m\u001b[0;34m\u001b[0m\u001b[0;34m\u001b[0m\u001b[0;34m\u001b[0m\u001b[0m\n\u001b[0;32m----> 2\u001b[0;31m \u001b[0;32mfor\u001b[0m \u001b[0mnum\u001b[0m \u001b[0;32min\u001b[0m \u001b[0mrange\u001b[0m\u001b[0;34m[\u001b[0m\u001b[0;36m1\u001b[0m\u001b[0;34m,\u001b[0m\u001b[0;36m10\u001b[0m\u001b[0;34m,\u001b[0m\u001b[0;36m2\u001b[0m\u001b[0;34m]\u001b[0m\u001b[0;34m:\u001b[0m\u001b[0;34m\u001b[0m\u001b[0;34m\u001b[0m\u001b[0m\n\u001b[0m\u001b[1;32m      3\u001b[0m     \u001b[0mprint\u001b[0m\u001b[0;34m(\u001b[0m\u001b[0mnum\u001b[0m\u001b[0;34m)\u001b[0m\u001b[0;34m\u001b[0m\u001b[0;34m\u001b[0m\u001b[0m\n\u001b[1;32m      4\u001b[0m \u001b[0;34m\u001b[0m\u001b[0m\n\u001b[1;32m      5\u001b[0m \u001b[0;34m\u001b[0m\u001b[0m\n",
      "\u001b[0;31mTypeError\u001b[0m: 'type' object is not subscriptable"
     ]
    }
   ],
   "source": [
    "# [ ] fix the error printing odd numbers 1 - 9\n",
    "for num in range[1,10,2]:\n",
    "    print(num)\n",
    "\n",
    "\n"
   ]
  },
  {
   "cell_type": "markdown",
   "metadata": {},
   "source": [
    "# Module 3 Part 3\n",
    "# The Power of List Iteration\n",
    "- for in: **`for`** loop using **`in`**\n",
    "- for range: **`for range(start,stop,step)`** \n",
    "- **more list methods: `.extend()`, `+, .reverse(), .sort()`**   \n",
    "- strings to lists, **`.split()`**, and list to strings, **`.join()`**     \n",
    "\n",
    "\n",
    "----- \n",
    "\n",
    "><font size=\"5\" color=\"#00A0B2\"  face=\"verdana\"> <B>Student will be able to</B></font>  \n",
    "- Iterate through Lists using **`for`** with **`in`**\n",
    "- Use **`for range()`** in looping operations \n",
    "- **Use list methods `.extend()`, `+, .reverse(), .sort()`**  \n",
    "- convert between lists and strings using  **`.split()`** and **`.join()`**"
   ]
  },
  {
   "cell_type": "markdown",
   "metadata": {},
   "source": [
    "# &nbsp;\n",
    "<font size=\"6\" color=\"#00A0B2\"  face=\"verdana\"> <B>Concepts</B></font>\n",
    "## Combine Lists\n",
    "## `+`  list addition\n",
    "##  `.extend()` list method   \n",
    "\n",
    "### combine lists with `+` and `.extend()`\n",
    "```python\n",
    "visited_cities = [\"New York\", \"Shanghai\", \"Munich\", \"Toyko\", \"Dubai\", \"Mexico City\", \"São Paulo\", \"Hyderabad\"]\n",
    "wish_cities = [\"Reykjavík\", \"Moscow\", \"Beijing\", \"Lamu\"]\n",
    "# combine in a new list\n",
    "all_cities = visited_cities + wish_cities\n",
    "\n",
    "# add a list to an existing list\n",
    "visitied_cities.extend(wish_cities)\n",
    "```"
   ]
  },
  {
   "cell_type": "markdown",
   "metadata": {},
   "source": [
    "\n",
    "<font size=\"4\" color=\"#00A0B2\"  face=\"verdana\"> <B>Examples</B></font>"
   ]
  },
  {
   "cell_type": "code",
   "execution_count": 26,
   "metadata": {},
   "outputs": [
    {
     "name": "stdout",
     "output_type": "stream",
     "text": [
      "ALL CITIES ['New York', 'Shanghai', 'Munich', 'Toyko', 'Dubai', 'Mexico City', 'São Paulo', 'Hyderabad', 'Reykjavík', 'Moscow', 'Beijing', 'Lamu']\n"
     ]
    }
   ],
   "source": [
    "# [ ] review and run example\n",
    "visited_cities = [\"New York\", \"Shanghai\", \"Munich\", \"Toyko\", \"Dubai\", \"Mexico City\", \"São Paulo\", \"Hyderabad\"]\n",
    "wish_cities = [\"Reykjavík\", \"Moscow\", \"Beijing\", \"Lamu\"]\n",
    "\n",
    "# .extend() \n",
    "# extending visited_cities list (IN PLACE) by concatenating wish_cities\n",
    "visited_cities.extend(wish_cities)\n",
    "print(\"ALL CITIES\",visited_cities)"
   ]
  },
  {
   "cell_type": "code",
   "execution_count": 38,
   "metadata": {},
   "outputs": [
    {
     "name": "stdout",
     "output_type": "stream",
     "text": [
      "ALL CITIES\n",
      "New York\n",
      "Shanghai\n",
      "Munich\n",
      "Toyko\n",
      "Dubai\n",
      "Mexico City\n",
      "São Paulo\n",
      "Hyderabad\n",
      "Reykjavík\n",
      "Moscow\n",
      "Beijing\n",
      "Lamu\n"
     ]
    }
   ],
   "source": [
    "# [ ] review and run example\n",
    "visited_cities = [\"New York\", \"Shanghai\", \"Munich\", \"Toyko\", \"Dubai\", \"Mexico City\", \"São Paulo\", \"Hyderabad\"]\n",
    "wish_cities = [\"Reykjavík\", \"Moscow\", \"Beijing\", \"Lamu\"]\n",
    "\n",
    "# (+) Addition operator for lists creates a (NEW) combined List\n",
    "all_cities = visited_cities + wish_cities\n",
    "\n",
    "print(\"ALL CITIES\")\n",
    "for city in all_cities:\n",
    "    print(city)"
   ]
  },
  {
   "cell_type": "code",
   "execution_count": 39,
   "metadata": {},
   "outputs": [
    {
     "name": "stdout",
     "output_type": "stream",
     "text": [
      "Team A: [0, 2, 2, 2, 4, 4, 4, 5, 6, 6, 6] \n",
      "Team B: [0, 0, 0, 1, 1, 2, 3, 3, 3, 6, 8]\n",
      "Team Totals [0, 2, 2, 2, 4, 4, 4, 5, 6, 6, 6, 0, 0, 0, 1, 1, 2, 3, 3, 3, 6, 8]\n"
     ]
    }
   ],
   "source": [
    "# [ ] review and run example\n",
    "team_a = [0,2,2,2,4,4,4,5,6,6,6]\n",
    "team_b = [0,0,0,1,1,2,3,3,3,6,8]\n",
    "print(\"Team A:\", team_a, \"\\nTeam B:\",team_b)\n",
    "\n",
    "# (+) Addition operator \n",
    "team_totals = team_a + team_b\n",
    "print(\"Team Totals\", team_totals)"
   ]
  },
  {
   "cell_type": "code",
   "execution_count": 43,
   "metadata": {},
   "outputs": [
    {
     "name": "stdout",
     "output_type": "stream",
     "text": [
      "Team_a extended [0, 2, 2, 2, 4, 4, 4, 5, 6, 6, 6, 0, 0, 0, 1, 1, 2, 3, 3, 3, 6, 8, 0, 0, 0, 1, 1, 2, 3, 3, 3, 6, 8, 0, 0, 0, 1, 1, 2, 3, 3, 3, 6, 8, 0, 0, 0, 1, 1, 2, 3, 3, 3, 6, 8]\n"
     ]
    }
   ],
   "source": [
    "# [ ] review and run example after running cell above\n",
    "# .extend() \n",
    "team_a.extend(team_b)\n",
    "print(\"Team_a extended\", team_a)\n",
    "\n",
    "# what happens if you keep running this cell?"
   ]
  },
  {
   "cell_type": "markdown",
   "metadata": {
    "collapsed": true
   },
   "source": [
    "# &nbsp;\n",
    "<font size=\"6\" color=\"#B24C00\"  face=\"verdana\"> <B>Task 10</B></font>\n",
    "\n",
    "### combine lists"
   ]
  },
  {
   "cell_type": "code",
   "execution_count": null,
   "metadata": {},
   "outputs": [],
   "source": [
    "# [ ] extend the list common_birds with list birds_seen which you must create\n",
    "common_birds = [\"chicken\", \"blue jay\", \"crow\", \"pigeon\"]\n",
    "\n"
   ]
  },
  {
   "cell_type": "code",
   "execution_count": null,
   "metadata": {},
   "outputs": [],
   "source": [
    "# [ ] Create 2 lists zero_nine and ten_onehundred that contain 1-9, and 10 - 100 by 10's.\n",
    "# [ ] use list addition to concatenate the lists into all_num and print\n",
    "\n"
   ]
  },
  {
   "cell_type": "markdown",
   "metadata": {},
   "source": [
    "# &nbsp;\n",
    "<font size=\"6\" color=\"#00A0B2\"  face=\"verdana\"> <B>Concepts</B></font>\n",
    "## .reverse() : reverse a list in place\n",
    "```python\n",
    "cities_1 = [\"Dubai\", \"Mexico City\", \"São Paulo\", \"Hyderabad\"]\n",
    "\n",
    "print(\"regular\", cities_1)\n",
    "cities_1.reverse()\n",
    "print(\"reversed\", cities_1)\n",
    "```\n"
   ]
  },
  {
   "cell_type": "markdown",
   "metadata": {},
   "source": [
    "\n",
    "<font size=\"4\" color=\"#00A0B2\"  face=\"verdana\"> <B>Examples</B></font>"
   ]
  },
  {
   "cell_type": "code",
   "execution_count": 44,
   "metadata": {},
   "outputs": [
    {
     "name": "stdout",
     "output_type": "stream",
     "text": [
      "regular ['Dubai', 'Mexico City', 'São Paulo', 'Hyderabad']\n",
      "reversed ['Hyderabad', 'São Paulo', 'Mexico City', 'Dubai']\n"
     ]
    }
   ],
   "source": [
    "# [ ] review and run example\n",
    "cities_1 = [\"Dubai\", \"Mexico City\", \"São Paulo\", \"Hyderabad\"]\n",
    "\n",
    "print(\"regular\", cities_1)\n",
    "cities_1.reverse()\n",
    "print(\"reversed\", cities_1)"
   ]
  },
  {
   "cell_type": "code",
   "execution_count": 45,
   "metadata": {},
   "outputs": [
    {
     "name": "stdout",
     "output_type": "stream",
     "text": [
      "regular list [0, 1, 2, 3, 4, 5, 6, 7, 8, 9, 10, 20, 30, 40, 50, 60, 70, 80, 90, 100] \n",
      "\n",
      "reverse list [100, 90, 80, 70, 60, 50, 40, 30, 20, 10, 9, 8, 7, 6, 5, 4, 3, 2, 1, 0] \n",
      "\n",
      "Three Multiple\n",
      "90\n",
      "60\n",
      "30\n",
      "9\n",
      "6\n",
      "3\n",
      "0\n"
     ]
    }
   ],
   "source": [
    "# [ ] review and run example\n",
    "all_num = [0, 1, 2, 3, 4, 5, 6, 7, 8, 9, 10, 20, 30, 40, 50, 60, 70, 80, 90, 100]\n",
    "print(\"regular list\",all_num, \"\\n\")\n",
    "all_num.reverse()\n",
    "print(\"reverse list\",all_num, \"\\n\")\n",
    "num_len = len(all_num)\n",
    "\n",
    "print(\"Three Multiple\")\n",
    "for num in all_num:\n",
    "    if num/3 == int(num/3):\n",
    "        print(num)\n",
    "    else:\n",
    "        pass\n",
    "    "
   ]
  },
  {
   "cell_type": "code",
   "execution_count": 46,
   "metadata": {},
   "outputs": [
    {
     "name": "stdout",
     "output_type": "stream",
     "text": [
      "before list [0, 1, 2, 3, 4, 5, 6, 7, 8, 9, 10, 11, 12, 13, 14, 15, 16, 17, 18, 19, 20]\n",
      "after list [20, 19, 18, 17, 16, 15, 14, 13, 12, 11, 10, 9, 8, 7, 6, 5, 4, 3, 2, 1, 0]\n"
     ]
    }
   ],
   "source": [
    "# [ ] review and run example\n",
    "# create a list of  numbers by casting a range \n",
    "count_list = list(range(21))\n",
    "print(\"before list\", count_list)\n",
    "\n",
    "# and reverse\n",
    "count_list.reverse()\n",
    "print(\"after list\", count_list)"
   ]
  },
  {
   "cell_type": "markdown",
   "metadata": {
    "collapsed": true
   },
   "source": [
    "# &nbsp;\n",
    "<font size=\"6\" color=\"#B24C00\"  face=\"verdana\"> <B>Task 11</B></font>\n",
    "\n",
    "## .reverse()"
   ]
  },
  {
   "cell_type": "code",
   "execution_count": null,
   "metadata": {},
   "outputs": [],
   "source": [
    "# [ ] create and  print a list of multiples of 5 from 5 to 100\n",
    "# { ] reverse the list and print\n",
    "\n"
   ]
  },
  {
   "cell_type": "code",
   "execution_count": null,
   "metadata": {},
   "outputs": [],
   "source": [
    "# [ ] Create two lists: fours & more_fours containing multiples of four from 4 to 44\n",
    "# [ ] combine and print so that the output is mirrored [44, 40,...8, 4, 4, 8, ...40, 44]\n",
    "\n"
   ]
  },
  {
   "cell_type": "markdown",
   "metadata": {},
   "source": [
    "# &nbsp;\n",
    "<font size=\"6\" color=\"#00A0B2\"  face=\"verdana\"> <B>Concepts</B></font>  \n",
    "\n",
    "## .sort() and sorted()\n",
    "\n",
    "### .sort() in place  \n",
    "**.sort()** - orders a list in place \n",
    "```python\n",
    "quiz_scores = [20, 19, 20, 15, 20, 20, 20, 18, 18, 18, 19]\n",
    "quiz_scores.sort()\n",
    "```  \n",
    "\n",
    "### sorted() copy\n",
    "**sorted()** - creates an ordered list copy \n",
    "```python\n",
    "game_points = [3, 14, 0, 8, 21, 1, 3, 8]\n",
    "sorted_points = sorted(game_points)\n",
    "```"
   ]
  },
  {
   "cell_type": "markdown",
   "metadata": {},
   "source": [
    "# &nbsp;\n",
    "<font size=\"6\" color=\"#00A0B2\"  face=\"verdana\"> <B>Examples</B></font>  \n",
    "### .sort() and sorted()"
   ]
  },
  {
   "cell_type": "code",
   "execution_count": 27,
   "metadata": {},
   "outputs": [
    {
     "name": "stdout",
     "output_type": "stream",
     "text": [
      "quiz_scores: [15, 18, 18, 18, 19, 19, 20, 20, 20, 20, 20]\n"
     ]
    }
   ],
   "source": [
    "# [ ] review and run example\n",
    "quiz_scores = [20, 19, 20, 15, 20, 20, 20, 18, 18, 18, 19]\n",
    "\n",
    "# use .sort()\n",
    "quiz_scores.sort()\n",
    "\n",
    "print(\"quiz_scores:\", quiz_scores)"
   ]
  },
  {
   "cell_type": "code",
   "execution_count": 48,
   "metadata": {},
   "outputs": [
    {
     "name": "stdout",
     "output_type": "stream",
     "text": [
      "game_points: [3, 14, 0, 8, 21, 1, 3, 8]\n",
      "sorted_points: [0, 1, 3, 3, 8, 8, 14, 21]\n"
     ]
    }
   ],
   "source": [
    "# [ ] review and run example\n",
    "game_points = [3, 14, 0, 8, 21, 1, 3, 8]\n",
    "\n",
    "# use sorted()\n",
    "sorted_points = sorted(game_points)\n",
    "\n",
    "print(\"game_points:\", game_points)\n",
    "print(\"sorted_points:\", sorted_points)"
   ]
  },
  {
   "cell_type": "code",
   "execution_count": 28,
   "metadata": {},
   "outputs": [
    {
     "name": "stdout",
     "output_type": "stream",
     "text": [
      "Unsorted ['Dubai', 'Mexico City', 'São Paulo', 'Hyderabad']\n",
      "Sorted ['Dubai', 'Hyderabad', 'Mexico City', 'São Paulo']\n"
     ]
    }
   ],
   "source": [
    "# [ ] review and run example\n",
    "cities_1 = [\"Dubai\", \"Mexico City\", \"São Paulo\", \"Hyderabad\"]\n",
    "\n",
    "print(\"Unsorted\", cities_1)\n",
    "cities_1.sort()\n",
    "print(\"Sorted\", cities_1)"
   ]
  },
  {
   "cell_type": "markdown",
   "metadata": {
    "collapsed": true
   },
   "source": [
    "# &nbsp;\n",
    "<font size=\"6\" color=\"#B24C00\"  face=\"verdana\"> <B>Task 12</B></font>  \n",
    "## .sort() & sorted()"
   ]
  },
  {
   "cell_type": "code",
   "execution_count": null,
   "metadata": {},
   "outputs": [],
   "source": [
    "# [ ] print cites from visited_cities list in alphbetical order using .sort()\n",
    "# [ ] only print cities that names start \"Q\" or earlier\n",
    "visited_cities = [\"New York\", \"Shanghai\", \"Munich\", \"Toyko\", \"Dubai\", \"Mexico City\", \"São Paulo\", \"Hyderabad\"]\n",
    "\n"
   ]
  },
  {
   "cell_type": "code",
   "execution_count": null,
   "metadata": {},
   "outputs": [],
   "source": [
    "# [ ] make a sorted copy (sorted_cities) of visited_cities list\n",
    "# [ ] remove city names 5 characters or less from sorted_cities \n",
    "# [ ] print visitied cites and sorted cities\n",
    "visited_cities = [\"New York\", \"Shanghai\", \"Munich\", \"Toyko\", \"Dubai\", \"Mexico City\", \"São Paulo\", \"Hyderabad\"]\n",
    "\n"
   ]
  },
  {
   "cell_type": "markdown",
   "metadata": {
    "collapsed": true
   },
   "source": [
    "# &nbsp;\n",
    "<font size=\"6\" color=\"#B24C00\"  face=\"verdana\"> <B>Task 13</B></font>  \n",
    "## Program: Merge & Sort Animals\n",
    "Create a program that \n",
    "- takes user to build a list: add_animals \n",
    "- merges add_anmials with exisiting list: anmimals\n",
    "- provides a sorted list to view in alpa or reverse alpha order"
   ]
  },
  {
   "cell_type": "markdown",
   "metadata": {},
   "source": [
    "\n",
    "<font size=\"4\" color=\"#B24C00\"  face=\"verdana\"> <B>step 1 </B></font> get user input to build add_animals list\n"
   ]
  },
  {
   "cell_type": "code",
   "execution_count": 50,
   "metadata": {},
   "outputs": [
    {
     "name": "stdout",
     "output_type": "stream",
     "text": [
      "Give me an animal to add or blank to stop: jay\n",
      "Give me an animal to add or blank to stop: cat\n",
      "Give me an animal to add or blank to stop: dog\n",
      "Give me an animal to add or blank to stop: lio\n",
      "Give me an animal to add or blank to stop: \n"
     ]
    }
   ],
   "source": [
    "# [ ] build a list (add_animals) using a while loop, stop adding when an empty string is entered\n",
    "add_animals = []\n"
   ]
  },
  {
   "cell_type": "markdown",
   "metadata": {},
   "source": [
    "\n",
    "<font size=\"4\" color=\"#B24C00\"  face=\"verdana\"> <B>step 2 </B></font> Merge the lists: add_animals into animals\n"
   ]
  },
  {
   "cell_type": "code",
   "execution_count": 52,
   "metadata": {},
   "outputs": [
    {
     "name": "stdout",
     "output_type": "stream",
     "text": [
      "['jay', 'cat', 'dog', 'lio']\n"
     ]
    }
   ],
   "source": [
    "# [ ] extend the lists into animals, then sort \n",
    "animals = [\"Chimpanzee\", \"Panther\", \"Wolf\", \"Armadillo\"]"
   ]
  },
  {
   "cell_type": "markdown",
   "metadata": {},
   "source": [
    "\n",
    "<font size=\"4\" color=\"#B24C00\"  face=\"verdana\"> <B>step 3 </B></font> Allow animals list to be viewed alpha or reverse alpha order\n"
   ]
  },
  {
   "cell_type": "code",
   "execution_count": null,
   "metadata": {},
   "outputs": [],
   "source": [
    "# [ ] get input if list should be viewed alpha or reverse alpha and display list\n",
    "\n"
   ]
  },
  {
   "cell_type": "code",
   "execution_count": null,
   "metadata": {
    "collapsed": true
   },
   "outputs": [],
   "source": []
  },
  {
   "cell_type": "markdown",
   "metadata": {},
   "source": [
    "# Module 3 Part 4\n",
    "# The Power of List Iteration\n",
    "- for in: **`for`** loop using **`in`**\n",
    "- for range: **`for range(start,stop,step)`** \n",
    "- more list methods: **`.extend()`, `+, .reverse(), .sort()`**     \n",
    "- **strings to lists,`.split()`, and list to strings, `.join()`** \n",
    "- **list cast & `print(\"hello\", end='')`**\n",
    "\n",
    "\n",
    "----- \n",
    "\n",
    "><font size=\"5\" color=\"#00A0B2\"  face=\"verdana\"> <B>Student will be able to</B></font>  \n",
    "- Iterate through Lists using **`for`** with **`in`**\n",
    "- Use **`for range()`** in looping operations  \n",
    "- Use list methods **`.extend()`, `+, .reverse(), .sort()`**  \n",
    "- **convert between lists and strings using  `.split()` and `.join()`**\n",
    "- **cast strings to lists / direct multiple print outputs to a single line**"
   ]
  },
  {
   "cell_type": "markdown",
   "metadata": {},
   "source": [
    "# &nbsp;\n",
    "<font size=\"6\" color=\"#00A0B2\"  face=\"verdana\"> <B>Concepts</B></font>\n",
    "## Converting a string to a list with `.split()`\n",
    "### `.split()`  by default, splits a string at spaces (\" \") to create a list\n",
    "```python\n",
    "tip = \"Notebooks can be exported as .pdf\"\n",
    "tip_words = tip.split()\n",
    "\n",
    "for word in tip_words:\n",
    "    print(word)\n",
    "```"
   ]
  },
  {
   "cell_type": "markdown",
   "metadata": {},
   "source": [
    "\n",
    "<font size=\"4\" color=\"#00A0B2\"  face=\"verdana\"> <B>Examples</B></font>"
   ]
  },
  {
   "cell_type": "code",
   "execution_count": 53,
   "metadata": {},
   "outputs": [
    {
     "name": "stdout",
     "output_type": "stream",
     "text": [
      "STRING: Notebooks can be exported as .pdf\n",
      "LIST: ['Notebooks', 'can', 'be', 'exported', 'as', '.pdf'] \n",
      "\n",
      "Notebooks\n",
      "can\n",
      "be\n",
      "exported\n",
      "as\n",
      ".pdf\n"
     ]
    }
   ],
   "source": [
    "# [ ] review and run example\n",
    "tip = \"Notebooks can be exported as .pdf\"\n",
    "tip_words = tip.split()\n",
    "\n",
    "print(\"STRING:\", tip)\n",
    "print(\"LIST:\", tip_words, \"\\n\")\n",
    "\n",
    "for word in tip_words:\n",
    "    print(word)"
   ]
  },
  {
   "cell_type": "code",
   "execution_count": 54,
   "metadata": {},
   "outputs": [
    {
     "name": "stdout",
     "output_type": "stream",
     "text": [
      "down\n",
      "falling\n",
      "is\n",
      "bridge\n",
      "London\n"
     ]
    }
   ],
   "source": [
    "# [ ] review and run example\n",
    "rhyme = \"London bridge is falling down\"\n",
    "\n",
    "rhyme_words = rhyme.split()\n",
    "\n",
    "rhyme_words.reverse()\n",
    "\n",
    "for word in rhyme_words:\n",
    "    print(word)"
   ]
  },
  {
   "cell_type": "markdown",
   "metadata": {
    "collapsed": true
   },
   "source": [
    "# &nbsp;\n",
    "<font size=\"6\" color=\"#B24C00\"  face=\"verdana\"> <B>Task 14</B></font>\n",
    "\n",
    "### using `.split()`"
   ]
  },
  {
   "cell_type": "code",
   "execution_count": null,
   "metadata": {},
   "outputs": [],
   "source": [
    "# [ ] split the string(rhyme) into a list of words (rhyme_words)\n",
    "# [ ] print each word on it's own line\n",
    "rhyme = 'Jack and Jill went up the hill To fetch a pail of water' \n",
    "\n"
   ]
  },
  {
   "cell_type": "code",
   "execution_count": null,
   "metadata": {},
   "outputs": [],
   "source": [
    "# [ ] split code_tip into a list and print the first and every other word\n",
    "code_tip = \"Python uses spaces for indentation\"\n",
    "\n"
   ]
  },
  {
   "cell_type": "markdown",
   "metadata": {},
   "source": [
    "# &nbsp;\n",
    "<font size=\"6\" color=\"#00A0B2\"  face=\"verdana\"> <B>Concepts</B></font>\n",
    "## `.split('-')`\n",
    "### to split on characters other than \" \" (space), provide `.split()` a string argument to use as break points\n",
    "```python \n",
    "code_tip = \"Python-uses-spaces-for-indentation\"\n",
    "tip_words = code_tip.split('-')\n",
    "```"
   ]
  },
  {
   "cell_type": "markdown",
   "metadata": {},
   "source": [
    "\n",
    "<font size=\"4\" color=\"#00A0B2\"  face=\"verdana\"> <B>Examples</B></font>  \n",
    "### `.split('-') : split with an argument"
   ]
  },
  {
   "cell_type": "code",
   "execution_count": 55,
   "metadata": {},
   "outputs": [
    {
     "name": "stdout",
     "output_type": "stream",
     "text": [
      "['Python', 'uses', 'spaces', 'for', 'indentation']\n"
     ]
    }
   ],
   "source": [
    "# [ ] review and run example\n",
    "code_tip = \"Python-uses-spaces-for-indentation\"\n",
    "tip_words = code_tip.split('-')\n",
    "\n",
    "print(tip_words)"
   ]
  },
  {
   "cell_type": "code",
   "execution_count": 56,
   "metadata": {},
   "outputs": [
    {
     "name": "stdout",
     "output_type": "stream",
     "text": [
      "Python uses spaces for indentation\n",
      "['Python uses sp', 'ces for indent', 'tion']\n"
     ]
    }
   ],
   "source": [
    "# [ ] review and run example - study the list print output\n",
    "code_tip = \"Python uses spaces for indentation\"\n",
    "\n",
    "# split on \"a\"\n",
    "tip_words = code_tip.split('a')\n",
    "print(code_tip)\n",
    "print(tip_words)"
   ]
  },
  {
   "cell_type": "code",
   "execution_count": 59,
   "metadata": {},
   "outputs": [
    {
     "name": "stdout",
     "output_type": "stream",
     "text": [
      "printed without line breaks ['Jack and Jill went up the hill', 'To fetch a pail of water', 'Jack fell down and broke his crown', 'And Jill came tumbling after'] \n",
      "\n",
      "And Jill came tumbling after\n",
      "Jack fell down and broke his crown\n",
      "To fetch a pail of water\n",
      "Jack and Jill went up the hill\n"
     ]
    }
   ],
   "source": [
    "# [ ] review and run example\n",
    "# triple quotes ''' ''' preserve formatting such as spaces and line breaks\n",
    "big_quote = \"\"\"Jack and Jill went up the hill\n",
    "To fetch a pail of water\n",
    "Jack fell down and broke his crown\n",
    "And Jill came tumbling after\"\"\"\n",
    "\n",
    "# split on line breaks (\\n)\n",
    "quote_lines = big_quote.split('\\n')\n",
    "print(\"printed without line breaks\",quote_lines, '\\n')\n",
    "\n",
    "# print the list in reverse with index slicing\n",
    "for line in quote_lines[::-1]:\n",
    "    print(line)\n"
   ]
  },
  {
   "cell_type": "markdown",
   "metadata": {
    "collapsed": true
   },
   "source": [
    "# &nbsp;\n",
    "<font size=\"6\" color=\"#B24C00\"  face=\"verdana\"> <B>Task 15</B></font>\n",
    "\n",
    "## `.split()`"
   ]
  },
  {
   "cell_type": "code",
   "execution_count": null,
   "metadata": {},
   "outputs": [],
   "source": [
    "# [ ] split poem into a list of phrases by splitting on \"*\" a\n",
    "# [ ] print each phrase on a new line in title case\n",
    "poem = \"Write code frequently*Save code frequently*Comment code frequently*Study code frequently*\"\n"
   ]
  },
  {
   "cell_type": "markdown",
   "metadata": {},
   "source": [
    "# &nbsp;\n",
    "<font size=\"6\" color=\"#00A0B2\"  face=\"verdana\"> <B>Concepts</B></font>  \n",
    "\n",
    "## `.join()` &nbsp; build a string from a list\n",
    "### `.join()` is a method applied to a separator string and iterates through its argument\n",
    "```python\n",
    "tip_words = ['Notebooks', 'can', 'be', 'exported', 'as', '.pdf'] \n",
    "\n",
    "\" \".join(tip_words)\n",
    "```\n",
    "a space (\" \") is the separator that gets injected between the objects in the argument (the list \"tip_words\")"
   ]
  },
  {
   "cell_type": "markdown",
   "metadata": {},
   "source": [
    "\n",
    "<font size=\"4\" color=\"#00A0B2\"  face=\"verdana\"> <B>Examples</B></font>  \n",
    "## `.join()`"
   ]
  },
  {
   "cell_type": "code",
   "execution_count": 29,
   "metadata": {},
   "outputs": [
    {
     "name": "stdout",
     "output_type": "stream",
     "text": [
      "Notebooks can be exported as .pdf\n"
     ]
    }
   ],
   "source": [
    "# [ ] review and run example\n",
    "tip_words = ['Notebooks', 'can', 'be', 'exported', 'as', '.pdf'] \n",
    "\n",
    "# join tip_words objects with spaces\n",
    "print(\" \".join(tip_words))"
   ]
  },
  {
   "cell_type": "code",
   "execution_count": 30,
   "metadata": {},
   "outputs": [
    {
     "name": "stdout",
     "output_type": "stream",
     "text": [
      "Python\n"
     ]
    }
   ],
   "source": [
    "# [ ] review and run example\n",
    "no_space = \"\"\n",
    "letters = [\"P\", \"y\", \"t\", \"h\", \"o\", \"n\"]\n",
    "print(no_space.join(letters))"
   ]
  },
  {
   "cell_type": "code",
   "execution_count": 62,
   "metadata": {},
   "outputs": [
    {
     "name": "stdout",
     "output_type": "stream",
     "text": [
      "I-t-e-r-a-t-i-o-n\n",
      "I t e r a t i o n\n",
      "I...t...e...r...a...t...i...o...n\n"
     ]
    }
   ],
   "source": [
    "# [ ] review and run example - .join() iterates through sequences\n",
    "dash = \"-\"\n",
    "space = \" \"\n",
    "word = \"Iteration\"\n",
    "ellipises = \"...\"\n",
    "\n",
    "dash_join = dash.join(word)\n",
    "print(dash_join)\n",
    "print(space.join(word))\n",
    "print(ellipises.join(word))"
   ]
  },
  {
   "cell_type": "markdown",
   "metadata": {
    "collapsed": true
   },
   "source": [
    "# &nbsp;\n",
    "<font size=\"6\" color=\"#B24C00\"  face=\"verdana\"> <B>Task 16</B></font>  \n",
    "## `.join()`"
   ]
  },
  {
   "cell_type": "code",
   "execution_count": null,
   "metadata": {},
   "outputs": [],
   "source": [
    "# [ ] .join() letters list objects with an Asterisk: \"*\"\n",
    "letters = [\"A\", \"s\", \"t\", \"e\", \"r\", \"i\", \"s\", \"k\"]\n",
    "\n"
   ]
  },
  {
   "cell_type": "markdown",
   "metadata": {
    "collapsed": true
   },
   "source": [
    "# &nbsp;\n",
    "<font size=\"6\" color=\"#B24C00\"  face=\"verdana\"> <B>Task 17</B></font>  \n",
    "## Program: Choose the separator\n",
    "- get user input on what to use to join words (\" \", *, -, etc...) - store in variable: separator\n",
    "- join pharse_words with the separator and print"
   ]
  },
  {
   "cell_type": "code",
   "execution_count": null,
   "metadata": {},
   "outputs": [],
   "source": [
    "# [ ] complete Choose the separator\n",
    "phrase_words = ['Jack', 'and', 'Jill', 'went', 'up', 'the', 'hill', 'To', 'fetch', 'a', 'pail', 'of', 'water']\n",
    "\n"
   ]
  },
  {
   "cell_type": "markdown",
   "metadata": {},
   "source": [
    "# &nbsp;\n",
    "<font size=\"6\" color=\"#00A0B2\"  face=\"verdana\"> <B>Concept</B></font>\n",
    "## More Python string tools (tricks?)\n",
    "### Cast a string to a list of characters  \n",
    "```python\n",
    "hello_letters = list(\"Hello\")\n",
    "```\n",
    "### print to the same line with multiple print statements (`end=`)\n",
    "or insert any character as an end in print(\"String\", end=\"+\")\n",
    "```python\n",
    "print('Hello', end = '')\n",
    "print('world')\n",
    "```"
   ]
  },
  {
   "cell_type": "markdown",
   "metadata": {},
   "source": [
    "\n",
    "<font size=\"4\" color=\"#00A0B2\"  face=\"verdana\"> <B>Examples</B></font>"
   ]
  },
  {
   "cell_type": "code",
   "execution_count": 31,
   "metadata": {},
   "outputs": [
    {
     "name": "stdout",
     "output_type": "stream",
     "text": [
      "['H', 'e', 'l', 'l', 'o']\n"
     ]
    }
   ],
   "source": [
    "# [ ] review and run example\n",
    "hello_letters = list(\"Hello\")\n",
    "print(hello_letters)"
   ]
  },
  {
   "cell_type": "code",
   "execution_count": 64,
   "metadata": {},
   "outputs": [
    {
     "name": "stdout",
     "output_type": "stream",
     "text": [
      "c~o~n~c~a~t~e~n~a~t~e~s\n"
     ]
    }
   ],
   "source": [
    "# [ ] review and run example\n",
    "# cast sting to list\n",
    "word_letters = list(\"concatenates\")\n",
    "\n",
    "# .join() concatenates the list\n",
    "# print on same line setting the end character\n",
    "print('~'.join(word_letters))"
   ]
  },
  {
   "cell_type": "code",
   "execution_count": 32,
   "metadata": {},
   "outputs": [
    {
     "name": "stdout",
     "output_type": "stream",
     "text": [
      "Hello world\n"
     ]
    }
   ],
   "source": [
    "# [ ] review and run example\n",
    "print(\"Hello \", end = '')\n",
    "print(\"world\")"
   ]
  },
  {
   "cell_type": "code",
   "execution_count": 66,
   "metadata": {},
   "outputs": [
    {
     "name": "stdout",
     "output_type": "stream",
     "text": [
      "Hello World!\n",
      "still something to learn about print()\n"
     ]
    }
   ],
   "source": [
    "# [ ] review and run example\n",
    "# This  is the default print end\n",
    "print(\"Hello World!\", end=\"\\n\")\n",
    "print('still something to learn about print()')"
   ]
  },
  {
   "cell_type": "code",
   "execution_count": 67,
   "metadata": {},
   "outputs": [
    {
     "name": "stdout",
     "output_type": "stream",
     "text": [
      "C*o*n*c*a*t*e*n*a*t*i*o*n*"
     ]
    }
   ],
   "source": [
    "# [ ] review and run example\n",
    "# end inserts any valid str character: A-z, 0-9,!,@,*,\\n,\\t or ''(empty string)...\n",
    "for letter in \"Concatenation\":\n",
    "    print(letter, end='*')"
   ]
  },
  {
   "cell_type": "markdown",
   "metadata": {},
   "source": [
    "# &nbsp;\n",
    "<font size=\"6\" color=\"#B24C00\"  face=\"verdana\"> <B>Task 18</B></font>\n",
    "## `end=\" \" ` configuration in printing\n",
    "`print('The String', end='')`"
   ]
  },
  {
   "cell_type": "code",
   "execution_count": null,
   "metadata": {},
   "outputs": [],
   "source": [
    "# [ ] use 3 print() statements to output text to one line \n",
    "# [ ] separate the lines by using \"- \" (dash space)\n",
    "\n"
   ]
  },
  {
   "cell_type": "markdown",
   "metadata": {},
   "source": [
    "# &nbsp;\n",
    "<font size=\"6\" color=\"#B24C00\"  face=\"verdana\"> <B>Task 19</B></font>\n",
    "## cast: str to list\n",
    "`Msg_characters = list(\"Always test your code\")`"
   ]
  },
  {
   "cell_type": "code",
   "execution_count": null,
   "metadata": {},
   "outputs": [],
   "source": [
    "# [ ] create a string (fact) of 20 or more characters and cast to a list (fact_letters)\n",
    "# [ ] iterate fact, printing each char on one line, except for spaces print a new line\n",
    "\n"
   ]
  },
  {
   "cell_type": "markdown",
   "metadata": {
    "collapsed": true
   },
   "source": [
    "# &nbsp;  \n",
    "<font size=\"6\" color=\"#B24C00\"  face=\"verdana\"> <B>Task 20</B></font>  \n",
    "## Program: add the digits\n",
    "- create a 20 digit string, and cast to a list\n",
    "- then add all the digits as integers\n",
    "- print the equation and answer  \n",
    "\n",
    "Hint: use cast to sum the digits, and .join() to create the equation (1+2+3+...)"
   ]
  },
  {
   "cell_type": "code",
   "execution_count": null,
   "metadata": {},
   "outputs": [],
   "source": [
    "# [ ] create add the digits\n",
    "\n",
    "\n"
   ]
  },
  {
   "cell_type": "markdown",
   "metadata": {
    "collapsed": true
   },
   "source": [
    "© 2017 Microsoft adapted with persmission by Dominic Thomas"
   ]
  }
 ],
 "metadata": {
  "anaconda-cloud": {},
  "kernelspec": {
   "display_name": "Python 3.9.12 ('base')",
   "language": "python",
   "name": "python3"
  },
  "language_info": {
   "codemirror_mode": {
    "name": "ipython",
    "version": 3
   },
   "file_extension": ".py",
   "mimetype": "text/x-python",
   "name": "python",
   "nbconvert_exporter": "python",
   "pygments_lexer": "ipython3",
   "version": "3.9.12"
  },
  "vscode": {
   "interpreter": {
    "hash": "5c63ba0b8f8ad222cc0b06bdcd9f04f10ed843d7f084a2f46bb405b77fc04261"
   }
  }
 },
 "nbformat": 4,
 "nbformat_minor": 1
}
